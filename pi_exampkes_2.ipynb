{
 "cells": [
  {
   "cell_type": "code",
   "execution_count": 1,
   "id": "a42be4cd",
   "metadata": {},
   "outputs": [],
   "source": [
    "import pandas as pd\n",
    "import numpy as np \n",
    "import matplotlib.pyplot as plt\n",
    "from sklearn import preprocessing\n"
   ]
  },
  {
   "cell_type": "code",
   "execution_count": 7,
   "id": "8ece1da0",
   "metadata": {},
   "outputs": [
    {
     "name": "stdout",
     "output_type": "stream",
     "text": [
      "education\n",
      "HS-grad         14197\n",
      "Some-college     9790\n",
      "Bachelors        7219\n",
      "Masters          2392\n",
      "Assoc-voc        1831\n",
      "11th             1647\n",
      "Assoc-acdm       1447\n",
      "10th             1250\n",
      "7th-8th           862\n",
      "Prof-school       748\n",
      "9th               684\n",
      "12th              587\n",
      "Doctorate         536\n",
      "5th-6th           468\n",
      "1st-4th           223\n",
      "Preschool          76\n",
      "Name: count, dtype: int64\n"
     ]
    }
   ],
   "source": [
    "# load dataset - census income\n",
    "census_income = pd.read_csv(r'./datasets/train.csv')\n",
    "print(census_income[\"education\"].value_counts())"
   ]
  },
  {
   "cell_type": "code",
   "execution_count": 12,
   "id": "40586a25",
   "metadata": {},
   "outputs": [
    {
     "name": "stdout",
     "output_type": "stream",
     "text": [
      "<class 'pandas.core.frame.DataFrame'>\n",
      "RangeIndex: 43957 entries, 0 to 43956\n",
      "Data columns (total 16 columns):\n",
      " #   Column        Non-Null Count  Dtype  \n",
      "---  ------        --------------  -----  \n",
      " 0   10th          43957 non-null  float64\n",
      " 1   11th          43957 non-null  float64\n",
      " 2   12th          43957 non-null  float64\n",
      " 3   1st-4th       43957 non-null  float64\n",
      " 4   5th-6th       43957 non-null  float64\n",
      " 5   7th-8th       43957 non-null  float64\n",
      " 6   9th           43957 non-null  float64\n",
      " 7   Assoc-acdm    43957 non-null  float64\n",
      " 8   Assoc-voc     43957 non-null  float64\n",
      " 9   Bachelors     43957 non-null  float64\n",
      " 10  Doctorate     43957 non-null  float64\n",
      " 11  HS-grad       43957 non-null  float64\n",
      " 12  Masters       43957 non-null  float64\n",
      " 13  Preschool     43957 non-null  float64\n",
      " 14  Prof-school   43957 non-null  float64\n",
      " 15  Some-college  43957 non-null  float64\n",
      "dtypes: float64(16)\n",
      "memory usage: 5.4 MB\n",
      "\n",
      " Sample values\n"
     ]
    },
    {
     "data": {
      "text/html": [
       "<div>\n",
       "<style scoped>\n",
       "    .dataframe tbody tr th:only-of-type {\n",
       "        vertical-align: middle;\n",
       "    }\n",
       "\n",
       "    .dataframe tbody tr th {\n",
       "        vertical-align: top;\n",
       "    }\n",
       "\n",
       "    .dataframe thead th {\n",
       "        text-align: right;\n",
       "    }\n",
       "</style>\n",
       "<table border=\"1\" class=\"dataframe\">\n",
       "  <thead>\n",
       "    <tr style=\"text-align: right;\">\n",
       "      <th></th>\n",
       "      <th>10th</th>\n",
       "      <th>11th</th>\n",
       "      <th>12th</th>\n",
       "      <th>1st-4th</th>\n",
       "      <th>5th-6th</th>\n",
       "      <th>7th-8th</th>\n",
       "      <th>9th</th>\n",
       "      <th>Assoc-acdm</th>\n",
       "      <th>Assoc-voc</th>\n",
       "      <th>Bachelors</th>\n",
       "      <th>Doctorate</th>\n",
       "      <th>HS-grad</th>\n",
       "      <th>Masters</th>\n",
       "      <th>Preschool</th>\n",
       "      <th>Prof-school</th>\n",
       "      <th>Some-college</th>\n",
       "    </tr>\n",
       "  </thead>\n",
       "  <tbody>\n",
       "    <tr>\n",
       "      <th>0</th>\n",
       "      <td>0.0</td>\n",
       "      <td>0.0</td>\n",
       "      <td>0.0</td>\n",
       "      <td>0.0</td>\n",
       "      <td>0.0</td>\n",
       "      <td>0.0</td>\n",
       "      <td>0.0</td>\n",
       "      <td>0.0</td>\n",
       "      <td>0.0</td>\n",
       "      <td>0.0</td>\n",
       "      <td>1.0</td>\n",
       "      <td>0.0</td>\n",
       "      <td>0.0</td>\n",
       "      <td>0.0</td>\n",
       "      <td>0.0</td>\n",
       "      <td>0.0</td>\n",
       "    </tr>\n",
       "    <tr>\n",
       "      <th>1</th>\n",
       "      <td>0.0</td>\n",
       "      <td>0.0</td>\n",
       "      <td>1.0</td>\n",
       "      <td>0.0</td>\n",
       "      <td>0.0</td>\n",
       "      <td>0.0</td>\n",
       "      <td>0.0</td>\n",
       "      <td>0.0</td>\n",
       "      <td>0.0</td>\n",
       "      <td>0.0</td>\n",
       "      <td>0.0</td>\n",
       "      <td>0.0</td>\n",
       "      <td>0.0</td>\n",
       "      <td>0.0</td>\n",
       "      <td>0.0</td>\n",
       "      <td>0.0</td>\n",
       "    </tr>\n",
       "    <tr>\n",
       "      <th>2</th>\n",
       "      <td>0.0</td>\n",
       "      <td>0.0</td>\n",
       "      <td>0.0</td>\n",
       "      <td>0.0</td>\n",
       "      <td>0.0</td>\n",
       "      <td>0.0</td>\n",
       "      <td>0.0</td>\n",
       "      <td>0.0</td>\n",
       "      <td>0.0</td>\n",
       "      <td>1.0</td>\n",
       "      <td>0.0</td>\n",
       "      <td>0.0</td>\n",
       "      <td>0.0</td>\n",
       "      <td>0.0</td>\n",
       "      <td>0.0</td>\n",
       "      <td>0.0</td>\n",
       "    </tr>\n",
       "  </tbody>\n",
       "</table>\n",
       "</div>"
      ],
      "text/plain": [
       "   10th  11th  12th  1st-4th  5th-6th  7th-8th  9th  Assoc-acdm  Assoc-voc  \\\n",
       "0   0.0   0.0   0.0      0.0      0.0      0.0  0.0         0.0        0.0   \n",
       "1   0.0   0.0   1.0      0.0      0.0      0.0  0.0         0.0        0.0   \n",
       "2   0.0   0.0   0.0      0.0      0.0      0.0  0.0         0.0        0.0   \n",
       "\n",
       "   Bachelors  Doctorate  HS-grad  Masters  Preschool  Prof-school  \\\n",
       "0        0.0        1.0      0.0      0.0        0.0          0.0   \n",
       "1        0.0        0.0      0.0      0.0        0.0          0.0   \n",
       "2        1.0        0.0      0.0      0.0        0.0          0.0   \n",
       "\n",
       "   Some-college  \n",
       "0           0.0  \n",
       "1           0.0  \n",
       "2           0.0  "
      ]
     },
     "execution_count": 12,
     "metadata": {},
     "output_type": "execute_result"
    }
   ],
   "source": [
    "from sklearn.preprocessing import OneHotEncoder\n",
    "from seaborn import load_dataset\n",
    "\n",
    "ohe = OneHotEncoder()\n",
    "ohe.fit(census_income[['education']])\n",
    "\n",
    "education_one_hot_sklearn = pd.DataFrame(ohe.transform(census_income[[\"education\"]]).toarray(), columns=ohe.categories_[0])\n",
    "education_one_hot_sklearn.info()\n",
    "print(\"\\n Sample values\")\n",
    "education_one_hot_sklearn.head(3)"
   ]
  },
  {
   "cell_type": "code",
   "execution_count": 8,
   "id": "f1743432",
   "metadata": {},
   "outputs": [
    {
     "name": "stdout",
     "output_type": "stream",
     "text": [
      "<class 'pandas.core.frame.DataFrame'>\n",
      "RangeIndex: 43957 entries, 0 to 43956\n",
      "Data columns (total 15 columns):\n",
      " #   Column           Non-Null Count  Dtype \n",
      "---  ------           --------------  ----- \n",
      " 0   age              43957 non-null  int64 \n",
      " 1   workclass        41459 non-null  object\n",
      " 2   fnlwgt           43957 non-null  int64 \n",
      " 3   education        43957 non-null  object\n",
      " 4   educational-num  43957 non-null  int64 \n",
      " 5   marital-status   43957 non-null  object\n",
      " 6   occupation       41451 non-null  object\n",
      " 7   relationship     43957 non-null  object\n",
      " 8   race             43957 non-null  object\n",
      " 9   gender           43957 non-null  object\n",
      " 10  capital-gain     43957 non-null  int64 \n",
      " 11  capital-loss     43957 non-null  int64 \n",
      " 12  hours-per-week   43957 non-null  int64 \n",
      " 13  native-country   43194 non-null  object\n",
      " 14  income_>50K      43957 non-null  int64 \n",
      "dtypes: int64(7), object(8)\n",
      "memory usage: 5.0+ MB\n",
      "None\n"
     ]
    }
   ],
   "source": [
    "print(census_income.info())"
   ]
  },
  {
   "cell_type": "code",
   "execution_count": 13,
   "id": "09319280",
   "metadata": {},
   "outputs": [
    {
     "data": {
      "text/html": [
       "<div>\n",
       "<style scoped>\n",
       "    .dataframe tbody tr th:only-of-type {\n",
       "        vertical-align: middle;\n",
       "    }\n",
       "\n",
       "    .dataframe tbody tr th {\n",
       "        vertical-align: top;\n",
       "    }\n",
       "\n",
       "    .dataframe thead th {\n",
       "        text-align: right;\n",
       "    }\n",
       "</style>\n",
       "<table border=\"1\" class=\"dataframe\">\n",
       "  <thead>\n",
       "    <tr style=\"text-align: right;\">\n",
       "      <th></th>\n",
       "      <th>education</th>\n",
       "      <th>education_hash</th>\n",
       "    </tr>\n",
       "  </thead>\n",
       "  <tbody>\n",
       "    <tr>\n",
       "      <th>0</th>\n",
       "      <td>10th</td>\n",
       "      <td>611946777</td>\n",
       "    </tr>\n",
       "    <tr>\n",
       "      <th>1</th>\n",
       "      <td>11th</td>\n",
       "      <td>1907886797</td>\n",
       "    </tr>\n",
       "    <tr>\n",
       "      <th>2</th>\n",
       "      <td>12th</td>\n",
       "      <td>960033297</td>\n",
       "    </tr>\n",
       "    <tr>\n",
       "      <th>3</th>\n",
       "      <td>1st-4th</td>\n",
       "      <td>-918906142</td>\n",
       "    </tr>\n",
       "    <tr>\n",
       "      <th>4</th>\n",
       "      <td>5th-6th</td>\n",
       "      <td>211780192</td>\n",
       "    </tr>\n",
       "    <tr>\n",
       "      <th>5</th>\n",
       "      <td>7th-8th</td>\n",
       "      <td>-1858991020</td>\n",
       "    </tr>\n",
       "    <tr>\n",
       "      <th>6</th>\n",
       "      <td>9th</td>\n",
       "      <td>1219543683</td>\n",
       "    </tr>\n",
       "    <tr>\n",
       "      <th>7</th>\n",
       "      <td>Assoc-acdm</td>\n",
       "      <td>-1621657589</td>\n",
       "    </tr>\n",
       "    <tr>\n",
       "      <th>8</th>\n",
       "      <td>Assoc-voc</td>\n",
       "      <td>334383773</td>\n",
       "    </tr>\n",
       "    <tr>\n",
       "      <th>9</th>\n",
       "      <td>Bachelors</td>\n",
       "      <td>-1182795914</td>\n",
       "    </tr>\n",
       "    <tr>\n",
       "      <th>10</th>\n",
       "      <td>Doctorate</td>\n",
       "      <td>325975461</td>\n",
       "    </tr>\n",
       "    <tr>\n",
       "      <th>11</th>\n",
       "      <td>HS-grad</td>\n",
       "      <td>-221332533</td>\n",
       "    </tr>\n",
       "    <tr>\n",
       "      <th>12</th>\n",
       "      <td>Masters</td>\n",
       "      <td>387459256</td>\n",
       "    </tr>\n",
       "    <tr>\n",
       "      <th>13</th>\n",
       "      <td>Preschool</td>\n",
       "      <td>556701269</td>\n",
       "    </tr>\n",
       "    <tr>\n",
       "      <th>14</th>\n",
       "      <td>Prof-school</td>\n",
       "      <td>-1597813725</td>\n",
       "    </tr>\n",
       "    <tr>\n",
       "      <th>15</th>\n",
       "      <td>Some-college</td>\n",
       "      <td>1210481717</td>\n",
       "    </tr>\n",
       "  </tbody>\n",
       "</table>\n",
       "</div>"
      ],
      "text/plain": [
       "       education  education_hash\n",
       "0           10th       611946777\n",
       "1           11th      1907886797\n",
       "2           12th       960033297\n",
       "3        1st-4th      -918906142\n",
       "4        5th-6th       211780192\n",
       "5        7th-8th     -1858991020\n",
       "6            9th      1219543683\n",
       "7     Assoc-acdm     -1621657589\n",
       "8      Assoc-voc       334383773\n",
       "9      Bachelors     -1182795914\n",
       "10     Doctorate       325975461\n",
       "11       HS-grad      -221332533\n",
       "12       Masters       387459256\n",
       "13     Preschool       556701269\n",
       "14   Prof-school     -1597813725\n",
       "15  Some-college      1210481717"
      ]
     },
     "execution_count": 13,
     "metadata": {},
     "output_type": "execute_result"
    }
   ],
   "source": [
    "import sklearn.utils\n",
    "\n",
    "\n",
    "education_feature = census_income.groupby(by=[\"education\"]).count().reset_index()[\"education\"].to_frame()\n",
    "\n",
    "############################################################################################################\n",
    "# Apply the hash function, here MurmurHash3 \n",
    "############################################################################################################\n",
    "def hash_function(row):\n",
    "    return(sklearn.utils.murmurhash3_32(row.education))\n",
    "\n",
    "education_feature[\"education_hash\"] = education_feature.apply(hash_function, axis=1)\n",
    "education_feature"
   ]
  },
  {
   "cell_type": "code",
   "execution_count": 14,
   "id": "6a236bd0",
   "metadata": {},
   "outputs": [
    {
     "data": {
      "text/html": [
       "<div>\n",
       "<style scoped>\n",
       "    .dataframe tbody tr th:only-of-type {\n",
       "        vertical-align: middle;\n",
       "    }\n",
       "\n",
       "    .dataframe tbody tr th {\n",
       "        vertical-align: top;\n",
       "    }\n",
       "\n",
       "    .dataframe thead th {\n",
       "        text-align: right;\n",
       "    }\n",
       "</style>\n",
       "<table border=\"1\" class=\"dataframe\">\n",
       "  <thead>\n",
       "    <tr style=\"text-align: right;\">\n",
       "      <th></th>\n",
       "      <th>education</th>\n",
       "      <th>education_hash</th>\n",
       "      <th>education_hash_mod</th>\n",
       "    </tr>\n",
       "  </thead>\n",
       "  <tbody>\n",
       "    <tr>\n",
       "      <th>0</th>\n",
       "      <td>10th</td>\n",
       "      <td>611946777</td>\n",
       "      <td>1</td>\n",
       "    </tr>\n",
       "    <tr>\n",
       "      <th>1</th>\n",
       "      <td>11th</td>\n",
       "      <td>1907886797</td>\n",
       "      <td>5</td>\n",
       "    </tr>\n",
       "    <tr>\n",
       "      <th>2</th>\n",
       "      <td>12th</td>\n",
       "      <td>960033297</td>\n",
       "      <td>1</td>\n",
       "    </tr>\n",
       "    <tr>\n",
       "      <th>3</th>\n",
       "      <td>1st-4th</td>\n",
       "      <td>-918906142</td>\n",
       "      <td>6</td>\n",
       "    </tr>\n",
       "    <tr>\n",
       "      <th>4</th>\n",
       "      <td>5th-6th</td>\n",
       "      <td>211780192</td>\n",
       "      <td>0</td>\n",
       "    </tr>\n",
       "    <tr>\n",
       "      <th>5</th>\n",
       "      <td>7th-8th</td>\n",
       "      <td>-1858991020</td>\n",
       "      <td>4</td>\n",
       "    </tr>\n",
       "    <tr>\n",
       "      <th>6</th>\n",
       "      <td>9th</td>\n",
       "      <td>1219543683</td>\n",
       "      <td>3</td>\n",
       "    </tr>\n",
       "    <tr>\n",
       "      <th>7</th>\n",
       "      <td>Assoc-acdm</td>\n",
       "      <td>-1621657589</td>\n",
       "      <td>5</td>\n",
       "    </tr>\n",
       "    <tr>\n",
       "      <th>8</th>\n",
       "      <td>Assoc-voc</td>\n",
       "      <td>334383773</td>\n",
       "      <td>5</td>\n",
       "    </tr>\n",
       "    <tr>\n",
       "      <th>9</th>\n",
       "      <td>Bachelors</td>\n",
       "      <td>-1182795914</td>\n",
       "      <td>2</td>\n",
       "    </tr>\n",
       "    <tr>\n",
       "      <th>10</th>\n",
       "      <td>Doctorate</td>\n",
       "      <td>325975461</td>\n",
       "      <td>5</td>\n",
       "    </tr>\n",
       "    <tr>\n",
       "      <th>11</th>\n",
       "      <td>HS-grad</td>\n",
       "      <td>-221332533</td>\n",
       "      <td>5</td>\n",
       "    </tr>\n",
       "    <tr>\n",
       "      <th>12</th>\n",
       "      <td>Masters</td>\n",
       "      <td>387459256</td>\n",
       "      <td>0</td>\n",
       "    </tr>\n",
       "    <tr>\n",
       "      <th>13</th>\n",
       "      <td>Preschool</td>\n",
       "      <td>556701269</td>\n",
       "      <td>5</td>\n",
       "    </tr>\n",
       "    <tr>\n",
       "      <th>14</th>\n",
       "      <td>Prof-school</td>\n",
       "      <td>-1597813725</td>\n",
       "      <td>5</td>\n",
       "    </tr>\n",
       "    <tr>\n",
       "      <th>15</th>\n",
       "      <td>Some-college</td>\n",
       "      <td>1210481717</td>\n",
       "      <td>5</td>\n",
       "    </tr>\n",
       "  </tbody>\n",
       "</table>\n",
       "</div>"
      ],
      "text/plain": [
       "       education  education_hash  education_hash_mod\n",
       "0           10th       611946777                   1\n",
       "1           11th      1907886797                   5\n",
       "2           12th       960033297                   1\n",
       "3        1st-4th      -918906142                   6\n",
       "4        5th-6th       211780192                   0\n",
       "5        7th-8th     -1858991020                   4\n",
       "6            9th      1219543683                   3\n",
       "7     Assoc-acdm     -1621657589                   5\n",
       "8      Assoc-voc       334383773                   5\n",
       "9      Bachelors     -1182795914                   2\n",
       "10     Doctorate       325975461                   5\n",
       "11       HS-grad      -221332533                   5\n",
       "12       Masters       387459256                   0\n",
       "13     Preschool       556701269                   5\n",
       "14   Prof-school     -1597813725                   5\n",
       "15  Some-college      1210481717                   5"
      ]
     },
     "execution_count": 14,
     "metadata": {},
     "output_type": "execute_result"
    }
   ],
   "source": [
    "n_features = 8\n",
    "\n",
    "def mod_function(row):\n",
    "    return(abs(row.education_hash) % n_features)\n",
    "\n",
    "education_feature[\"education_hash_mod\"] = education_feature.apply(mod_function, axis=1)\n",
    "education_feature"
   ]
  },
  {
   "cell_type": "code",
   "execution_count": 15,
   "id": "ab8363cd",
   "metadata": {},
   "outputs": [
    {
     "data": {
      "text/html": [
       "<div>\n",
       "<style scoped>\n",
       "    .dataframe tbody tr th:only-of-type {\n",
       "        vertical-align: middle;\n",
       "    }\n",
       "\n",
       "    .dataframe tbody tr th {\n",
       "        vertical-align: top;\n",
       "    }\n",
       "\n",
       "    .dataframe thead th {\n",
       "        text-align: right;\n",
       "    }\n",
       "</style>\n",
       "<table border=\"1\" class=\"dataframe\">\n",
       "  <thead>\n",
       "    <tr style=\"text-align: right;\">\n",
       "      <th></th>\n",
       "      <th>0</th>\n",
       "      <th>1</th>\n",
       "      <th>2</th>\n",
       "      <th>3</th>\n",
       "      <th>4</th>\n",
       "      <th>5</th>\n",
       "      <th>6</th>\n",
       "      <th>7</th>\n",
       "      <th>education</th>\n",
       "    </tr>\n",
       "  </thead>\n",
       "  <tbody>\n",
       "    <tr>\n",
       "      <th>0</th>\n",
       "      <td>0.0</td>\n",
       "      <td>1.0</td>\n",
       "      <td>0.0</td>\n",
       "      <td>0.0</td>\n",
       "      <td>0.0</td>\n",
       "      <td>0.0</td>\n",
       "      <td>0.0</td>\n",
       "      <td>0.0</td>\n",
       "      <td>10th</td>\n",
       "    </tr>\n",
       "    <tr>\n",
       "      <th>1</th>\n",
       "      <td>0.0</td>\n",
       "      <td>0.0</td>\n",
       "      <td>0.0</td>\n",
       "      <td>0.0</td>\n",
       "      <td>0.0</td>\n",
       "      <td>1.0</td>\n",
       "      <td>0.0</td>\n",
       "      <td>0.0</td>\n",
       "      <td>11th</td>\n",
       "    </tr>\n",
       "    <tr>\n",
       "      <th>2</th>\n",
       "      <td>0.0</td>\n",
       "      <td>1.0</td>\n",
       "      <td>0.0</td>\n",
       "      <td>0.0</td>\n",
       "      <td>0.0</td>\n",
       "      <td>0.0</td>\n",
       "      <td>0.0</td>\n",
       "      <td>0.0</td>\n",
       "      <td>12th</td>\n",
       "    </tr>\n",
       "    <tr>\n",
       "      <th>3</th>\n",
       "      <td>0.0</td>\n",
       "      <td>0.0</td>\n",
       "      <td>0.0</td>\n",
       "      <td>1.0</td>\n",
       "      <td>0.0</td>\n",
       "      <td>0.0</td>\n",
       "      <td>1.0</td>\n",
       "      <td>0.0</td>\n",
       "      <td>1st-4th</td>\n",
       "    </tr>\n",
       "    <tr>\n",
       "      <th>4</th>\n",
       "      <td>0.0</td>\n",
       "      <td>1.0</td>\n",
       "      <td>0.0</td>\n",
       "      <td>0.0</td>\n",
       "      <td>1.0</td>\n",
       "      <td>0.0</td>\n",
       "      <td>0.0</td>\n",
       "      <td>0.0</td>\n",
       "      <td>5th-6th</td>\n",
       "    </tr>\n",
       "    <tr>\n",
       "      <th>5</th>\n",
       "      <td>0.0</td>\n",
       "      <td>0.0</td>\n",
       "      <td>0.0</td>\n",
       "      <td>1.0</td>\n",
       "      <td>1.0</td>\n",
       "      <td>0.0</td>\n",
       "      <td>0.0</td>\n",
       "      <td>0.0</td>\n",
       "      <td>7th-8th</td>\n",
       "    </tr>\n",
       "    <tr>\n",
       "      <th>6</th>\n",
       "      <td>0.0</td>\n",
       "      <td>0.0</td>\n",
       "      <td>0.0</td>\n",
       "      <td>1.0</td>\n",
       "      <td>0.0</td>\n",
       "      <td>0.0</td>\n",
       "      <td>0.0</td>\n",
       "      <td>0.0</td>\n",
       "      <td>9th</td>\n",
       "    </tr>\n",
       "    <tr>\n",
       "      <th>7</th>\n",
       "      <td>0.0</td>\n",
       "      <td>1.0</td>\n",
       "      <td>0.0</td>\n",
       "      <td>0.0</td>\n",
       "      <td>0.0</td>\n",
       "      <td>0.0</td>\n",
       "      <td>1.0</td>\n",
       "      <td>0.0</td>\n",
       "      <td>Assoc-acdm</td>\n",
       "    </tr>\n",
       "    <tr>\n",
       "      <th>8</th>\n",
       "      <td>0.0</td>\n",
       "      <td>0.0</td>\n",
       "      <td>1.0</td>\n",
       "      <td>0.0</td>\n",
       "      <td>0.0</td>\n",
       "      <td>0.0</td>\n",
       "      <td>1.0</td>\n",
       "      <td>0.0</td>\n",
       "      <td>Assoc-voc</td>\n",
       "    </tr>\n",
       "    <tr>\n",
       "      <th>9</th>\n",
       "      <td>0.0</td>\n",
       "      <td>0.0</td>\n",
       "      <td>1.0</td>\n",
       "      <td>0.0</td>\n",
       "      <td>0.0</td>\n",
       "      <td>0.0</td>\n",
       "      <td>0.0</td>\n",
       "      <td>0.0</td>\n",
       "      <td>Bachelors</td>\n",
       "    </tr>\n",
       "    <tr>\n",
       "      <th>10</th>\n",
       "      <td>0.0</td>\n",
       "      <td>0.0</td>\n",
       "      <td>1.0</td>\n",
       "      <td>0.0</td>\n",
       "      <td>0.0</td>\n",
       "      <td>0.0</td>\n",
       "      <td>0.0</td>\n",
       "      <td>0.0</td>\n",
       "      <td>Doctorate</td>\n",
       "    </tr>\n",
       "    <tr>\n",
       "      <th>11</th>\n",
       "      <td>0.0</td>\n",
       "      <td>0.0</td>\n",
       "      <td>1.0</td>\n",
       "      <td>0.0</td>\n",
       "      <td>0.0</td>\n",
       "      <td>0.0</td>\n",
       "      <td>1.0</td>\n",
       "      <td>0.0</td>\n",
       "      <td>HS-grad</td>\n",
       "    </tr>\n",
       "    <tr>\n",
       "      <th>12</th>\n",
       "      <td>0.0</td>\n",
       "      <td>0.0</td>\n",
       "      <td>0.0</td>\n",
       "      <td>0.0</td>\n",
       "      <td>0.0</td>\n",
       "      <td>0.0</td>\n",
       "      <td>1.0</td>\n",
       "      <td>0.0</td>\n",
       "      <td>Masters</td>\n",
       "    </tr>\n",
       "    <tr>\n",
       "      <th>13</th>\n",
       "      <td>0.0</td>\n",
       "      <td>0.0</td>\n",
       "      <td>0.0</td>\n",
       "      <td>0.0</td>\n",
       "      <td>0.0</td>\n",
       "      <td>0.0</td>\n",
       "      <td>1.0</td>\n",
       "      <td>0.0</td>\n",
       "      <td>Preschool</td>\n",
       "    </tr>\n",
       "    <tr>\n",
       "      <th>14</th>\n",
       "      <td>0.0</td>\n",
       "      <td>0.0</td>\n",
       "      <td>0.0</td>\n",
       "      <td>1.0</td>\n",
       "      <td>1.0</td>\n",
       "      <td>0.0</td>\n",
       "      <td>0.0</td>\n",
       "      <td>0.0</td>\n",
       "      <td>Prof-school</td>\n",
       "    </tr>\n",
       "    <tr>\n",
       "      <th>15</th>\n",
       "      <td>0.0</td>\n",
       "      <td>0.0</td>\n",
       "      <td>0.0</td>\n",
       "      <td>0.0</td>\n",
       "      <td>1.0</td>\n",
       "      <td>0.0</td>\n",
       "      <td>0.0</td>\n",
       "      <td>1.0</td>\n",
       "      <td>Some-college</td>\n",
       "    </tr>\n",
       "  </tbody>\n",
       "</table>\n",
       "</div>"
      ],
      "text/plain": [
       "      0    1    2    3    4    5    6    7     education\n",
       "0   0.0  1.0  0.0  0.0  0.0  0.0  0.0  0.0          10th\n",
       "1   0.0  0.0  0.0  0.0  0.0  1.0  0.0  0.0          11th\n",
       "2   0.0  1.0  0.0  0.0  0.0  0.0  0.0  0.0          12th\n",
       "3   0.0  0.0  0.0  1.0  0.0  0.0  1.0  0.0       1st-4th\n",
       "4   0.0  1.0  0.0  0.0  1.0  0.0  0.0  0.0       5th-6th\n",
       "5   0.0  0.0  0.0  1.0  1.0  0.0  0.0  0.0       7th-8th\n",
       "6   0.0  0.0  0.0  1.0  0.0  0.0  0.0  0.0           9th\n",
       "7   0.0  1.0  0.0  0.0  0.0  0.0  1.0  0.0    Assoc-acdm\n",
       "8   0.0  0.0  1.0  0.0  0.0  0.0  1.0  0.0     Assoc-voc\n",
       "9   0.0  0.0  1.0  0.0  0.0  0.0  0.0  0.0     Bachelors\n",
       "10  0.0  0.0  1.0  0.0  0.0  0.0  0.0  0.0     Doctorate\n",
       "11  0.0  0.0  1.0  0.0  0.0  0.0  1.0  0.0       HS-grad\n",
       "12  0.0  0.0  0.0  0.0  0.0  0.0  1.0  0.0       Masters\n",
       "13  0.0  0.0  0.0  0.0  0.0  0.0  1.0  0.0     Preschool\n",
       "14  0.0  0.0  0.0  1.0  1.0  0.0  0.0  0.0   Prof-school\n",
       "15  0.0  0.0  0.0  0.0  1.0  0.0  0.0  1.0  Some-college"
      ]
     },
     "metadata": {},
     "output_type": "display_data"
    }
   ],
   "source": [
    "from sklearn.feature_extraction.text import HashingVectorizer\n",
    "\n",
    "# define Feature Hashing Vectorizer\n",
    "vectorizer = HashingVectorizer(n_features=8, norm=None, alternate_sign=False, ngram_range=(1,1), binary=True)\n",
    "\n",
    "# fit the hashing vectorizer and transform the education column\n",
    "X = vectorizer.fit_transform(education_feature[\"education\"])\n",
    "\n",
    "# transformed and raw column to data frame\n",
    "df = pd.DataFrame(X.toarray()).assign(education = education_feature[\"education\"])\n",
    "display(df)"
   ]
  },
  {
   "cell_type": "code",
   "execution_count": 23,
   "id": "bf4dfe1a",
   "metadata": {},
   "outputs": [
    {
     "name": "stderr",
     "output_type": "stream",
     "text": [
      "C:\\Users\\2389\\AppData\\Local\\Temp\\ipykernel_30700\\2130112607.py:15: DtypeWarning: Columns (2,3,4,7) have mixed types. Specify dtype option on import or set low_memory=False.\n",
      "  df = pd.read_csv(\"./datasets/WPP2022_TotalPopulationBySex.csv\")\n"
     ]
    },
    {
     "name": "stdout",
     "output_type": "stream",
     "text": [
      "count       508.000000\n",
      "mean       9876.030630\n",
      "std       18863.546234\n",
      "min           0.000440\n",
      "25%          73.567681\n",
      "50%        1262.981164\n",
      "75%       12359.583167\n",
      "max      130404.352049\n",
      "Name: Area, dtype: float64\n",
      "\n",
      "\n",
      "==================================================\n",
      "             Area\n",
      "count  508.000000\n",
      "mean     2.862276\n",
      "std      1.444361\n",
      "min      0.000191\n",
      "25%      1.872507\n",
      "50%      3.101739\n",
      "75%      4.092032\n",
      "max      5.115295\n"
     ]
    },
    {
     "name": "stderr",
     "output_type": "stream",
     "text": [
      "C:\\Users\\2389\\AppData\\Local\\Temp\\ipykernel_30700\\2130112607.py:64: UserWarning: FigureCanvasAgg is non-interactive, and thus cannot be shown\n",
      "  fig.show()\n"
     ]
    },
    {
     "data": {
      "image/png": "[encoded data removed]",
      "text/plain": [
       "<Figure size 1850x1050 with 2 Axes>"
      ]
     },
     "metadata": {},
     "output_type": "display_data"
    }
   ],
   "source": [
    "from scipy import stats\n",
    "import seaborn as sns\n",
    "\n",
    "def plot_transformer(chosen_dataset, chosen_transformation, chosen_feature = None, box_cox_lambda = 0):\n",
    "    plt.rcParams['font.size'] = '16'\n",
    "    sns.set_style(\"darkgrid\", {\"axes.facecolor\": \".9\"})\n",
    "\n",
    "    ##################################################################################################\n",
    "    # choose dataset\n",
    "    ##################################################################################################\n",
    "    if chosen_dataset == \"Online News Popularity\":\n",
    "        df = pd.read_csv(\"./datasets/OnlineNewsPopularity.csv\")\n",
    "        X_feature = \" n_tokens_content\"\n",
    "    elif chosen_dataset == \"World Population\":\n",
    "        df = pd.read_csv(\"./datasets/WPP2022_TotalPopulationBySex.csv\")\n",
    "        df = df[df[\"Time\"]==2020]\n",
    "        df[\"Area\"] = df[\"PopTotal\"] / df[\"PopDensity\"]\n",
    "        X_feature = \"Area\"\n",
    "    elif chosen_dataset == \"Housing Data\":\n",
    "        df = pd.read_csv(\"../datasets/HousingData.csv\")\n",
    "        X_feature = \"AGE\"\n",
    "        \n",
    "    # in case you want to plot the histogram for another feature\n",
    "    if chosen_feature != None:\n",
    "        X_feature = chosen_feature\n",
    "\n",
    "    ##################################################################################################\n",
    "    # choose type of transformation\n",
    "    ##################################################################################################\n",
    "    #chosen_transformation = \"box-cox\" #\"log\", \"box-cox\"\n",
    "\n",
    "    if chosen_transformation == \"log\":\n",
    "        def transform_feature(df, X_feature):\n",
    "            # We add 1 to number_of_words to make sure we don't have a null value in the column to be transformed (0-> -inf) \n",
    "            return (np.log10(1+ df[[X_feature]]))\n",
    "        \n",
    "    elif chosen_transformation == \"box-cox\":\n",
    "        def transform_feature(df, X_feature):\n",
    "            return stats.boxcox(df[[X_feature]]+1, lmbda=box_cox_lambda)\n",
    "            #return stats.boxcox(df[X_feature]+1)\n",
    "\n",
    "    ##################################################################################################\n",
    "    # plot histogram to chosen dataset and X_feature\n",
    "    ##################################################################################################\n",
    "    # figure settings\n",
    "    fig, (ax1, ax2) = plt.subplots(2)\n",
    "    fig.set_size_inches(18.5, 10.5)\n",
    "\n",
    "    ax1.set_title(chosen_dataset)\n",
    "    ax1.hist(df[[X_feature]], 100, facecolor='black', ec=\"white\")\n",
    "    ax1.set_ylabel(f\"Count {X_feature}\")\n",
    "    ax1.set_xlabel(f\"{X_feature}\")\n",
    "\n",
    "    print(df[X_feature].describe())\n",
    "\n",
    "    ax2.hist(transform_feature(df, X_feature), 100, facecolor='black', ec=\"white\")\n",
    "    ax2.set_ylabel(f\"Count {X_feature}\")\n",
    "    ax2.set_xlabel(f\"{chosen_transformation} transformed {X_feature}\")\n",
    "\n",
    "    print(\"\\n\")\n",
    "    print(\"=\"*50)\n",
    "    print(transform_feature(df, X_feature).describe())\n",
    "\n",
    "    fig.show()\n",
    "\n",
    "plot_transformer(chosen_dataset = \"World Population\", chosen_transformation = \"log\")"
   ]
  },
  {
   "cell_type": "code",
   "execution_count": 36,
   "id": "da76b4cc",
   "metadata": {},
   "outputs": [
    {
     "ename": "ValueError",
     "evalue": "Mime type rendering requires nbformat>=4.2.0 but it is not installed",
     "output_type": "error",
     "traceback": [
      "\u001b[31m---------------------------------------------------------------------------\u001b[39m",
      "\u001b[31mValueError\u001b[39m                                Traceback (most recent call last)",
      "\u001b[36mFile \u001b[39m\u001b[32m~\\AppData\\Roaming\\Python\\Python313\\site-packages\\IPython\\core\\formatters.py:984\u001b[39m, in \u001b[36mIPythonDisplayFormatter.__call__\u001b[39m\u001b[34m(self, obj)\u001b[39m\n\u001b[32m    982\u001b[39m method = get_real_method(obj, \u001b[38;5;28mself\u001b[39m.print_method)\n\u001b[32m    983\u001b[39m \u001b[38;5;28;01mif\u001b[39;00m method \u001b[38;5;129;01mis\u001b[39;00m \u001b[38;5;129;01mnot\u001b[39;00m \u001b[38;5;28;01mNone\u001b[39;00m:\n\u001b[32m--> \u001b[39m\u001b[32m984\u001b[39m     \u001b[43mmethod\u001b[49m\u001b[43m(\u001b[49m\u001b[43m)\u001b[49m\n\u001b[32m    985\u001b[39m     \u001b[38;5;28;01mreturn\u001b[39;00m \u001b[38;5;28;01mTrue\u001b[39;00m\n",
      "\u001b[36mFile \u001b[39m\u001b[32mc:\\Python313\\Lib\\site-packages\\plotly\\basedatatypes.py:850\u001b[39m, in \u001b[36mBaseFigure._ipython_display_\u001b[39m\u001b[34m(self)\u001b[39m\n\u001b[32m    847\u001b[39m \u001b[38;5;28;01mimport\u001b[39;00m\u001b[38;5;250m \u001b[39m\u001b[34;01mplotly\u001b[39;00m\u001b[34;01m.\u001b[39;00m\u001b[34;01mio\u001b[39;00m\u001b[38;5;250m \u001b[39m\u001b[38;5;28;01mas\u001b[39;00m\u001b[38;5;250m \u001b[39m\u001b[34;01mpio\u001b[39;00m\n\u001b[32m    849\u001b[39m \u001b[38;5;28;01mif\u001b[39;00m pio.renderers.render_on_display \u001b[38;5;129;01mand\u001b[39;00m pio.renderers.default:\n\u001b[32m--> \u001b[39m\u001b[32m850\u001b[39m     \u001b[43mpio\u001b[49m\u001b[43m.\u001b[49m\u001b[43mshow\u001b[49m\u001b[43m(\u001b[49m\u001b[38;5;28;43mself\u001b[39;49m\u001b[43m)\u001b[49m\n\u001b[32m    851\u001b[39m \u001b[38;5;28;01melse\u001b[39;00m:\n\u001b[32m    852\u001b[39m     \u001b[38;5;28mprint\u001b[39m(\u001b[38;5;28mrepr\u001b[39m(\u001b[38;5;28mself\u001b[39m))\n",
      "\u001b[36mFile \u001b[39m\u001b[32mc:\\Python313\\Lib\\site-packages\\plotly\\io\\_renderers.py:415\u001b[39m, in \u001b[36mshow\u001b[39m\u001b[34m(fig, renderer, validate, **kwargs)\u001b[39m\n\u001b[32m    410\u001b[39m     \u001b[38;5;28;01mraise\u001b[39;00m \u001b[38;5;167;01mValueError\u001b[39;00m(\n\u001b[32m    411\u001b[39m         \u001b[33m\"\u001b[39m\u001b[33mMime type rendering requires ipython but it is not installed\u001b[39m\u001b[33m\"\u001b[39m\n\u001b[32m    412\u001b[39m     )\n\u001b[32m    414\u001b[39m \u001b[38;5;28;01mif\u001b[39;00m \u001b[38;5;129;01mnot\u001b[39;00m nbformat \u001b[38;5;129;01mor\u001b[39;00m Version(nbformat.__version__) < Version(\u001b[33m\"\u001b[39m\u001b[33m4.2.0\u001b[39m\u001b[33m\"\u001b[39m):\n\u001b[32m--> \u001b[39m\u001b[32m415\u001b[39m     \u001b[38;5;28;01mraise\u001b[39;00m \u001b[38;5;167;01mValueError\u001b[39;00m(\n\u001b[32m    416\u001b[39m         \u001b[33m\"\u001b[39m\u001b[33mMime type rendering requires nbformat>=4.2.0 but it is not installed\u001b[39m\u001b[33m\"\u001b[39m\n\u001b[32m    417\u001b[39m     )\n\u001b[32m    419\u001b[39m display_jupyter_version_warnings()\n\u001b[32m    421\u001b[39m ipython_display.display(bundle, raw=\u001b[38;5;28;01mTrue\u001b[39;00m)\n",
      "\u001b[31mValueError\u001b[39m: Mime type rendering requires nbformat>=4.2.0 but it is not installed"
     ]
    },
    {
     "data": {
      "application/vnd.plotly.v1+json": {
       "config": {
        "plotlyServerURL": "https://plot.ly"
       },
       "data": [
        {
         "hovertemplate": "y=class 2<br>x1=%{x}<br>x2=%{y}<extra></extra>",
         "legendgroup": "class 2",
         "marker": {
          "color": "black",
          "symbol": "circle"
         },
         "mode": "markers",
         "name": "class 2",
         "orientation": "v",
         "showlegend": true,
         "type": "scatter",
         "x": {
          "bdata": "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",
          "dtype": "f8"
         },
         "xaxis": "x",
         "y": {
          "bdata": "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",
          "dtype": "f8"
         },
         "yaxis": "y"
        },
        {
         "hovertemplate": "y=class 1<br>x1=%{x}<br>x2=%{y}<extra></extra>",
         "legendgroup": "class 1",
         "marker": {
          "color": "grey",
          "symbol": "circle"
         },
         "mode": "markers",
         "name": "class 1",
         "orientation": "v",
         "showlegend": true,
         "type": "scatter",
         "x": {
          "bdata": "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",
          "dtype": "f8"
         },
         "xaxis": "x",
         "y": {
          "bdata": "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",
          "dtype": "f8"
         },
         "yaxis": "y"
        }
       ],
       "layout": {
        "font": {
         "color": "Black",
         "family": "Arial",
         "size": 24
        },
        "height": 600,
        "legend": {
         "title": {
          "text": "y"
         },
         "tracegroupgap": 0
        },
        "margin": {
         "t": 60
        },
        "showlegend": true,
        "template": {
         "data": {
          "bar": [
           {
            "error_x": {
             "color": "#2a3f5f"
            },
            "error_y": {
             "color": "#2a3f5f"
            },
            "marker": {
             "line": {
              "color": "#E5ECF6",
              "width": 0.5
             },
             "pattern": {
              "fillmode": "overlay",
              "size": 10,
              "solidity": 0.2
             }
            },
            "type": "bar"
           }
          ],
          "barpolar": [
           {
            "marker": {
             "line": {
              "color": "#E5ECF6",
              "width": 0.5
             },
             "pattern": {
              "fillmode": "overlay",
              "size": 10,
              "solidity": 0.2
             }
            },
            "type": "barpolar"
           }
          ],
          "carpet": [
           {
            "aaxis": {
             "endlinecolor": "#2a3f5f",
             "gridcolor": "white",
             "linecolor": "white",
             "minorgridcolor": "white",
             "startlinecolor": "#2a3f5f"
            },
            "baxis": {
             "endlinecolor": "#2a3f5f",
             "gridcolor": "white",
             "linecolor": "white",
             "minorgridcolor": "white",
             "startlinecolor": "#2a3f5f"
            },
            "type": "carpet"
           }
          ],
          "choropleth": [
           {
            "colorbar": {
             "outlinewidth": 0,
             "ticks": ""
            },
            "type": "choropleth"
           }
          ],
          "contour": [
           {
            "colorbar": {
             "outlinewidth": 0,
             "ticks": ""
            },
            "colorscale": [
             [
              0,
              "#0d0887"
             ],
             [
              0.1111111111111111,
              "#46039f"
             ],
             [
              0.2222222222222222,
              "#7201a8"
             ],
             [
              0.3333333333333333,
              "#9c179e"
             ],
             [
              0.4444444444444444,
              "#bd3786"
             ],
             [
              0.5555555555555556,
              "#d8576b"
             ],
             [
              0.6666666666666666,
              "#ed7953"
             ],
             [
              0.7777777777777778,
              "#fb9f3a"
             ],
             [
              0.8888888888888888,
              "#fdca26"
             ],
             [
              1,
              "#f0f921"
             ]
            ],
            "type": "contour"
           }
          ],
          "contourcarpet": [
           {
            "colorbar": {
             "outlinewidth": 0,
             "ticks": ""
            },
            "type": "contourcarpet"
           }
          ],
          "heatmap": [
           {
            "colorbar": {
             "outlinewidth": 0,
             "ticks": ""
            },
            "colorscale": [
             [
              0,
              "#0d0887"
             ],
             [
              0.1111111111111111,
              "#46039f"
             ],
             [
              0.2222222222222222,
              "#7201a8"
             ],
             [
              0.3333333333333333,
              "#9c179e"
             ],
             [
              0.4444444444444444,
              "#bd3786"
             ],
             [
              0.5555555555555556,
              "#d8576b"
             ],
             [
              0.6666666666666666,
              "#ed7953"
             ],
             [
              0.7777777777777778,
              "#fb9f3a"
             ],
             [
              0.8888888888888888,
              "#fdca26"
             ],
             [
              1,
              "#f0f921"
             ]
            ],
            "type": "heatmap"
           }
          ],
          "histogram": [
           {
            "marker": {
             "pattern": {
              "fillmode": "overlay",
              "size": 10,
              "solidity": 0.2
             }
            },
            "type": "histogram"
           }
          ],
          "histogram2d": [
           {
            "colorbar": {
             "outlinewidth": 0,
             "ticks": ""
            },
            "colorscale": [
             [
              0,
              "#0d0887"
             ],
             [
              0.1111111111111111,
              "#46039f"
             ],
             [
              0.2222222222222222,
              "#7201a8"
             ],
             [
              0.3333333333333333,
              "#9c179e"
             ],
             [
              0.4444444444444444,
              "#bd3786"
             ],
             [
              0.5555555555555556,
              "#d8576b"
             ],
             [
              0.6666666666666666,
              "#ed7953"
             ],
             [
              0.7777777777777778,
              "#fb9f3a"
             ],
             [
              0.8888888888888888,
              "#fdca26"
             ],
             [
              1,
              "#f0f921"
             ]
            ],
            "type": "histogram2d"
           }
          ],
          "histogram2dcontour": [
           {
            "colorbar": {
             "outlinewidth": 0,
             "ticks": ""
            },
            "colorscale": [
             [
              0,
              "#0d0887"
             ],
             [
              0.1111111111111111,
              "#46039f"
             ],
             [
              0.2222222222222222,
              "#7201a8"
             ],
             [
              0.3333333333333333,
              "#9c179e"
             ],
             [
              0.4444444444444444,
              "#bd3786"
             ],
             [
              0.5555555555555556,
              "#d8576b"
             ],
             [
              0.6666666666666666,
              "#ed7953"
             ],
             [
              0.7777777777777778,
              "#fb9f3a"
             ],
             [
              0.8888888888888888,
              "#fdca26"
             ],
             [
              1,
              "#f0f921"
             ]
            ],
            "type": "histogram2dcontour"
           }
          ],
          "mesh3d": [
           {
            "colorbar": {
             "outlinewidth": 0,
             "ticks": ""
            },
            "type": "mesh3d"
           }
          ],
          "parcoords": [
           {
            "line": {
             "colorbar": {
              "outlinewidth": 0,
              "ticks": ""
             }
            },
            "type": "parcoords"
           }
          ],
          "pie": [
           {
            "automargin": true,
            "type": "pie"
           }
          ],
          "scatter": [
           {
            "fillpattern": {
             "fillmode": "overlay",
             "size": 10,
             "solidity": 0.2
            },
            "type": "scatter"
           }
          ],
          "scatter3d": [
           {
            "line": {
             "colorbar": {
              "outlinewidth": 0,
              "ticks": ""
             }
            },
            "marker": {
             "colorbar": {
              "outlinewidth": 0,
              "ticks": ""
             }
            },
            "type": "scatter3d"
           }
          ],
          "scattercarpet": [
           {
            "marker": {
             "colorbar": {
              "outlinewidth": 0,
              "ticks": ""
             }
            },
            "type": "scattercarpet"
           }
          ],
          "scattergeo": [
           {
            "marker": {
             "colorbar": {
              "outlinewidth": 0,
              "ticks": ""
             }
            },
            "type": "scattergeo"
           }
          ],
          "scattergl": [
           {
            "marker": {
             "colorbar": {
              "outlinewidth": 0,
              "ticks": ""
             }
            },
            "type": "scattergl"
           }
          ],
          "scattermap": [
           {
            "marker": {
             "colorbar": {
              "outlinewidth": 0,
              "ticks": ""
             }
            },
            "type": "scattermap"
           }
          ],
          "scattermapbox": [
           {
            "marker": {
             "colorbar": {
              "outlinewidth": 0,
              "ticks": ""
             }
            },
            "type": "scattermapbox"
           }
          ],
          "scatterpolar": [
           {
            "marker": {
             "colorbar": {
              "outlinewidth": 0,
              "ticks": ""
             }
            },
            "type": "scatterpolar"
           }
          ],
          "scatterpolargl": [
           {
            "marker": {
             "colorbar": {
              "outlinewidth": 0,
              "ticks": ""
             }
            },
            "type": "scatterpolargl"
           }
          ],
          "scatterternary": [
           {
            "marker": {
             "colorbar": {
              "outlinewidth": 0,
              "ticks": ""
             }
            },
            "type": "scatterternary"
           }
          ],
          "surface": [
           {
            "colorbar": {
             "outlinewidth": 0,
             "ticks": ""
            },
            "colorscale": [
             [
              0,
              "#0d0887"
             ],
             [
              0.1111111111111111,
              "#46039f"
             ],
             [
              0.2222222222222222,
              "#7201a8"
             ],
             [
              0.3333333333333333,
              "#9c179e"
             ],
             [
              0.4444444444444444,
              "#bd3786"
             ],
             [
              0.5555555555555556,
              "#d8576b"
             ],
             [
              0.6666666666666666,
              "#ed7953"
             ],
             [
              0.7777777777777778,
              "#fb9f3a"
             ],
             [
              0.8888888888888888,
              "#fdca26"
             ],
             [
              1,
              "#f0f921"
             ]
            ],
            "type": "surface"
           }
          ],
          "table": [
           {
            "cells": {
             "fill": {
              "color": "#EBF0F8"
             },
             "line": {
              "color": "white"
             }
            },
            "header": {
             "fill": {
              "color": "#C8D4E3"
             },
             "line": {
              "color": "white"
             }
            },
            "type": "table"
           }
          ]
         },
         "layout": {
          "annotationdefaults": {
           "arrowcolor": "#2a3f5f",
           "arrowhead": 0,
           "arrowwidth": 1
          },
          "autotypenumbers": "strict",
          "coloraxis": {
           "colorbar": {
            "outlinewidth": 0,
            "ticks": ""
           }
          },
          "colorscale": {
           "diverging": [
            [
             0,
             "#8e0152"
            ],
            [
             0.1,
             "#c51b7d"
            ],
            [
             0.2,
             "#de77ae"
            ],
            [
             0.3,
             "#f1b6da"
            ],
            [
             0.4,
             "#fde0ef"
            ],
            [
             0.5,
             "#f7f7f7"
            ],
            [
             0.6,
             "#e6f5d0"
            ],
            [
             0.7,
             "#b8e186"
            ],
            [
             0.8,
             "#7fbc41"
            ],
            [
             0.9,
             "#4d9221"
            ],
            [
             1,
             "#276419"
            ]
           ],
           "sequential": [
            [
             0,
             "#0d0887"
            ],
            [
             0.1111111111111111,
             "#46039f"
            ],
            [
             0.2222222222222222,
             "#7201a8"
            ],
            [
             0.3333333333333333,
             "#9c179e"
            ],
            [
             0.4444444444444444,
             "#bd3786"
            ],
            [
             0.5555555555555556,
             "#d8576b"
            ],
            [
             0.6666666666666666,
             "#ed7953"
            ],
            [
             0.7777777777777778,
             "#fb9f3a"
            ],
            [
             0.8888888888888888,
             "#fdca26"
            ],
            [
             1,
             "#f0f921"
            ]
           ],
           "sequentialminus": [
            [
             0,
             "#0d0887"
            ],
            [
             0.1111111111111111,
             "#46039f"
            ],
            [
             0.2222222222222222,
             "#7201a8"
            ],
            [
             0.3333333333333333,
             "#9c179e"
            ],
            [
             0.4444444444444444,
             "#bd3786"
            ],
            [
             0.5555555555555556,
             "#d8576b"
            ],
            [
             0.6666666666666666,
             "#ed7953"
            ],
            [
             0.7777777777777778,
             "#fb9f3a"
            ],
            [
             0.8888888888888888,
             "#fdca26"
            ],
            [
             1,
             "#f0f921"
            ]
           ]
          },
          "colorway": [
           "#636efa",
           "#EF553B",
           "#00cc96",
           "#ab63fa",
           "#FFA15A",
           "#19d3f3",
           "#FF6692",
           "#B6E880",
           "#FF97FF",
           "#FECB52"
          ],
          "font": {
           "color": "#2a3f5f"
          },
          "geo": {
           "bgcolor": "white",
           "lakecolor": "white",
           "landcolor": "#E5ECF6",
           "showlakes": true,
           "showland": true,
           "subunitcolor": "white"
          },
          "hoverlabel": {
           "align": "left"
          },
          "hovermode": "closest",
          "mapbox": {
           "style": "light"
          },
          "paper_bgcolor": "white",
          "plot_bgcolor": "#E5ECF6",
          "polar": {
           "angularaxis": {
            "gridcolor": "white",
            "linecolor": "white",
            "ticks": ""
           },
           "bgcolor": "#E5ECF6",
           "radialaxis": {
            "gridcolor": "white",
            "linecolor": "white",
            "ticks": ""
           }
          },
          "scene": {
           "xaxis": {
            "backgroundcolor": "#E5ECF6",
            "gridcolor": "white",
            "gridwidth": 2,
            "linecolor": "white",
            "showbackground": true,
            "ticks": "",
            "zerolinecolor": "white"
           },
           "yaxis": {
            "backgroundcolor": "#E5ECF6",
            "gridcolor": "white",
            "gridwidth": 2,
            "linecolor": "white",
            "showbackground": true,
            "ticks": "",
            "zerolinecolor": "white"
           },
           "zaxis": {
            "backgroundcolor": "#E5ECF6",
            "gridcolor": "white",
            "gridwidth": 2,
            "linecolor": "white",
            "showbackground": true,
            "ticks": "",
            "zerolinecolor": "white"
           }
          },
          "shapedefaults": {
           "line": {
            "color": "#2a3f5f"
           }
          },
          "ternary": {
           "aaxis": {
            "gridcolor": "white",
            "linecolor": "white",
            "ticks": ""
           },
           "baxis": {
            "gridcolor": "white",
            "linecolor": "white",
            "ticks": ""
           },
           "bgcolor": "#E5ECF6",
           "caxis": {
            "gridcolor": "white",
            "linecolor": "white",
            "ticks": ""
           }
          },
          "title": {
           "x": 0.05
          },
          "xaxis": {
           "automargin": true,
           "gridcolor": "white",
           "linecolor": "white",
           "ticks": "",
           "title": {
            "standoff": 15
           },
           "zerolinecolor": "white",
           "zerolinewidth": 2
          },
          "yaxis": {
           "automargin": true,
           "gridcolor": "white",
           "linecolor": "white",
           "ticks": "",
           "title": {
            "standoff": 15
           },
           "zerolinecolor": "white",
           "zerolinewidth": 2
          }
         }
        },
        "width": 1000,
        "xaxis": {
         "anchor": "y",
         "domain": [
          0,
          1
         ],
         "title": {
          "text": "x1"
         }
        },
        "yaxis": {
         "anchor": "x",
         "domain": [
          0,
          1
         ],
         "title": {
          "text": "x2"
         }
        }
       }
      },
      "text/html": [
       "<div>                        <script type=\"text/javascript\">window.PlotlyConfig = {MathJaxConfig: 'local'};</script>\n",
       "        <script charset=\"utf-8\" src=\"https://cdn.plot.ly/plotly-3.1.0.min.js\" integrity=\"sha256-Ei4740bWZhaUTQuD6q9yQlgVCMPBz6CZWhevDYPv93A=\" crossorigin=\"anonymous\"></script>                <div id=\"ee7701a9-8b5b-4c70-aac8-d2f766b5b10f\" class=\"plotly-graph-div\" style=\"height:600px; width:1000px;\"></div>            <script type=\"text/javascript\">                window.PLOTLYENV=window.PLOTLYENV || {};                                if (document.getElementById(\"ee7701a9-8b5b-4c70-aac8-d2f766b5b10f\")) {                    Plotly.newPlot(                        \"ee7701a9-8b5b-4c70-aac8-d2f766b5b10f\",                        [{\"hovertemplate\":\"y=class 2\\u003cbr\\u003ex1=%{x}\\u003cbr\\u003ex2=%{y}\\u003cextra\\u003e\\u003c\\u002fextra\\u003e\",\"legendgroup\":\"class 2\",\"marker\":{\"color\":\"black\",\"symbol\":\"circle\"},\"mode\":\"markers\",\"name\":\"class 2\",\"orientation\":\"v\",\"showlegend\":true,\"x\":{\"dtype\":\"f8\",\"bdata\":\"S35taO8+gT+oUKpWvr7jv47kdBbe4No\\u002fucHDn3Mz4j8oVrhaFkvHv6qBvA6Sjt8\\u002fS\\u002fF018pd2D8ut9JWRwfSv9+tWIdvxFa\\u002fiTS1dh6427\\u002fngvseFQrSP5rnrAZoZtq\\u002fbE2X\\u002fEDU4z+sxINC6sTkvwp3k3C+IsS\\u002fFGhnxfpt4r+VmErYGa\\u002ffPxcpK5xtJrk\\u002ft3XkrvrWpT9att5hdSLfvz2Z07Z0VNe\\u002fbvvwlLJmub8Ee\\u002feKZOnEP2lZwprsIbo\\u002fkXNIMLV8gj+RP4yzaFDnv+qSKgc2XNO\\u002fNr0WdZG50z\\u002f9R8mCHf3PPw\\u002fcXkGsbt+\\u002fvg3NnTPY27+MP\\u002f\\u002fGrhnDv4+pvFQX4+I\\u002fmPOo1hfX4b9bMpvipq7Pv09sldGRMeI\\u002fHegydzHf5b+NC7CtnC3avwq3cc4zneI\\u002frVjprSlE0b8U8WSYMlXhv42L1WKLvNW\\u002fYPyAih7n27+onefI7rLVP2YEy2d2L+M\\u002fFX12btuuzD+xNNw174fjP\\u002fKzKpW62se\\u002frGg70BmJ1D+cibdlz9C7v+XDgzk9wdW\\u002fG3nV3QeB4z\\u002fGty7p45Kdv8BD\\u002fzVMCby\\u002fyX\\u002fHmNBu1D9ysDPceSXTv9WW97FYLdW\\u002fyvJolx6q2T+UbmXUw1jQv4zIOZSTadw\\u002fbyQMjiVW4b+WNJZ9JWThvyiwmo4Sr90\\u002fHJYruinH5r8lnMpLGzTGP+RyT3dV8ti\\u002fdixjFDMdxj9MDY4K0+XYv+la8C0mjN8\\u002foBXcYRG45L+5YjPkOe3SvxYCmDK0KLo\\u002f3Dcfb6Yj3T9qtTAy6ajZP6LJPkqE5uK\\u002fiGo8cUP8vT9gPgIupergP2XZUhFRaso\\u002fhjmMUI0UyD8anjR1jzrjP4nh6x\\u002fd48i\\u002fxd5C33iSyT96FNTqZ\\u002fbjP2veyK1sbOY\\u002fWmQ8aDg\\u002f3T\\u002fJzYEzvZzcvwbEzlFvteG\\u002f\\u002ff1jRgBmpL9RyydXTZ7eP\\u002f6u9mh9fZM\\u002fmo2cCTWGyj9XmfjKpGHVP+3H0sezbNe\\u002ft740AHkD3D+vKnnMHwrkPyy3uwg7ZN6\\u002f4sjeNcnzxL+Vp1bc\\u002fK3QPwiGWnC\\u002fTMm\\u002fzW7i3kwT0r\\u002fWHedVtCrjP10qJnDXHOS\\u002fSlVZ6MT73r8Z74wTmcXRP\\u002fcWMiIpk9e\\u002f2CmM6YfE3D+YHH7iGnPgP+OYLuTh8uM\\u002fMFFGvK8Z2T9sy31\\u002f5WPiP0y602yEuNu\\u002fHUkdeWbG4z\\u002ffFPUzNobfv0zL5AHaUsA\\u002fSosxXcbhob990yVA4Ozcv5HEivm6Tc+\\u002fDuQ7Sj1spr\\u002fwcoG\\u002fh3HYP5gDGXM+O9s\\u002fAqDXuK7Ay78adJ3JyfvkP1gKOBJR5+S\\u002f\\u002f9eZUPEo4r9oe2s6p0LgPwXyndg1Ldg\\u002fGhLCIqVJ2D8O10zepnjDv36ntt+PHtm\\u002f9fQE7HgVsr8dtzdManTSv5rCvM1KtuI\\u002f45KvTgpB2L8EKdF0E3C6vyJBCjR34cq\\u002fKBBUkv111L\\u002f\\u002fRvIHi7rXv+hp9gOlfsQ\\u002fnkKRneFx0L+5UMMe1SzVv\\u002fbDomhNarW\\u002fltFwOXXw3b\\u002fd8O2eK8rgP26p3QYX99u\\u002fw+e24Xqc4b\\u002fPA0vrqoLaPy6MOaLU8ua\\u002f9ZZXkIFh4r\\u002f\\u002fu7glCQPgPxi05UKCU9s\\u002fnsVNqDH4yz96XA5L+LjZv42cfuuMyOA\\u002fRMZSSx\\u002f15D\\u002fGjuSgiAXdP0Y7410OUOM\\u002fqX0d6Zq70b+26eOooXfPPwgZCC9h89k\\u002fCJEOjIFH3r9+8LX0oyenP10JloyKFMk\\u002frBUNAHBE5L8CgFtOWcbhPx\\u002fF1ZFsQL8\\u002fwF9WLj3tyT+1KV5IfTnfP5lOLhHtANi\\u002f4a\\u002fPZagWub8FRk2hUFTSP42a5ei+Dd0\\u002f1zF58T9pt7\\u002fNcuOC0ljhP4JOAN+LmeS\\u002f2v70n2LA2j\\u002fHcx9XS5Djv\\u002fX0JZibsOG\\u002fdriSdx6i3z9n7hieUVTfv3xk3cYa\\u002fdI\\u002fu0rHSpwb5L\\u002fpgabPiPrNP4KVwx55Nua\\u002f+EYoERef1z8pFuKN5p7gv9JxfHzEjn6\\u002fKeIlu7Yw2z9NB8SihanhP38Z50bzOeA\\u002fIfKMB32Doz91QBkLy0vNv7\\u002f3lPIaEN6\\u002f9CbzVc994L\\u002fxFTKcCCaqv37PgTfWXNw\\u002fqRI4MaF32j8S7AkFpibTP87RFC1MqeA\\u002fyVyrOkBexr9P7JuuPaLfv5\\u002f3bzSbttO\\u002f4ybZMKxPwr8Sg0Ak96vGv\\u002fulPadJssG\\u002f8fHrvLB22D89lAU0Sr\\u002ffv8ka7qlDP6A\\u002fB\\u002f\\u002fsFPvZ3z+o6rUXGUDUP3b\\u002fVU906s8\\u002fSoqEmxdU2L\\u002fHr3l\\u002fD5env8iGuu3KA8c\\u002fKIr0\\u002fWKG4D9rpAAZy6+8P+kpw\\u002fMLueK\\u002fNeW40U+jyz+jefxfjnzNPzeH6yYMhNY\\u002fq0N+h7Pp2D\\u002ftIo6AKTLCv9yjYdYDHac\\u002fu5RswEpE5j9QkXg2jgPcv\\u002fZ2UFQvxtm\\u002f2oVgGOmP4D9Cse95W9rkP4RlX+4jMNC\\u002fvT2poVHR3b8Hqc8nF1TOP59Azyy809O\\u002ffjSltHSz279rRuBjk0fiPyDvw604fcG\\u002fYOamYmY8sb9TL5Cr0nLhv9MJ5PPXSdi\\u002f8oJHhX2p0D+Mc4H3TFzjv7WIleAL6NK\\u002fcv3qPorn4D\\u002fOopV4ucLcv3wclx2nO9W\\u002fEWcUeGcb3j\\u002f9u2\\u002f0\\u002feHlP31PlK\\u002f6OtW\\u002fyJHzb4I6vT+wWfSS5DXJP\\u002f5c4OAFduG\\u002f09CRW1gT578okiR9E0ziv6alF\\u002flyG+C\\u002fdi+bJ0X25r8B5GelRgnPv3+u\\u002fGgCSnS\\u002fzbusLGeC3j\\u002fxO32tcEPcvw==\"},\"xaxis\":\"x\",\"y\":{\"dtype\":\"f8\",\"bdata\":\"Qei7pL8i5T8wlVv7KgHRP1ET4ZnrAuQ\\u002f1DWamJPKwD\\u002f1u1l8pr7fP6p9JxktTtA\\u002fEOcTpODk0r\\u002fuyipoNljGv8+PX8vX7+I\\u002fAdUQ9dR61L9cqG7QQ1XlP2USgIsVMdC\\u002flzOIaFdgsz80atD\\u002f3h\\u002fTPzU3pR5ZhOU\\u002fuKjQLQNy0T\\u002fDG6YNkDXGv8\\u002fHL5KWbOK\\u002fDSVxJbXz4T8ZFV6bGtTcvzJxuSN9SuO\\u002fv2ebH+Yd5T8UOHh\\u002feX7ivzRYbNtHW+C\\u002f4585Tg4X4r+goWXat46Zv9b+FBS5P9a\\u002fa6svbfXd1z8HxGIeJ3blv6l\\u002f0AAe19a\\u002fcuUX8C7C2j+ZvxEraVbbv5JpLVzS6dS\\u002fsNuoF8J2nr+XfP7\\u002fTkbbP\\u002fsgCRWoxss\\u002fqy4tDnu2uD+sW7j3grOnv1960mSuWLa\\u002fODIy92Fa2b8t+JUEBLOUv+tJXqZctui\\u002fXpopKGhJ1j+g6OXRzVvgP3z39zHnH9A\\u002fmd9JK52P4b\\u002fazxNKRee+P2SH8Ir1Odq\\u002fTkOjXxn40z8ium23+r3hP1Z6i+g0kt0\\u002fLyFpKKdFwb\\u002f2qpMYApnmvyKyyU9tQeI\\u002fdKxHatU54b+A5l7L6lTdP4d4nqADmuM\\u002foRmuwXMk4T\\u002fHjFGmkY\\u002fRv5xWw8Vhjdi\\u002fsyRBqnNL0b9jMrndhzjYPwZRW9Zipt8\\u002fhaGk0JNY1T8i4b0+ZAbkv1l+YWmk6uM\\u002fOQSsNIjl3D+qweJ9p17dP0g6zSSHncO\\u002fv49WdlI7zr+tuydFYsnWP\\u002faw0YNOZuW\\u002fN73sbqYjwz\\u002fgnD6Jm8LfP8l2RsaA\\u002f8i\\u002fs9xCiN4n47+F2X4ZKiLPP2MTkEWlMuS\\u002fZPjXo5wn4D9EacdINS3Jv4WHy6WFL+I\\u002ft5pYy9l53T\\u002f12PLDDWvKv028\\u002fThzC8i\\u002f+2fsmtBqxb8d+tTgR1nUP+CPXlxZ57M\\u002f+gnWikZC5z+rv+q2GQrQPzg4Hfur+ua\\u002fJ4ryvuaI4T+3mdNqqMPkv2PKCUVzet4\\u002fV6aASa4Hzj+HKNSbKijQv1DginK8gag\\u002f0\\u002ftTTN+g379gQurkYZvgv7colVWgtOA\\u002fDB+CAqPn1T9C6VduOzS4vyzUJ37sIM2\\u002f+t0pGn4axT8zORAb2rjhv5LglTeVL9W\\u002fnkgqVWmW2j+Q9GslRA3CP12b\\u002fWi\\u002fjsI\\u002fZz5meu0Y4L9r4G+a1zqSPwHZec0JaeC\\u002f4\\u002fCzRvsSyb9E4UJFdMfNv02A+Btad+O\\u002fbL1VyX4Y3r9zFA7Ljl7Lv2+RZ\\u002fScQuO\\u002f1EEpNymQ5L\\u002fuPet86XXWv9QH\\u002fJqTBbe\\u002fz6iaTjMw5T9dwC54J0LZvxfFJtHIZpQ\\u002fJiBO4smvxj+ix50V7srGP4sGXb73ndg\\u002fxZmEOYuG0T8wYN6byF\\u002fhv64PFWDDLea\\u002fmQjbRJRq5b\\u002ftOqc07rzTP5u2P\\u002ftHE8U\\u002ffdIUqZuS4L+vYnnnrZPeP8J62smjHOI\\u002ffgeJfax+378wNKJRYh\\u002faP3PZsdypZuI\\u002f78XI3i14479kDG2WIL3hv0GKb8qCruW\\u002fpC2A70ORwz+dOdElpnXCv2swVHyPL9M\\u002fP+1YK7jOwT\\u002fSfsqxR8fjv0RcDzZRjdM\\u002fer0hvYhVsD+Q4FVBMJzQP5uugVy43Mq\\u002f1Uz9eh744D9n0Ekyem\\u002fVv2aTrU4jBd+\\u002f2oR\\u002fEJPM1z89lkdxlB6zP3vjy51HWqs\\u002fIopXbnCJ0z9nrWTTo43jPzGjIO2bANE\\u002f2PJB5IKa2z8dvXUwILbePybxjfyOk9w\\u002fcM65BNIUrb98pzIjVnHQv0AICdb1fuS\\u002fjDt4GfVz4j8lVD4eGETPP5Nodvypz+C\\u002fHi3wKxc\\u002f4T\\u002fR4mAmmGbRP9IafYtOTNa\\u002fuUKDssMK4L9UST6Nq2Gtv0QCJ+OCmtO\\u002fIhPfmqUn2L8DuBuDRR7Bv8qXtQmCM8q\\u002ffzLnALPAt7\\u002fFefHSA4TQv1UdX21619k\\u002fyKzX5nt+er+vu8kjvS7dP\\u002f3gmuT7WsQ\\u002fFv+YFmAo1D8pAnryrD3dP1+6yf8o1d2\\u002f5e8JDVIh3D+2PlKxfoXNP+lE7\\u002fWqoMk\\u002fggtMOlRr4j\\u002fHmZIOcDHkv5caOO2HZda\\u002f\\u002fi68A5oz3D+rHxnD24LlPym0y3tU692\\u002fNU9wbha51r8qoASlmc3gPxApn7aYPuA\\u002fEAp4zpPm3L8jE7gd\\u002f\\u002frKP+Nx36t7Mtq\\u002fmdNKoJqI3T+TkSwksxvUv12GZebbbOG\\u002fODlZEQEjzr+sXfS6PRPCv0+vFge8a9w\\u002f1eLwLIvpyT\\u002f0Nr9sgUTiP8xNrp4g7OO\\u002fYy4l5lAa0L9Z\\u002fma1fU7ev1\\u002fcuhKHqOW\\u002fOtrwWUzB2b9GwPUTovrmP2iBO9SFxKi\\u002fHoTiIbL60D9p67IcWA\\u002ffv1cUVLaOMdS\\u002fmbc2Y6DD4r+sqXz6H4zVv41u\\u002f3GGxeW\\u002fSLRAOb\\u002fQsT8hvGBAORPTP3e2Osfh7tQ\\u002f5WicLP\\u002f3wD+zTeKqC2bUP6VjhrH\\u002f8d0\\u002fbatK6WmK0D+IXCl9ovzev48xkMuqid8\\u002fDXVX+37o1L9J51\\u002f23wjGvwc4yZ9J6eK\\u002fg5kXsT3Q4r8SRoGmm4HXP+EG3opswq6\\u002fBs6DQ25V4r9Q4yqcyFnLv8lvn0ftYOa\\u002fHPWRuOgWzj\\u002fuQWbcBHrmP2ESkFqfGuK\\u002fTW2Qsbi6zb\\u002fsjmbbizzbPykmXH0MZtQ\\u002fxSZSUYiV2z\\u002f7dFlaVWbkP1FM2ZcWQdi\\u002fWcG62zaxsD9qn9gTEDG6P+iKi27og8Q\\u002fxxxnfDWBrz9SRDc8Gm3Svz5bPkhSIdg\\u002fcL8aBhyI1j+LylragIfXPw==\"},\"yaxis\":\"y\",\"type\":\"scatter\"},{\"hovertemplate\":\"y=class 1\\u003cbr\\u003ex1=%{x}\\u003cbr\\u003ex2=%{y}\\u003cextra\\u003e\\u003c\\u002fextra\\u003e\",\"legendgroup\":\"class 1\",\"marker\":{\"color\":\"grey\",\"symbol\":\"circle\"},\"mode\":\"markers\",\"name\":\"class 1\",\"orientation\":\"v\",\"showlegend\":true,\"x\":{\"dtype\":\"f8\",\"bdata\":\"4F3JYAS7878uJf4BJ17nP3u50uWJI\\u002fa\\u002fo6jDeKSH5z\\u002fqdj4CEzX2P\\u002f1yDka7VNa\\u002fgFTroqAc\\u002fr\\u002fwk5hT2n\\u002fwv\\u002fl\\u002fPnd\\u002fDvI\\u002fIBTsed6I5z\\u002fWwYXFVnX9Px5TyCuQKvQ\\u002fkK3lC1rS7z8O6rzfJVX9P\\u002fhDX9oi69s\\u002fb4m2zhTXAECM\\u002ffF\\u002fWlnTPxSM7X3ZVPu\\u002fcZKoSE8X8r9FQ+xiJ+LiPz2Fz\\u002fVlU\\u002f0\\u002f1tgTtGtX\\u002fb9wLUfqvJjDv64B+3NTxv6\\u002fAKLZNe+Czr9ZNWrySSr8P09Wl606aPE\\u002fSPITgCcu\\u002fz8NgvxMJ37Jvw39iiOWx9y\\u002fhwq7M+cY+L86lPP10rSqvz4CHO7seeu\\u002faOYp8RY38T8oGdqIwXT5P8j0rsX49fQ\\u002ff7gk++2V178kMIcM18v+v0GVbB53YNw\\u002fNGa0ad5jrT926HrZyoD+v3Uawd0f6sa\\u002fnFdRkDjb\\u002fj8In7LpeTblP2b648zbLOG\\u002f3GduFrp+5b+uyd2O\\u002fhrmv7wAWOtR7vg\\u002fbUQaObSi5D+4lizW6Wr\\u002fP+eW9ZKRbvo\\u002fMe9OP79S+r+qd2UDxeDwv2wHTPPFjem\\u002f6vpPfKpl9T+YByqzShz\\u002fP4ZFvzwXD\\u002fk\\u002faOBlm3A39T9psCGkyGz7v1ZY\\u002fEmKgvu\\u002ffRi4yjXs5r+6A\\u002ffGJLD8PwUNgvp+RPk\\u002fyLf3ZhbZ\\u002fb8aahKLQHb6v4aUPTyr0P4\\u002fl0iDDZAN8j+uKODa\\u002ffT5v5ChNpMCPL4\\u002fRT7c0haY\\u002fD9t1KdXS3H5P3ltNEWDA+m\\u002ftXsDruT\\u002f97\\u002fn8l\\u002fz37\\u002f1v2BJp9VKtuy\\u002fJKn0cNTx3z\\u002fdexRErSD+P3R2Jm2Tlu2\\u002feIIdMfyp+z\\u002fmZF1DHu\\u002f+PyqlqwOTUeY\\u002ffraG\\u002fUJE5j9ju0w9i5jyP\\u002fzwdKfwEOo\\u002fmPkBJmBH8D8YQvjmuQ3yv5pqixKtWuG\\u002fYT0\\u002feRmo9D\\u002fIoqZIRRXvv00sDf1\\u002fk\\u002fy\\u002fWWSMrPSo4r+AwEGWbAb6v3686b9O9\\u002fo\\u002fcNllc3Wf0T9lC8KpDKvzv+zgK4BuVvK\\u002fPjlcI6sM5r\\u002fBsu16BX+0v3voJ3OXofe\\u002f3jndRLBV17\\u002fVv6Bgwc74P1R7Kad53P6\\u002f0ddcH387+79Y0FQqBHj\\u002fvzgwjuIqvf4\\u002flSuONhY75j+r0G6yG7r6P6uvOXOsDua\\u002f9wPyXo2i9D9tAj3xv+T5v65RDv0ox\\u002fA\\u002fU\\u002ftpGj0n4T9DJoVG0Vn6v7tH4QCuefI\\u002f6Ep36ZxG1T\\u002f1M0RZJTn8v845sCe2we4\\u002fGkeXHxQo0L+uU\\u002fJorL75vwQ6wVlc+P2\\u002fAo5DbpPR9z+DY86SW\\u002fD\\u002fP5AlTvKa3sQ\\u002f4c82FilJ\\u002fb9k+e\\u002f0VNK3v+zIIiRv\\u002fuO\\u002fTa9cvzBJxj+YLbambOLwvxcWBRZqCPy\\u002ff9vhvG\\u002fQ8z\\u002fWqSXvmGT8v6IMlLhFPPa\\u002fcYbxLzum+j+yy8GSAcXwv6mU0sk\\u002fKrI\\u002f5bYRN0AU\\u002fb92vPKYHsD1P4ZzM6BClcQ\\u002fqP6yLfgR\\u002fT+7ITrr4ysBQAkwbIYcLd4\\u002fOdUqRWDu5L9GTafJIK7mv\\u002fsbe8suCfs\\u002fLKmkst5C07\\u002fL4N3FLlP8v9z522hhFfK\\u002f9Q92eqRnAMDwE5sqxp35P\\u002fayHhkc4uU\\u002fAxYZcsQE\\u002fT+IE496muDxvz9Yb\\u002fMg1\\u002fi\\u002f6QVaYNJ6\\u002fL+aFIcFe0n9v8W1xXesCug\\u002f\\u002fL8Ihh6D\\u002fr+AzWCVk3L6v1DNe8Uo2fY\\u002fIbZR5+Yi9L9xIdqM4iMOv6HsHnuFt\\u002fy\\u002f\\u002frMKDdj887\\u002fJA4Lsgin8P5dXy77LXfA\\u002feNNTSY9R97\\u002fVow17ciz\\u002fP1PbnWmAcvk\\u002fZliV52+g8D8fK2re2RP8P93qSqG02PI\\u002fjTmnzCbR+z\\u002fVFYf5vlvnP1v35WLClfy\\u002fQvZfiJbe3L8uO3eFqle3P9dlkMlVFOY\\u002f\\u002fUBXP7v+nD9taGC4n16rv17sDtObMv4\\u002fpWYIAR64wL\\u002f6oD4iKffAP6VVMh\\u002fRk\\u002fa\\u002fHvxRNPn3vL98jq00LxrUP8TGucP1Efu\\u002fEIgFeMU\\u002f\\u002fr9FqqkHrE\\u002f4vyk4ioOqG+c\\u002fC4RD4ddj77\\u002fXOsooHzH1vwbXHglP18G\\u002fcUu4RWKn\\u002fL+JDIQdQGDbv0tDMkycIvS\\u002fas\\u002fpGLJeyL8d3aoNa0X5P4x1Ksgr0PG\\u002f\\u002fq4Gn2cc+L9bDfFZvyvvP9uWZiggvdg\\u002fyagmvfwr6D9ISOsmIv3tP3V5Q8GD8vE\\u002fqhz\\u002fAZMZuD+Z9hJYV9v4v97Nq93povg\\u002fk102fe3g9L91tgGPM2X\\u002fv4kA\\u002fOCNuvc\\u002fAKAB4M8W+z8zZi8F5Q7QP2J75T3lCuu\\u002fnsEGrR\\u002fy\\u002fr8VeZhd8s38P7VK\\u002frHJcfU\\u002ffQNevyPMnD\\u002fE8mEMboz7P1hN8BjBHfa\\u002fxEg9zvyP\\u002fT8PR\\u002fKL8WXjvzbWx0uJm\\u002f6\\u002fzNX87vWI\\u002f78pFuwWndf7v+pXjV1uQPI\\u002f7BnBkixF4b8GH6gDKQvzv7jPlBJDMec\\u002f+IIzRK+M9z9O+3Bc0vjzPyWkHe47TME\\u002flfGVCpzN9D8NZg3s3KLxv7g0ivsCMO8\\u002fDKSbkrNv\\u002fT\\u002feJzb0C6D0vyIJMFq7geM\\u002f1+oL2km6+z\\u002fnm0IQpVnyP\\u002fQ5CTuBVPy\\u002fwB0lQ\\u002fM+\\u002fz\\u002frPwC3rOLcv1ltZ5M6aPe\\u002f\"},\"xaxis\":\"x\",\"y\":{\"dtype\":\"f8\",\"bdata\":\"eOZ6It5Z9z9iyCp2FDn9v2W3bsfljPM\\u002fsO1u5XU2+b\\u002f16vDakd\\u002f0vz7jAoWr6v8\\u002fc1A\\u002f43eW3T+vo2XQQ3v4P9l\\u002fZ9NHEfm\\u002fYEpdWmN2+z+kBAcSDkSpv4A9T1d7Z\\u002fk\\u002fZRI3jaL++T\\u002f+pIjaqmrPvxfAzLxK5Pu\\u002fq5fmSHSV379H9245HLr+P9Zd1P8JVeQ\\u002fAnp0jDaM+L9aa7emYzn9P5OKEpER9ea\\u002f\\u002fqDAxY7Q6T9UskpWElj9P1armo3oubs\\u002fPq9Yf2eU\\u002fL\\u002fppcs5M\\u002ffkP81n90jPqPe\\u002fd\\u002f4N\\u002fmSwsb\\u002fFhvLY9wgAQOyqJNldxvy\\u002fHa+eOoBu5z+yfwyBa138v3F0ulGXoPu\\u002fpKGYYCAn+r9FBkUtej3wv4W1o26UGPQ\\u002f1FZNIn17AMC4qducK+\\u002fDPxovlpRe2P8\\u002fvL+fX9I0\\u002fT9EFTuXHarVvz23okgENgBADzCvZNlZsj+XQD3HKY7+v3npD2ZTpf2\\u002fIx83UKzo\\u002fj+uAyp+68r9vyjBUcD77\\u002fY\\u002fr5xBLc8D\\u002fb\\u002fO6HBgzknpv15zix89s+W\\u002fAJWeJ8x18r9wZMDbaPf3P4RfLid0BPq\\u002fqSPoBeAm8T8\\u002fgBaa+NLNv4u2G3nsYvK\\u002f9XoX20T38r9z4vrZ7p7nP1kRolEe5uW\\u002f58Tdvq5R\\u002f7\\u002f3BcaQL4LHP2MYuZsdl+y\\u002flkS4vH2o479HKlDSMTDov2JNPTqpiO6\\u002f5WRqKlWX+L8ZIIHr\\u002fL3kv7B2o\\u002fKtqPs\\u002f1T2khRkTyT+NdXzR+5Hsv6ksvCQuMf4\\u002frTKa3U8l9T+vfVju8Hb0P4WObNO9Yvk\\u002f01JioMea+z8cIS25cl7ePwDy93k7bPq\\u002fKSzVr4oH3L\\u002f9u3vnccWwv1SboYIXL\\u002fy\\u002fECTJa6AX+z8CdJUo2OH2v5+5AGdpUvs\\u002fFxmN8eFA+7\\u002f+gdzonEz4v06fX0qcnPu\\u002f1et8dJCH+T\\u002fUKA5CUh37v4LgzdL19OI\\u002fHV3BYVfW\\u002fD8PuVk+0VLvv2+jtQMDcu0\\u002fHb\\u002f7tcGg\\u002fD+6GsiScjL4P\\u002fDh5ALW6\\u002fs\\u002fdV4+VTyq+78sChdaikL\\u002fv82e\\u002fFtUVfU\\u002fHHDjSkCj\\u002fj+Xa8l2Dq7yvzmoocol\\u002fdC\\u002faGh7xpi+8L8c8VKUXPLiP+SI7BDx+es\\u002fPXPzThnM\\u002fz\\u002f7rvW2k1PtP2g\\u002fy2aze\\u002fi\\u002fvyXQ9D\\u002fE8j8j+tHhiPzzPy\\u002fK7y2ZqPW\\u002favclqT9d\\u002fb8k\\u002f1VDahvvv4zy7WvbLvk\\u002fDJq90OOw\\u002f79JLkIJSgXtP9+ODmearfq\\u002f17x6Zr9d\\u002fj9JPPqeLl\\u002ftP\\u002fGQeg+9Eto\\u002fXG4p15xe9j8tZECfC0zkP6R+5n1ycP2\\u002fXew\\u002fJKfe6T8SOHfwSRv\\u002fP0Q2MFuBXPu\\u002fVYqBBATC\\u002fT9TrXU\\u002fgu\\u002f8Py1y9\\u002f2vPus\\u002fxvg68irN+L+ORpqwrsvfv6bpIx73mfC\\u002fdr4yvn0C6L8PodIlWZf5vy6NnWXBZf8\\u002fkjATwKUm2z9rDxTsPWPzv8H37R\\u002ffWv0\\u002f8rFDQ8kh7L8PY7VHY8DkPwqH6jJFeP4\\u002fvofoqj2b+z8jJqzaVFn9P7Es0oxYiey\\u002fHhtGL3tW\\u002fT+ogP0SBUe7v\\u002f+zRmCup\\u002fa\\u002f7+Ud9Il0wj+6AdIu8Ijyv4YHJ1LZtvy\\u002fGjuweJNo2T8nd0jRWN74v8Bcj4\\u002fKbPO\\u002f5jaku4to5r84TVWGMHLlP2a5azYn7Ps\\u002f7BFEqGLO47+1UU7KhU3kv5B3RDOHbfO\\u002fcbhw9mjE9z9fqjA\\u002fkwgAwE+BUPpyl+G\\u002fPA3Ne8B0+T9uIlzEqz7mPxonauHCoPs\\u002f89zLKuFy8b\\u002fLsuV7wRTOP18FFq4Ot+k\\u002fZLvU4saM+z+1hICv1e7sP+bDmAR46fE\\u002fosf90H4j7j+ZJZCOG735v7BH+E3Fk+8\\u002frghAtTee+z+LfnKcUQz+Pz0ZkacQSPs\\u002fvbtQInm0\\u002f7\\u002f1JcetJIv9PylcpYyD1uQ\\u002fVVSXQK35\\u002fL9q6HvL4KX7v6rzGoYhoe8\\u002fC9UhlChgAMAKFrqK7Jn\\u002fv7T1\\u002fXVN2ey\\u002fOFgQz3cgvT+nA66wM5LzP+1s8STq9vw\\u002fauQ9IaQ4+D9c3NQVskzxv2qCIBifBQDA+rd7QdEF4D8jKaP6NqH9PzuTi+xpRvk\\u002fyoz9jCH6\\u002fj\\u002fkXZynVYvwP13OXLB\\u002fEva\\u002f70h2Q27o6z\\u002fvBfqVLO35P6EcfVmAlv+\\u002fgsZ0oC1d+j\\u002fHSW4nt939PzwmH\\u002fN9rva\\u002fChRAqodSAEAyuPjE0UPrvypkHNUvEvQ\\u002ftwGA9MYv979GA6VD0fnFv7wxVsITzPa\\u002f3F9SYZgj8D+ks\\u002fSazAn9v5EUsp8RC\\u002fu\\u002fSYLZoC254r+mMeLXZlvPv613MWodEvY\\u002f55rp9vKw+z+sswMaqSrkP2MvuKNWUfc\\u002fBXXlOppq8L9NUAE9Nmb7P0Ejs3qm\\u002fL4\\u002fFVYWJnZ22r\\u002fNshPf4ufuv0g4QLkxIfi\\u002fbnZ7Wgzv+T8vNkePAbT2P+KJSBugTwBAEUaRzNEQ8b\\u002fLaMkuq+T1v\\u002fCETq6\\u002f7v8\\u002fGGDbL54O9T\\u002f0IzZgUOf4PyDpuzTaCPs\\u002fEw+vMZlb4b\\u002fDCJICiLP0v0ltdHwktv2\\u002fECjVrEss6r86nWSWtlT4P4OhVx+We+i\\u002fqHcVU7+HwT8KRrxKOqf9vyOfWuFZs\\u002fQ\\u002f\"},\"yaxis\":\"y\",\"type\":\"scatter\"}],                        {\"template\":{\"data\":{\"histogram2dcontour\":[{\"type\":\"histogram2dcontour\",\"colorbar\":{\"outlinewidth\":0,\"ticks\":\"\"},\"colorscale\":[[0.0,\"#0d0887\"],[0.1111111111111111,\"#46039f\"],[0.2222222222222222,\"#7201a8\"],[0.3333333333333333,\"#9c179e\"],[0.4444444444444444,\"#bd3786\"],[0.5555555555555556,\"#d8576b\"],[0.6666666666666666,\"#ed7953\"],[0.7777777777777778,\"#fb9f3a\"],[0.8888888888888888,\"#fdca26\"],[1.0,\"#f0f921\"]]}],\"choropleth\":[{\"type\":\"choropleth\",\"colorbar\":{\"outlinewidth\":0,\"ticks\":\"\"}}],\"histogram2d\":[{\"type\":\"histogram2d\",\"colorbar\":{\"outlinewidth\":0,\"ticks\":\"\"},\"colorscale\":[[0.0,\"#0d0887\"],[0.1111111111111111,\"#46039f\"],[0.2222222222222222,\"#7201a8\"],[0.3333333333333333,\"#9c179e\"],[0.4444444444444444,\"#bd3786\"],[0.5555555555555556,\"#d8576b\"],[0.6666666666666666,\"#ed7953\"],[0.7777777777777778,\"#fb9f3a\"],[0.8888888888888888,\"#fdca26\"],[1.0,\"#f0f921\"]]}],\"heatmap\":[{\"type\":\"heatmap\",\"colorbar\":{\"outlinewidth\":0,\"ticks\":\"\"},\"colorscale\":[[0.0,\"#0d0887\"],[0.1111111111111111,\"#46039f\"],[0.2222222222222222,\"#7201a8\"],[0.3333333333333333,\"#9c179e\"],[0.4444444444444444,\"#bd3786\"],[0.5555555555555556,\"#d8576b\"],[0.6666666666666666,\"#ed7953\"],[0.7777777777777778,\"#fb9f3a\"],[0.8888888888888888,\"#fdca26\"],[1.0,\"#f0f921\"]]}],\"contourcarpet\":[{\"type\":\"contourcarpet\",\"colorbar\":{\"outlinewidth\":0,\"ticks\":\"\"}}],\"contour\":[{\"type\":\"contour\",\"colorbar\":{\"outlinewidth\":0,\"ticks\":\"\"},\"colorscale\":[[0.0,\"#0d0887\"],[0.1111111111111111,\"#46039f\"],[0.2222222222222222,\"#7201a8\"],[0.3333333333333333,\"#9c179e\"],[0.4444444444444444,\"#bd3786\"],[0.5555555555555556,\"#d8576b\"],[0.6666666666666666,\"#ed7953\"],[0.7777777777777778,\"#fb9f3a\"],[0.8888888888888888,\"#fdca26\"],[1.0,\"#f0f921\"]]}],\"surface\":[{\"type\":\"surface\",\"colorbar\":{\"outlinewidth\":0,\"ticks\":\"\"},\"colorscale\":[[0.0,\"#0d0887\"],[0.1111111111111111,\"#46039f\"],[0.2222222222222222,\"#7201a8\"],[0.3333333333333333,\"#9c179e\"],[0.4444444444444444,\"#bd3786\"],[0.5555555555555556,\"#d8576b\"],[0.6666666666666666,\"#ed7953\"],[0.7777777777777778,\"#fb9f3a\"],[0.8888888888888888,\"#fdca26\"],[1.0,\"#f0f921\"]]}],\"mesh3d\":[{\"type\":\"mesh3d\",\"colorbar\":{\"outlinewidth\":0,\"ticks\":\"\"}}],\"scatter\":[{\"fillpattern\":{\"fillmode\":\"overlay\",\"size\":10,\"solidity\":0.2},\"type\":\"scatter\"}],\"parcoords\":[{\"type\":\"parcoords\",\"line\":{\"colorbar\":{\"outlinewidth\":0,\"ticks\":\"\"}}}],\"scatterpolargl\":[{\"type\":\"scatterpolargl\",\"marker\":{\"colorbar\":{\"outlinewidth\":0,\"ticks\":\"\"}}}],\"bar\":[{\"error_x\":{\"color\":\"#2a3f5f\"},\"error_y\":{\"color\":\"#2a3f5f\"},\"marker\":{\"line\":{\"color\":\"#E5ECF6\",\"width\":0.5},\"pattern\":{\"fillmode\":\"overlay\",\"size\":10,\"solidity\":0.2}},\"type\":\"bar\"}],\"scattergeo\":[{\"type\":\"scattergeo\",\"marker\":{\"colorbar\":{\"outlinewidth\":0,\"ticks\":\"\"}}}],\"scatterpolar\":[{\"type\":\"scatterpolar\",\"marker\":{\"colorbar\":{\"outlinewidth\":0,\"ticks\":\"\"}}}],\"histogram\":[{\"marker\":{\"pattern\":{\"fillmode\":\"overlay\",\"size\":10,\"solidity\":0.2}},\"type\":\"histogram\"}],\"scattergl\":[{\"type\":\"scattergl\",\"marker\":{\"colorbar\":{\"outlinewidth\":0,\"ticks\":\"\"}}}],\"scatter3d\":[{\"type\":\"scatter3d\",\"line\":{\"colorbar\":{\"outlinewidth\":0,\"ticks\":\"\"}},\"marker\":{\"colorbar\":{\"outlinewidth\":0,\"ticks\":\"\"}}}],\"scattermap\":[{\"type\":\"scattermap\",\"marker\":{\"colorbar\":{\"outlinewidth\":0,\"ticks\":\"\"}}}],\"scattermapbox\":[{\"type\":\"scattermapbox\",\"marker\":{\"colorbar\":{\"outlinewidth\":0,\"ticks\":\"\"}}}],\"scatterternary\":[{\"type\":\"scatterternary\",\"marker\":{\"colorbar\":{\"outlinewidth\":0,\"ticks\":\"\"}}}],\"scattercarpet\":[{\"type\":\"scattercarpet\",\"marker\":{\"colorbar\":{\"outlinewidth\":0,\"ticks\":\"\"}}}],\"carpet\":[{\"aaxis\":{\"endlinecolor\":\"#2a3f5f\",\"gridcolor\":\"white\",\"linecolor\":\"white\",\"minorgridcolor\":\"white\",\"startlinecolor\":\"#2a3f5f\"},\"baxis\":{\"endlinecolor\":\"#2a3f5f\",\"gridcolor\":\"white\",\"linecolor\":\"white\",\"minorgridcolor\":\"white\",\"startlinecolor\":\"#2a3f5f\"},\"type\":\"carpet\"}],\"table\":[{\"cells\":{\"fill\":{\"color\":\"#EBF0F8\"},\"line\":{\"color\":\"white\"}},\"header\":{\"fill\":{\"color\":\"#C8D4E3\"},\"line\":{\"color\":\"white\"}},\"type\":\"table\"}],\"barpolar\":[{\"marker\":{\"line\":{\"color\":\"#E5ECF6\",\"width\":0.5},\"pattern\":{\"fillmode\":\"overlay\",\"size\":10,\"solidity\":0.2}},\"type\":\"barpolar\"}],\"pie\":[{\"automargin\":true,\"type\":\"pie\"}]},\"layout\":{\"autotypenumbers\":\"strict\",\"colorway\":[\"#636efa\",\"#EF553B\",\"#00cc96\",\"#ab63fa\",\"#FFA15A\",\"#19d3f3\",\"#FF6692\",\"#B6E880\",\"#FF97FF\",\"#FECB52\"],\"font\":{\"color\":\"#2a3f5f\"},\"hovermode\":\"closest\",\"hoverlabel\":{\"align\":\"left\"},\"paper_bgcolor\":\"white\",\"plot_bgcolor\":\"#E5ECF6\",\"polar\":{\"bgcolor\":\"#E5ECF6\",\"angularaxis\":{\"gridcolor\":\"white\",\"linecolor\":\"white\",\"ticks\":\"\"},\"radialaxis\":{\"gridcolor\":\"white\",\"linecolor\":\"white\",\"ticks\":\"\"}},\"ternary\":{\"bgcolor\":\"#E5ECF6\",\"aaxis\":{\"gridcolor\":\"white\",\"linecolor\":\"white\",\"ticks\":\"\"},\"baxis\":{\"gridcolor\":\"white\",\"linecolor\":\"white\",\"ticks\":\"\"},\"caxis\":{\"gridcolor\":\"white\",\"linecolor\":\"white\",\"ticks\":\"\"}},\"coloraxis\":{\"colorbar\":{\"outlinewidth\":0,\"ticks\":\"\"}},\"colorscale\":{\"sequential\":[[0.0,\"#0d0887\"],[0.1111111111111111,\"#46039f\"],[0.2222222222222222,\"#7201a8\"],[0.3333333333333333,\"#9c179e\"],[0.4444444444444444,\"#bd3786\"],[0.5555555555555556,\"#d8576b\"],[0.6666666666666666,\"#ed7953\"],[0.7777777777777778,\"#fb9f3a\"],[0.8888888888888888,\"#fdca26\"],[1.0,\"#f0f921\"]],\"sequentialminus\":[[0.0,\"#0d0887\"],[0.1111111111111111,\"#46039f\"],[0.2222222222222222,\"#7201a8\"],[0.3333333333333333,\"#9c179e\"],[0.4444444444444444,\"#bd3786\"],[0.5555555555555556,\"#d8576b\"],[0.6666666666666666,\"#ed7953\"],[0.7777777777777778,\"#fb9f3a\"],[0.8888888888888888,\"#fdca26\"],[1.0,\"#f0f921\"]],\"diverging\":[[0,\"#8e0152\"],[0.1,\"#c51b7d\"],[0.2,\"#de77ae\"],[0.3,\"#f1b6da\"],[0.4,\"#fde0ef\"],[0.5,\"#f7f7f7\"],[0.6,\"#e6f5d0\"],[0.7,\"#b8e186\"],[0.8,\"#7fbc41\"],[0.9,\"#4d9221\"],[1,\"#276419\"]]},\"xaxis\":{\"gridcolor\":\"white\",\"linecolor\":\"white\",\"ticks\":\"\",\"title\":{\"standoff\":15},\"zerolinecolor\":\"white\",\"automargin\":true,\"zerolinewidth\":2},\"yaxis\":{\"gridcolor\":\"white\",\"linecolor\":\"white\",\"ticks\":\"\",\"title\":{\"standoff\":15},\"zerolinecolor\":\"white\",\"automargin\":true,\"zerolinewidth\":2},\"scene\":{\"xaxis\":{\"backgroundcolor\":\"#E5ECF6\",\"gridcolor\":\"white\",\"linecolor\":\"white\",\"showbackground\":true,\"ticks\":\"\",\"zerolinecolor\":\"white\",\"gridwidth\":2},\"yaxis\":{\"backgroundcolor\":\"#E5ECF6\",\"gridcolor\":\"white\",\"linecolor\":\"white\",\"showbackground\":true,\"ticks\":\"\",\"zerolinecolor\":\"white\",\"gridwidth\":2},\"zaxis\":{\"backgroundcolor\":\"#E5ECF6\",\"gridcolor\":\"white\",\"linecolor\":\"white\",\"showbackground\":true,\"ticks\":\"\",\"zerolinecolor\":\"white\",\"gridwidth\":2}},\"shapedefaults\":{\"line\":{\"color\":\"#2a3f5f\"}},\"annotationdefaults\":{\"arrowcolor\":\"#2a3f5f\",\"arrowhead\":0,\"arrowwidth\":1},\"geo\":{\"bgcolor\":\"white\",\"landcolor\":\"#E5ECF6\",\"subunitcolor\":\"white\",\"showland\":true,\"showlakes\":true,\"lakecolor\":\"white\"},\"title\":{\"x\":0.05},\"mapbox\":{\"style\":\"light\"}}},\"xaxis\":{\"anchor\":\"y\",\"domain\":[0.0,1.0],\"title\":{\"text\":\"x1\"}},\"yaxis\":{\"anchor\":\"x\",\"domain\":[0.0,1.0],\"title\":{\"text\":\"x2\"}},\"legend\":{\"title\":{\"text\":\"y\"},\"tracegroupgap\":0},\"margin\":{\"t\":60},\"height\":600,\"width\":1000,\"font\":{\"family\":\"Arial\",\"size\":24,\"color\":\"Black\"},\"showlegend\":true},                        {\"responsive\": true}                    )                };            </script>        </div>"
      ],
      "text/plain": [
       "Figure({\n",
       "    'data': [{'hovertemplate': 'y=class 2<br>x1=%{x}<br>x2=%{y}<extra></extra>',\n",
       "              'legendgroup': 'class 2',\n",
       "              'marker': {'color': 'black', 'symbol': 'circle'},\n",
       "              'mode': 'markers',\n",
       "              'name': 'class 2',\n",
       "              'orientation': 'v',\n",
       "              'showlegend': True,\n",
       "              'type': 'scatter',\n",
       "              'x': {'bdata': ('S35taO8+gT+oUKpWvr7jv47kdBbe4N' ... 'gCSnS/zbusLGeC3j/xO32tcEPcvw=='),\n",
       "                    'dtype': 'f8'},\n",
       "              'xaxis': 'x',\n",
       "              'y': {'bdata': ('Qei7pL8i5T8wlVv7KgHRP1ET4ZnrAu' ... 'hSIdg/cL8aBhyI1j+LylragIfXPw=='),\n",
       "                    'dtype': 'f8'},\n",
       "              'yaxis': 'y'},\n",
       "             {'hovertemplate': 'y=class 1<br>x1=%{x}<br>x2=%{y}<extra></extra>',\n",
       "              'legendgroup': 'class 1',\n",
       "              'marker': {'color': 'grey', 'symbol': 'circle'},\n",
       "              'mode': 'markers',\n",
       "              'name': 'class 1',\n",
       "              'orientation': 'v',\n",
       "              'showlegend': True,\n",
       "              'type': 'scatter',\n",
       "              'x': {'bdata': ('4F3JYAS7878uJf4BJ17nP3u50uWJI/' ... '0lQ/M+/z/rPwC3rOLcv1ltZ5M6aPe/'),\n",
       "                    'dtype': 'f8'},\n",
       "              'xaxis': 'x',\n",
       "              'y': {'bdata': ('eOZ6It5Z9z9iyCp2FDn9v2W3bsfljP' ... 'cVU7+HwT8KRrxKOqf9vyOfWuFZs/Q/'),\n",
       "                    'dtype': 'f8'},\n",
       "              'yaxis': 'y'}],\n",
       "    'layout': {'font': {'color': 'Black', 'family': 'Arial', 'size': 24},\n",
       "               'height': 600,\n",
       "               'legend': {'title': {'text': 'y'}, 'tracegroupgap': 0},\n",
       "               'margin': {'t': 60},\n",
       "               'showlegend': True,\n",
       "               'template': '...',\n",
       "               'width': 1000,\n",
       "               'xaxis': {'anchor': 'y', 'domain': [0.0, 1.0], 'title': {'text': 'x1'}},\n",
       "               'yaxis': {'anchor': 'x', 'domain': [0.0, 1.0], 'title': {'text': 'x2'}}}\n",
       "})"
      ]
     },
     "execution_count": 36,
     "metadata": {},
     "output_type": "execute_result"
    }
   ],
   "source": [
    "from sklearn.datasets import make_circles\n",
    "from sklearn import preprocessing\n",
    "import plotly_express as px\n",
    "import matplotlib\n",
    "import matplotlib.pyplot as plt\n",
    "import seaborn as sns\n",
    "import pandas as pd\n",
    "import numpy\n",
    "\n",
    "sns.set_style(\"darkgrid\", {\"axes.facecolor\": \".9\"})\n",
    "plt.rcParams['font.size'] = '30'\n",
    "\n",
    "# generate a data set\n",
    "X, y = make_circles(n_samples=1_000, factor=0.3, noise=0.05, random_state=0)\n",
    "X = preprocessing.scale(X)\n",
    "\n",
    "X=X[500:]\n",
    "y=y[500:]\n",
    "\n",
    "# define target value, here: binary classification, class 1 or class 2\n",
    "y=np.where(y==0,\"class 1\",\"class 2\")\n",
    "\n",
    "# define x1 and x2 of a 2-dimensional data set\n",
    "x1 = X[:,0]\n",
    "x2 = X[:,1]\n",
    "\n",
    "import plotly_express as px\n",
    "# define the kernel function\n",
    "kernel = x1*x2 + x1**2 + x2**2\n",
    "\n",
    "circle_df = pd.DataFrame(X).rename(columns={0:\"x1\", 1:\"x2\"})\n",
    "circle_df = circle_df.assign(y=y)\n",
    "\n",
    "color_discrete_map = {circle_df.y.unique()[0]: \"black\", circle_df.y.unique()[1]: \"#f3d23a\"}\n",
    "px.scatter(circle_df, x=\"x1\", y=\"x2\", color=\"y\", color_discrete_map = color_discrete_map, width=1000, height=800)\n",
    "\n",
    "# plot the data set together with the kernel value in a 3-dimensional space\n",
    "color_discrete_map = {circle_df.y.unique()[0]: \"black\", circle_df.y.unique()[1]: \"grey\"}\n",
    "fig = px.scatter(circle_df, x=\"x1\", y=\"x2\", color=\"y\", color_discrete_map = color_discrete_map, width=1000, height=600)\n",
    "fig.update_layout(\n",
    "    font=dict(\n",
    "        family=\"Arial\",\n",
    "        size=24,  # Set the font size here\n",
    "        color=\"Black\"\n",
    "    ),\n",
    "    showlegend=True,\n",
    "    width=1000,\n",
    "    height=600,\n",
    ")"
   ]
  },
  {
   "cell_type": "code",
   "execution_count": 32,
   "id": "047d9c68",
   "metadata": {},
   "outputs": [
    {
     "ename": "ValueError",
     "evalue": "Mime type rendering requires nbformat>=4.2.0 but it is not installed",
     "output_type": "error",
     "traceback": [
      "\u001b[31m---------------------------------------------------------------------------\u001b[39m",
      "\u001b[31mValueError\u001b[39m                                Traceback (most recent call last)",
      "\u001b[36mFile \u001b[39m\u001b[32m~\\AppData\\Roaming\\Python\\Python313\\site-packages\\IPython\\core\\formatters.py:984\u001b[39m, in \u001b[36mIPythonDisplayFormatter.__call__\u001b[39m\u001b[34m(self, obj)\u001b[39m\n\u001b[32m    982\u001b[39m method = get_real_method(obj, \u001b[38;5;28mself\u001b[39m.print_method)\n\u001b[32m    983\u001b[39m \u001b[38;5;28;01mif\u001b[39;00m method \u001b[38;5;129;01mis\u001b[39;00m \u001b[38;5;129;01mnot\u001b[39;00m \u001b[38;5;28;01mNone\u001b[39;00m:\n\u001b[32m--> \u001b[39m\u001b[32m984\u001b[39m     \u001b[43mmethod\u001b[49m\u001b[43m(\u001b[49m\u001b[43m)\u001b[49m\n\u001b[32m    985\u001b[39m     \u001b[38;5;28;01mreturn\u001b[39;00m \u001b[38;5;28;01mTrue\u001b[39;00m\n",
      "\u001b[36mFile \u001b[39m\u001b[32mc:\\Python313\\Lib\\site-packages\\plotly\\basedatatypes.py:850\u001b[39m, in \u001b[36mBaseFigure._ipython_display_\u001b[39m\u001b[34m(self)\u001b[39m\n\u001b[32m    847\u001b[39m \u001b[38;5;28;01mimport\u001b[39;00m\u001b[38;5;250m \u001b[39m\u001b[34;01mplotly\u001b[39;00m\u001b[34;01m.\u001b[39;00m\u001b[34;01mio\u001b[39;00m\u001b[38;5;250m \u001b[39m\u001b[38;5;28;01mas\u001b[39;00m\u001b[38;5;250m \u001b[39m\u001b[34;01mpio\u001b[39;00m\n\u001b[32m    849\u001b[39m \u001b[38;5;28;01mif\u001b[39;00m pio.renderers.render_on_display \u001b[38;5;129;01mand\u001b[39;00m pio.renderers.default:\n\u001b[32m--> \u001b[39m\u001b[32m850\u001b[39m     \u001b[43mpio\u001b[49m\u001b[43m.\u001b[49m\u001b[43mshow\u001b[49m\u001b[43m(\u001b[49m\u001b[38;5;28;43mself\u001b[39;49m\u001b[43m)\u001b[49m\n\u001b[32m    851\u001b[39m \u001b[38;5;28;01melse\u001b[39;00m:\n\u001b[32m    852\u001b[39m     \u001b[38;5;28mprint\u001b[39m(\u001b[38;5;28mrepr\u001b[39m(\u001b[38;5;28mself\u001b[39m))\n",
      "\u001b[36mFile \u001b[39m\u001b[32mc:\\Python313\\Lib\\site-packages\\plotly\\io\\_renderers.py:415\u001b[39m, in \u001b[36mshow\u001b[39m\u001b[34m(fig, renderer, validate, **kwargs)\u001b[39m\n\u001b[32m    410\u001b[39m     \u001b[38;5;28;01mraise\u001b[39;00m \u001b[38;5;167;01mValueError\u001b[39;00m(\n\u001b[32m    411\u001b[39m         \u001b[33m\"\u001b[39m\u001b[33mMime type rendering requires ipython but it is not installed\u001b[39m\u001b[33m\"\u001b[39m\n\u001b[32m    412\u001b[39m     )\n\u001b[32m    414\u001b[39m \u001b[38;5;28;01mif\u001b[39;00m \u001b[38;5;129;01mnot\u001b[39;00m nbformat \u001b[38;5;129;01mor\u001b[39;00m Version(nbformat.__version__) < Version(\u001b[33m\"\u001b[39m\u001b[33m4.2.0\u001b[39m\u001b[33m\"\u001b[39m):\n\u001b[32m--> \u001b[39m\u001b[32m415\u001b[39m     \u001b[38;5;28;01mraise\u001b[39;00m \u001b[38;5;167;01mValueError\u001b[39;00m(\n\u001b[32m    416\u001b[39m         \u001b[33m\"\u001b[39m\u001b[33mMime type rendering requires nbformat>=4.2.0 but it is not installed\u001b[39m\u001b[33m\"\u001b[39m\n\u001b[32m    417\u001b[39m     )\n\u001b[32m    419\u001b[39m display_jupyter_version_warnings()\n\u001b[32m    421\u001b[39m ipython_display.display(bundle, raw=\u001b[38;5;28;01mTrue\u001b[39;00m)\n",
      "\u001b[31mValueError\u001b[39m: Mime type rendering requires nbformat>=4.2.0 but it is not installed"
     ]
    },
    {
     "data": {
      "application/vnd.plotly.v1+json": {
       "config": {
        "plotlyServerURL": "https://plot.ly"
       },
       "data": [
        {
         "hovertemplate": "y=class 2<br>x1=%{x}<br>x2=%{y}<br>kernel=%{z}<extra></extra>",
         "legendgroup": "class 2",
         "marker": {
          "color": "#636efa",
          "symbol": "circle"
         },
         "mode": "markers",
         "name": "class 2",
         "scene": "scene",
         "showlegend": true,
         "type": "scatter3d",
         "x": {
          "bdata": "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",
          "dtype": "f8"
         },
         "y": {
          "bdata": "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",
          "dtype": "f8"
         },
         "z": {
          "bdata": "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",
          "dtype": "f8"
         }
        },
        {
         "hovertemplate": "y=class 1<br>x1=%{x}<br>x2=%{y}<br>kernel=%{z}<extra></extra>",
         "legendgroup": "class 1",
         "marker": {
          "color": "#EF553B",
          "symbol": "circle"
         },
         "mode": "markers",
         "name": "class 1",
         "scene": "scene",
         "showlegend": true,
         "type": "scatter3d",
         "x": {
          "bdata": "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",
          "dtype": "f8"
         },
         "y": {
          "bdata": "eOZ6It5Z9z9iyCp2FDn9v2W3bsfljPM/sO1u5XU2+b/16vDakd/0vz7jAoWr6v8/c1A/43eW3T+vo2XQQ3v4P9l/Z9NHEfm/YEpdWmN2+z+kBAcSDkSpv4A9T1d7Z/k/ZRI3jaL++T/+pIjaqmrPvxfAzLxK5Pu/q5fmSHSV379H9245HLr+P9Zd1P8JVeQ/Anp0jDaM+L9aa7emYzn9P5OKEpER9ea//qDAxY7Q6T9UskpWElj9P1armo3oubs/Pq9Yf2eU/L/ppcs5M/fkP81n90jPqPe/d/4N/mSwsb/FhvLY9wgAQOyqJNldxvy/Ha+eOoBu5z+yfwyBa138v3F0ulGXoPu/pKGYYCAn+r9FBkUtej3wv4W1o26UGPQ/1FZNIn17AMC4qducK+/DPxovlpRe2P8/vL+fX9I0/T9EFTuXHarVvz23okgENgBADzCvZNlZsj+XQD3HKY7+v3npD2ZTpf2/Ix83UKzo/j+uAyp+68r9vyjBUcD77/Y/r5xBLc8D/b/O6HBgzknpv15zix89s+W/AJWeJ8x18r9wZMDbaPf3P4RfLid0BPq/qSPoBeAm8T8/gBaa+NLNv4u2G3nsYvK/9XoX20T38r9z4vrZ7p7nP1kRolEe5uW/58Tdvq5R/7/3BcaQL4LHP2MYuZsdl+y/lkS4vH2o479HKlDSMTDov2JNPTqpiO6/5WRqKlWX+L8ZIIHr/L3kv7B2o/KtqPs/1T2khRkTyT+NdXzR+5Hsv6ksvCQuMf4/rTKa3U8l9T+vfVju8Hb0P4WObNO9Yvk/01JioMea+z8cIS25cl7ePwDy93k7bPq/KSzVr4oH3L/9u3vnccWwv1SboYIXL/y/ECTJa6AX+z8CdJUo2OH2v5+5AGdpUvs/FxmN8eFA+7/+gdzonEz4v06fX0qcnPu/1et8dJCH+T/UKA5CUh37v4LgzdL19OI/HV3BYVfW/D8PuVk+0VLvv2+jtQMDcu0/Hb/7tcGg/D+6GsiScjL4P/Dh5ALW6/s/dV4+VTyq+78sChdaikL/v82e/FtUVfU/HHDjSkCj/j+Xa8l2Dq7yvzmoocol/dC/aGh7xpi+8L8c8VKUXPLiP+SI7BDx+es/PXPzThnM/z/7rvW2k1PtP2g/y2aze/i/vyXQ9D/E8j8j+tHhiPzzPy/K7y2ZqPW/avclqT9d/b8k/1VDahvvv4zy7WvbLvk/DJq90OOw/79JLkIJSgXtP9+ODmearfq/17x6Zr9d/j9JPPqeLl/tP/GQeg+9Eto/XG4p15xe9j8tZECfC0zkP6R+5n1ycP2/Xew/JKfe6T8SOHfwSRv/P0Q2MFuBXPu/VYqBBATC/T9TrXU/gu/8Py1y9/2vPus/xvg68irN+L+ORpqwrsvfv6bpIx73mfC/dr4yvn0C6L8PodIlWZf5vy6NnWXBZf8/kjATwKUm2z9rDxTsPWPzv8H37R/fWv0/8rFDQ8kh7L8PY7VHY8DkPwqH6jJFeP4/vofoqj2b+z8jJqzaVFn9P7Es0oxYiey/HhtGL3tW/T+ogP0SBUe7v/+zRmCup/a/7+Ud9Il0wj+6AdIu8Ijyv4YHJ1LZtvy/GjuweJNo2T8nd0jRWN74v8Bcj4/KbPO/5jaku4to5r84TVWGMHLlP2a5azYn7Ps/7BFEqGLO47+1UU7KhU3kv5B3RDOHbfO/cbhw9mjE9z9fqjA/kwgAwE+BUPpyl+G/PA3Ne8B0+T9uIlzEqz7mPxonauHCoPs/89zLKuFy8b/LsuV7wRTOP18FFq4Ot+k/ZLvU4saM+z+1hICv1e7sP+bDmAR46fE/osf90H4j7j+ZJZCOG735v7BH+E3Fk+8/rghAtTee+z+LfnKcUQz+Pz0ZkacQSPs/vbtQInm0/7/1JcetJIv9PylcpYyD1uQ/VVSXQK35/L9q6HvL4KX7v6rzGoYhoe8/C9UhlChgAMAKFrqK7Jn/v7T1/XVN2ey/OFgQz3cgvT+nA66wM5LzP+1s8STq9vw/auQ9IaQ4+D9c3NQVskzxv2qCIBifBQDA+rd7QdEF4D8jKaP6NqH9PzuTi+xpRvk/yoz9jCH6/j/kXZynVYvwP13OXLB/Eva/70h2Q27o6z/vBfqVLO35P6EcfVmAlv+/gsZ0oC1d+j/HSW4nt939PzwmH/N9rva/ChRAqodSAEAyuPjE0UPrvypkHNUvEvQ/twGA9MYv979GA6VD0fnFv7wxVsITzPa/3F9SYZgj8D+ks/SazAn9v5EUsp8RC/u/SYLZoC254r+mMeLXZlvPv613MWodEvY/55rp9vKw+z+sswMaqSrkP2MvuKNWUfc/BXXlOppq8L9NUAE9Nmb7P0Ejs3qm/L4/FVYWJnZ22r/NshPf4ufuv0g4QLkxIfi/bnZ7Wgzv+T8vNkePAbT2P+KJSBugTwBAEUaRzNEQ8b/LaMkuq+T1v/CETq6/7v8/GGDbL54O9T/0IzZgUOf4PyDpuzTaCPs/Ew+vMZlb4b/DCJICiLP0v0ltdHwktv2/ECjVrEss6r86nWSWtlT4P4OhVx+We+i/qHcVU7+HwT8KRrxKOqf9vyOfWuFZs/Q/",
          "dtype": "f8"
         },
         "z": {
          "bdata": "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",
          "dtype": "f8"
         }
        }
       ],
       "layout": {
        "height": 600,
        "legend": {
         "title": {
          "text": "y"
         },
         "tracegroupgap": 0
        },
        "margin": {
         "t": 60
        },
        "scene": {
         "domain": {
          "x": [
           0,
           1
          ],
          "y": [
           0,
           1
          ]
         },
         "xaxis": {
          "title": {
           "text": "x1"
          }
         },
         "yaxis": {
          "title": {
           "text": "x2"
          }
         },
         "zaxis": {
          "title": {
           "text": "kernel"
          }
         }
        },
        "template": {
         "data": {
          "bar": [
           {
            "error_x": {
             "color": "#2a3f5f"
            },
            "error_y": {
             "color": "#2a3f5f"
            },
            "marker": {
             "line": {
              "color": "#E5ECF6",
              "width": 0.5
             },
             "pattern": {
              "fillmode": "overlay",
              "size": 10,
              "solidity": 0.2
             }
            },
            "type": "bar"
           }
          ],
          "barpolar": [
           {
            "marker": {
             "line": {
              "color": "#E5ECF6",
              "width": 0.5
             },
             "pattern": {
              "fillmode": "overlay",
              "size": 10,
              "solidity": 0.2
             }
            },
            "type": "barpolar"
           }
          ],
          "carpet": [
           {
            "aaxis": {
             "endlinecolor": "#2a3f5f",
             "gridcolor": "white",
             "linecolor": "white",
             "minorgridcolor": "white",
             "startlinecolor": "#2a3f5f"
            },
            "baxis": {
             "endlinecolor": "#2a3f5f",
             "gridcolor": "white",
             "linecolor": "white",
             "minorgridcolor": "white",
             "startlinecolor": "#2a3f5f"
            },
            "type": "carpet"
           }
          ],
          "choropleth": [
           {
            "colorbar": {
             "outlinewidth": 0,
             "ticks": ""
            },
            "type": "choropleth"
           }
          ],
          "contour": [
           {
            "colorbar": {
             "outlinewidth": 0,
             "ticks": ""
            },
            "colorscale": [
             [
              0,
              "#0d0887"
             ],
             [
              0.1111111111111111,
              "#46039f"
             ],
             [
              0.2222222222222222,
              "#7201a8"
             ],
             [
              0.3333333333333333,
              "#9c179e"
             ],
             [
              0.4444444444444444,
              "#bd3786"
             ],
             [
              0.5555555555555556,
              "#d8576b"
             ],
             [
              0.6666666666666666,
              "#ed7953"
             ],
             [
              0.7777777777777778,
              "#fb9f3a"
             ],
             [
              0.8888888888888888,
              "#fdca26"
             ],
             [
              1,
              "#f0f921"
             ]
            ],
            "type": "contour"
           }
          ],
          "contourcarpet": [
           {
            "colorbar": {
             "outlinewidth": 0,
             "ticks": ""
            },
            "type": "contourcarpet"
           }
          ],
          "heatmap": [
           {
            "colorbar": {
             "outlinewidth": 0,
             "ticks": ""
            },
            "colorscale": [
             [
              0,
              "#0d0887"
             ],
             [
              0.1111111111111111,
              "#46039f"
             ],
             [
              0.2222222222222222,
              "#7201a8"
             ],
             [
              0.3333333333333333,
              "#9c179e"
             ],
             [
              0.4444444444444444,
              "#bd3786"
             ],
             [
              0.5555555555555556,
              "#d8576b"
             ],
             [
              0.6666666666666666,
              "#ed7953"
             ],
             [
              0.7777777777777778,
              "#fb9f3a"
             ],
             [
              0.8888888888888888,
              "#fdca26"
             ],
             [
              1,
              "#f0f921"
             ]
            ],
            "type": "heatmap"
           }
          ],
          "histogram": [
           {
            "marker": {
             "pattern": {
              "fillmode": "overlay",
              "size": 10,
              "solidity": 0.2
             }
            },
            "type": "histogram"
           }
          ],
          "histogram2d": [
           {
            "colorbar": {
             "outlinewidth": 0,
             "ticks": ""
            },
            "colorscale": [
             [
              0,
              "#0d0887"
             ],
             [
              0.1111111111111111,
              "#46039f"
             ],
             [
              0.2222222222222222,
              "#7201a8"
             ],
             [
              0.3333333333333333,
              "#9c179e"
             ],
             [
              0.4444444444444444,
              "#bd3786"
             ],
             [
              0.5555555555555556,
              "#d8576b"
             ],
             [
              0.6666666666666666,
              "#ed7953"
             ],
             [
              0.7777777777777778,
              "#fb9f3a"
             ],
             [
              0.8888888888888888,
              "#fdca26"
             ],
             [
              1,
              "#f0f921"
             ]
            ],
            "type": "histogram2d"
           }
          ],
          "histogram2dcontour": [
           {
            "colorbar": {
             "outlinewidth": 0,
             "ticks": ""
            },
            "colorscale": [
             [
              0,
              "#0d0887"
             ],
             [
              0.1111111111111111,
              "#46039f"
             ],
             [
              0.2222222222222222,
              "#7201a8"
             ],
             [
              0.3333333333333333,
              "#9c179e"
             ],
             [
              0.4444444444444444,
              "#bd3786"
             ],
             [
              0.5555555555555556,
              "#d8576b"
             ],
             [
              0.6666666666666666,
              "#ed7953"
             ],
             [
              0.7777777777777778,
              "#fb9f3a"
             ],
             [
              0.8888888888888888,
              "#fdca26"
             ],
             [
              1,
              "#f0f921"
             ]
            ],
            "type": "histogram2dcontour"
           }
          ],
          "mesh3d": [
           {
            "colorbar": {
             "outlinewidth": 0,
             "ticks": ""
            },
            "type": "mesh3d"
           }
          ],
          "parcoords": [
           {
            "line": {
             "colorbar": {
              "outlinewidth": 0,
              "ticks": ""
             }
            },
            "type": "parcoords"
           }
          ],
          "pie": [
           {
            "automargin": true,
            "type": "pie"
           }
          ],
          "scatter": [
           {
            "fillpattern": {
             "fillmode": "overlay",
             "size": 10,
             "solidity": 0.2
            },
            "type": "scatter"
           }
          ],
          "scatter3d": [
           {
            "line": {
             "colorbar": {
              "outlinewidth": 0,
              "ticks": ""
             }
            },
            "marker": {
             "colorbar": {
              "outlinewidth": 0,
              "ticks": ""
             }
            },
            "type": "scatter3d"
           }
          ],
          "scattercarpet": [
           {
            "marker": {
             "colorbar": {
              "outlinewidth": 0,
              "ticks": ""
             }
            },
            "type": "scattercarpet"
           }
          ],
          "scattergeo": [
           {
            "marker": {
             "colorbar": {
              "outlinewidth": 0,
              "ticks": ""
             }
            },
            "type": "scattergeo"
           }
          ],
          "scattergl": [
           {
            "marker": {
             "colorbar": {
              "outlinewidth": 0,
              "ticks": ""
             }
            },
            "type": "scattergl"
           }
          ],
          "scattermap": [
           {
            "marker": {
             "colorbar": {
              "outlinewidth": 0,
              "ticks": ""
             }
            },
            "type": "scattermap"
           }
          ],
          "scattermapbox": [
           {
            "marker": {
             "colorbar": {
              "outlinewidth": 0,
              "ticks": ""
             }
            },
            "type": "scattermapbox"
           }
          ],
          "scatterpolar": [
           {
            "marker": {
             "colorbar": {
              "outlinewidth": 0,
              "ticks": ""
             }
            },
            "type": "scatterpolar"
           }
          ],
          "scatterpolargl": [
           {
            "marker": {
             "colorbar": {
              "outlinewidth": 0,
              "ticks": ""
             }
            },
            "type": "scatterpolargl"
           }
          ],
          "scatterternary": [
           {
            "marker": {
             "colorbar": {
              "outlinewidth": 0,
              "ticks": ""
             }
            },
            "type": "scatterternary"
           }
          ],
          "surface": [
           {
            "colorbar": {
             "outlinewidth": 0,
             "ticks": ""
            },
            "colorscale": [
             [
              0,
              "#0d0887"
             ],
             [
              0.1111111111111111,
              "#46039f"
             ],
             [
              0.2222222222222222,
              "#7201a8"
             ],
             [
              0.3333333333333333,
              "#9c179e"
             ],
             [
              0.4444444444444444,
              "#bd3786"
             ],
             [
              0.5555555555555556,
              "#d8576b"
             ],
             [
              0.6666666666666666,
              "#ed7953"
             ],
             [
              0.7777777777777778,
              "#fb9f3a"
             ],
             [
              0.8888888888888888,
              "#fdca26"
             ],
             [
              1,
              "#f0f921"
             ]
            ],
            "type": "surface"
           }
          ],
          "table": [
           {
            "cells": {
             "fill": {
              "color": "#EBF0F8"
             },
             "line": {
              "color": "white"
             }
            },
            "header": {
             "fill": {
              "color": "#C8D4E3"
             },
             "line": {
              "color": "white"
             }
            },
            "type": "table"
           }
          ]
         },
         "layout": {
          "annotationdefaults": {
           "arrowcolor": "#2a3f5f",
           "arrowhead": 0,
           "arrowwidth": 1
          },
          "autotypenumbers": "strict",
          "coloraxis": {
           "colorbar": {
            "outlinewidth": 0,
            "ticks": ""
           }
          },
          "colorscale": {
           "diverging": [
            [
             0,
             "#8e0152"
            ],
            [
             0.1,
             "#c51b7d"
            ],
            [
             0.2,
             "#de77ae"
            ],
            [
             0.3,
             "#f1b6da"
            ],
            [
             0.4,
             "#fde0ef"
            ],
            [
             0.5,
             "#f7f7f7"
            ],
            [
             0.6,
             "#e6f5d0"
            ],
            [
             0.7,
             "#b8e186"
            ],
            [
             0.8,
             "#7fbc41"
            ],
            [
             0.9,
             "#4d9221"
            ],
            [
             1,
             "#276419"
            ]
           ],
           "sequential": [
            [
             0,
             "#0d0887"
            ],
            [
             0.1111111111111111,
             "#46039f"
            ],
            [
             0.2222222222222222,
             "#7201a8"
            ],
            [
             0.3333333333333333,
             "#9c179e"
            ],
            [
             0.4444444444444444,
             "#bd3786"
            ],
            [
             0.5555555555555556,
             "#d8576b"
            ],
            [
             0.6666666666666666,
             "#ed7953"
            ],
            [
             0.7777777777777778,
             "#fb9f3a"
            ],
            [
             0.8888888888888888,
             "#fdca26"
            ],
            [
             1,
             "#f0f921"
            ]
           ],
           "sequentialminus": [
            [
             0,
             "#0d0887"
            ],
            [
             0.1111111111111111,
             "#46039f"
            ],
            [
             0.2222222222222222,
             "#7201a8"
            ],
            [
             0.3333333333333333,
             "#9c179e"
            ],
            [
             0.4444444444444444,
             "#bd3786"
            ],
            [
             0.5555555555555556,
             "#d8576b"
            ],
            [
             0.6666666666666666,
             "#ed7953"
            ],
            [
             0.7777777777777778,
             "#fb9f3a"
            ],
            [
             0.8888888888888888,
             "#fdca26"
            ],
            [
             1,
             "#f0f921"
            ]
           ]
          },
          "colorway": [
           "#636efa",
           "#EF553B",
           "#00cc96",
           "#ab63fa",
           "#FFA15A",
           "#19d3f3",
           "#FF6692",
           "#B6E880",
           "#FF97FF",
           "#FECB52"
          ],
          "font": {
           "color": "#2a3f5f"
          },
          "geo": {
           "bgcolor": "white",
           "lakecolor": "white",
           "landcolor": "#E5ECF6",
           "showlakes": true,
           "showland": true,
           "subunitcolor": "white"
          },
          "hoverlabel": {
           "align": "left"
          },
          "hovermode": "closest",
          "mapbox": {
           "style": "light"
          },
          "paper_bgcolor": "white",
          "plot_bgcolor": "#E5ECF6",
          "polar": {
           "angularaxis": {
            "gridcolor": "white",
            "linecolor": "white",
            "ticks": ""
           },
           "bgcolor": "#E5ECF6",
           "radialaxis": {
            "gridcolor": "white",
            "linecolor": "white",
            "ticks": ""
           }
          },
          "scene": {
           "xaxis": {
            "backgroundcolor": "#E5ECF6",
            "gridcolor": "white",
            "gridwidth": 2,
            "linecolor": "white",
            "showbackground": true,
            "ticks": "",
            "zerolinecolor": "white"
           },
           "yaxis": {
            "backgroundcolor": "#E5ECF6",
            "gridcolor": "white",
            "gridwidth": 2,
            "linecolor": "white",
            "showbackground": true,
            "ticks": "",
            "zerolinecolor": "white"
           },
           "zaxis": {
            "backgroundcolor": "#E5ECF6",
            "gridcolor": "white",
            "gridwidth": 2,
            "linecolor": "white",
            "showbackground": true,
            "ticks": "",
            "zerolinecolor": "white"
           }
          },
          "shapedefaults": {
           "line": {
            "color": "#2a3f5f"
           }
          },
          "ternary": {
           "aaxis": {
            "gridcolor": "white",
            "linecolor": "white",
            "ticks": ""
           },
           "baxis": {
            "gridcolor": "white",
            "linecolor": "white",
            "ticks": ""
           },
           "bgcolor": "#E5ECF6",
           "caxis": {
            "gridcolor": "white",
            "linecolor": "white",
            "ticks": ""
           }
          },
          "title": {
           "x": 0.05
          },
          "xaxis": {
           "automargin": true,
           "gridcolor": "white",
           "linecolor": "white",
           "ticks": "",
           "title": {
            "standoff": 15
           },
           "zerolinecolor": "white",
           "zerolinewidth": 2
          },
          "yaxis": {
           "automargin": true,
           "gridcolor": "white",
           "linecolor": "white",
           "ticks": "",
           "title": {
            "standoff": 15
           },
           "zerolinecolor": "white",
           "zerolinewidth": 2
          }
         }
        },
        "width": 1000
       }
      },
      "text/html": [
       "<div>                        <script type=\"text/javascript\">window.PlotlyConfig = {MathJaxConfig: 'local'};</script>\n",
       "        <script charset=\"utf-8\" src=\"https://cdn.plot.ly/plotly-3.1.0.min.js\" integrity=\"sha256-Ei4740bWZhaUTQuD6q9yQlgVCMPBz6CZWhevDYPv93A=\" crossorigin=\"anonymous\"></script>                <div id=\"e9b9d03e-1206-4a0c-a2a0-d611b38a9199\" class=\"plotly-graph-div\" style=\"height:600px; width:1000px;\"></div>            <script type=\"text/javascript\">                window.PLOTLYENV=window.PLOTLYENV || {};                                if (document.getElementById(\"e9b9d03e-1206-4a0c-a2a0-d611b38a9199\")) {                    Plotly.newPlot(                        \"e9b9d03e-1206-4a0c-a2a0-d611b38a9199\",                        [{\"hovertemplate\":\"y=class 2\\u003cbr\\u003ex1=%{x}\\u003cbr\\u003ex2=%{y}\\u003cbr\\u003ekernel=%{z}\\u003cextra\\u003e\\u003c\\u002fextra\\u003e\",\"legendgroup\":\"class 2\",\"marker\":{\"color\":\"#636efa\",\"symbol\":\"circle\"},\"mode\":\"markers\",\"name\":\"class 2\",\"scene\":\"scene\",\"showlegend\":true,\"x\":{\"dtype\":\"f8\",\"bdata\":\"S35taO8+gT+oUKpWvr7jv47kdBbe4No\\u002fucHDn3Mz4j8oVrhaFkvHv6qBvA6Sjt8\\u002fS\\u002fF018pd2D8ut9JWRwfSv9+tWIdvxFa\\u002fiTS1dh6427\\u002fngvseFQrSP5rnrAZoZtq\\u002fbE2X\\u002fEDU4z+sxINC6sTkvwp3k3C+IsS\\u002fFGhnxfpt4r+VmErYGa\\u002ffPxcpK5xtJrk\\u002ft3XkrvrWpT9att5hdSLfvz2Z07Z0VNe\\u002fbvvwlLJmub8Ee\\u002feKZOnEP2lZwprsIbo\\u002fkXNIMLV8gj+RP4yzaFDnv+qSKgc2XNO\\u002fNr0WdZG50z\\u002f9R8mCHf3PPw\\u002fcXkGsbt+\\u002fvg3NnTPY27+MP\\u002f\\u002fGrhnDv4+pvFQX4+I\\u002fmPOo1hfX4b9bMpvipq7Pv09sldGRMeI\\u002fHegydzHf5b+NC7CtnC3avwq3cc4zneI\\u002frVjprSlE0b8U8WSYMlXhv42L1WKLvNW\\u002fYPyAih7n27+onefI7rLVP2YEy2d2L+M\\u002fFX12btuuzD+xNNw174fjP\\u002fKzKpW62se\\u002frGg70BmJ1D+cibdlz9C7v+XDgzk9wdW\\u002fG3nV3QeB4z\\u002fGty7p45Kdv8BD\\u002fzVMCby\\u002fyX\\u002fHmNBu1D9ysDPceSXTv9WW97FYLdW\\u002fyvJolx6q2T+UbmXUw1jQv4zIOZSTadw\\u002fbyQMjiVW4b+WNJZ9JWThvyiwmo4Sr90\\u002fHJYruinH5r8lnMpLGzTGP+RyT3dV8ti\\u002fdixjFDMdxj9MDY4K0+XYv+la8C0mjN8\\u002foBXcYRG45L+5YjPkOe3SvxYCmDK0KLo\\u002f3Dcfb6Yj3T9qtTAy6ajZP6LJPkqE5uK\\u002fiGo8cUP8vT9gPgIupergP2XZUhFRaso\\u002fhjmMUI0UyD8anjR1jzrjP4nh6x\\u002fd48i\\u002fxd5C33iSyT96FNTqZ\\u002fbjP2veyK1sbOY\\u002fWmQ8aDg\\u002f3T\\u002fJzYEzvZzcvwbEzlFvteG\\u002f\\u002ff1jRgBmpL9RyydXTZ7eP\\u002f6u9mh9fZM\\u002fmo2cCTWGyj9XmfjKpGHVP+3H0sezbNe\\u002ft740AHkD3D+vKnnMHwrkPyy3uwg7ZN6\\u002f4sjeNcnzxL+Vp1bc\\u002fK3QPwiGWnC\\u002fTMm\\u002fzW7i3kwT0r\\u002fWHedVtCrjP10qJnDXHOS\\u002fSlVZ6MT73r8Z74wTmcXRP\\u002fcWMiIpk9e\\u002f2CmM6YfE3D+YHH7iGnPgP+OYLuTh8uM\\u002fMFFGvK8Z2T9sy31\\u002f5WPiP0y602yEuNu\\u002fHUkdeWbG4z\\u002ffFPUzNobfv0zL5AHaUsA\\u002fSosxXcbhob990yVA4Ozcv5HEivm6Tc+\\u002fDuQ7Sj1spr\\u002fwcoG\\u002fh3HYP5gDGXM+O9s\\u002fAqDXuK7Ay78adJ3JyfvkP1gKOBJR5+S\\u002f\\u002f9eZUPEo4r9oe2s6p0LgPwXyndg1Ldg\\u002fGhLCIqVJ2D8O10zepnjDv36ntt+PHtm\\u002f9fQE7HgVsr8dtzdManTSv5rCvM1KtuI\\u002f45KvTgpB2L8EKdF0E3C6vyJBCjR34cq\\u002fKBBUkv111L\\u002f\\u002fRvIHi7rXv+hp9gOlfsQ\\u002fnkKRneFx0L+5UMMe1SzVv\\u002fbDomhNarW\\u002fltFwOXXw3b\\u002fd8O2eK8rgP26p3QYX99u\\u002fw+e24Xqc4b\\u002fPA0vrqoLaPy6MOaLU8ua\\u002f9ZZXkIFh4r\\u002f\\u002fu7glCQPgPxi05UKCU9s\\u002fnsVNqDH4yz96XA5L+LjZv42cfuuMyOA\\u002fRMZSSx\\u002f15D\\u002fGjuSgiAXdP0Y7410OUOM\\u002fqX0d6Zq70b+26eOooXfPPwgZCC9h89k\\u002fCJEOjIFH3r9+8LX0oyenP10JloyKFMk\\u002frBUNAHBE5L8CgFtOWcbhPx\\u002fF1ZFsQL8\\u002fwF9WLj3tyT+1KV5IfTnfP5lOLhHtANi\\u002f4a\\u002fPZagWub8FRk2hUFTSP42a5ei+Dd0\\u002f1zF58T9pt7\\u002fNcuOC0ljhP4JOAN+LmeS\\u002f2v70n2LA2j\\u002fHcx9XS5Djv\\u002fX0JZibsOG\\u002fdriSdx6i3z9n7hieUVTfv3xk3cYa\\u002fdI\\u002fu0rHSpwb5L\\u002fpgabPiPrNP4KVwx55Nua\\u002f+EYoERef1z8pFuKN5p7gv9JxfHzEjn6\\u002fKeIlu7Yw2z9NB8SihanhP38Z50bzOeA\\u002fIfKMB32Doz91QBkLy0vNv7\\u002f3lPIaEN6\\u002f9CbzVc994L\\u002fxFTKcCCaqv37PgTfWXNw\\u002fqRI4MaF32j8S7AkFpibTP87RFC1MqeA\\u002fyVyrOkBexr9P7JuuPaLfv5\\u002f3bzSbttO\\u002f4ybZMKxPwr8Sg0Ak96vGv\\u002fulPadJssG\\u002f8fHrvLB22D89lAU0Sr\\u002ffv8ka7qlDP6A\\u002fB\\u002f\\u002fsFPvZ3z+o6rUXGUDUP3b\\u002fVU906s8\\u002fSoqEmxdU2L\\u002fHr3l\\u002fD5env8iGuu3KA8c\\u002fKIr0\\u002fWKG4D9rpAAZy6+8P+kpw\\u002fMLueK\\u002fNeW40U+jyz+jefxfjnzNPzeH6yYMhNY\\u002fq0N+h7Pp2D\\u002ftIo6AKTLCv9yjYdYDHac\\u002fu5RswEpE5j9QkXg2jgPcv\\u002fZ2UFQvxtm\\u002f2oVgGOmP4D9Cse95W9rkP4RlX+4jMNC\\u002fvT2poVHR3b8Hqc8nF1TOP59Azyy809O\\u002ffjSltHSz279rRuBjk0fiPyDvw604fcG\\u002fYOamYmY8sb9TL5Cr0nLhv9MJ5PPXSdi\\u002f8oJHhX2p0D+Mc4H3TFzjv7WIleAL6NK\\u002fcv3qPorn4D\\u002fOopV4ucLcv3wclx2nO9W\\u002fEWcUeGcb3j\\u002f9u2\\u002f0\\u002feHlP31PlK\\u002f6OtW\\u002fyJHzb4I6vT+wWfSS5DXJP\\u002f5c4OAFduG\\u002f09CRW1gT578okiR9E0ziv6alF\\u002flyG+C\\u002fdi+bJ0X25r8B5GelRgnPv3+u\\u002fGgCSnS\\u002fzbusLGeC3j\\u002fxO32tcEPcvw==\"},\"y\":{\"dtype\":\"f8\",\"bdata\":\"Qei7pL8i5T8wlVv7KgHRP1ET4ZnrAuQ\\u002f1DWamJPKwD\\u002f1u1l8pr7fP6p9JxktTtA\\u002fEOcTpODk0r\\u002fuyipoNljGv8+PX8vX7+I\\u002fAdUQ9dR61L9cqG7QQ1XlP2USgIsVMdC\\u002flzOIaFdgsz80atD\\u002f3h\\u002fTPzU3pR5ZhOU\\u002fuKjQLQNy0T\\u002fDG6YNkDXGv8\\u002fHL5KWbOK\\u002fDSVxJbXz4T8ZFV6bGtTcvzJxuSN9SuO\\u002fv2ebH+Yd5T8UOHh\\u002feX7ivzRYbNtHW+C\\u002f4585Tg4X4r+goWXat46Zv9b+FBS5P9a\\u002fa6svbfXd1z8HxGIeJ3blv6l\\u002f0AAe19a\\u002fcuUX8C7C2j+ZvxEraVbbv5JpLVzS6dS\\u002fsNuoF8J2nr+XfP7\\u002fTkbbP\\u002fsgCRWoxss\\u002fqy4tDnu2uD+sW7j3grOnv1960mSuWLa\\u002fODIy92Fa2b8t+JUEBLOUv+tJXqZctui\\u002fXpopKGhJ1j+g6OXRzVvgP3z39zHnH9A\\u002fmd9JK52P4b\\u002fazxNKRee+P2SH8Ir1Odq\\u002fTkOjXxn40z8ium23+r3hP1Z6i+g0kt0\\u002fLyFpKKdFwb\\u002f2qpMYApnmvyKyyU9tQeI\\u002fdKxHatU54b+A5l7L6lTdP4d4nqADmuM\\u002foRmuwXMk4T\\u002fHjFGmkY\\u002fRv5xWw8Vhjdi\\u002fsyRBqnNL0b9jMrndhzjYPwZRW9Zipt8\\u002fhaGk0JNY1T8i4b0+ZAbkv1l+YWmk6uM\\u002fOQSsNIjl3D+qweJ9p17dP0g6zSSHncO\\u002fv49WdlI7zr+tuydFYsnWP\\u002faw0YNOZuW\\u002fN73sbqYjwz\\u002fgnD6Jm8LfP8l2RsaA\\u002f8i\\u002fs9xCiN4n47+F2X4ZKiLPP2MTkEWlMuS\\u002fZPjXo5wn4D9EacdINS3Jv4WHy6WFL+I\\u002ft5pYy9l53T\\u002f12PLDDWvKv028\\u002fThzC8i\\u002f+2fsmtBqxb8d+tTgR1nUP+CPXlxZ57M\\u002f+gnWikZC5z+rv+q2GQrQPzg4Hfur+ua\\u002fJ4ryvuaI4T+3mdNqqMPkv2PKCUVzet4\\u002fV6aASa4Hzj+HKNSbKijQv1DginK8gag\\u002f0\\u002ftTTN+g379gQurkYZvgv7colVWgtOA\\u002fDB+CAqPn1T9C6VduOzS4vyzUJ37sIM2\\u002f+t0pGn4axT8zORAb2rjhv5LglTeVL9W\\u002fnkgqVWmW2j+Q9GslRA3CP12b\\u002fWi\\u002fjsI\\u002fZz5meu0Y4L9r4G+a1zqSPwHZec0JaeC\\u002f4\\u002fCzRvsSyb9E4UJFdMfNv02A+Btad+O\\u002fbL1VyX4Y3r9zFA7Ljl7Lv2+RZ\\u002fScQuO\\u002f1EEpNymQ5L\\u002fuPet86XXWv9QH\\u002fJqTBbe\\u002fz6iaTjMw5T9dwC54J0LZvxfFJtHIZpQ\\u002fJiBO4smvxj+ix50V7srGP4sGXb73ndg\\u002fxZmEOYuG0T8wYN6byF\\u002fhv64PFWDDLea\\u002fmQjbRJRq5b\\u002ftOqc07rzTP5u2P\\u002ftHE8U\\u002ffdIUqZuS4L+vYnnnrZPeP8J62smjHOI\\u002ffgeJfax+378wNKJRYh\\u002faP3PZsdypZuI\\u002f78XI3i14479kDG2WIL3hv0GKb8qCruW\\u002fpC2A70ORwz+dOdElpnXCv2swVHyPL9M\\u002fP+1YK7jOwT\\u002fSfsqxR8fjv0RcDzZRjdM\\u002fer0hvYhVsD+Q4FVBMJzQP5uugVy43Mq\\u002f1Uz9eh744D9n0Ekyem\\u002fVv2aTrU4jBd+\\u002f2oR\\u002fEJPM1z89lkdxlB6zP3vjy51HWqs\\u002fIopXbnCJ0z9nrWTTo43jPzGjIO2bANE\\u002f2PJB5IKa2z8dvXUwILbePybxjfyOk9w\\u002fcM65BNIUrb98pzIjVnHQv0AICdb1fuS\\u002fjDt4GfVz4j8lVD4eGETPP5Nodvypz+C\\u002fHi3wKxc\\u002f4T\\u002fR4mAmmGbRP9IafYtOTNa\\u002fuUKDssMK4L9UST6Nq2Gtv0QCJ+OCmtO\\u002fIhPfmqUn2L8DuBuDRR7Bv8qXtQmCM8q\\u002ffzLnALPAt7\\u002fFefHSA4TQv1UdX21619k\\u002fyKzX5nt+er+vu8kjvS7dP\\u002f3gmuT7WsQ\\u002fFv+YFmAo1D8pAnryrD3dP1+6yf8o1d2\\u002f5e8JDVIh3D+2PlKxfoXNP+lE7\\u002fWqoMk\\u002fggtMOlRr4j\\u002fHmZIOcDHkv5caOO2HZda\\u002f\\u002fi68A5oz3D+rHxnD24LlPym0y3tU692\\u002fNU9wbha51r8qoASlmc3gPxApn7aYPuA\\u002fEAp4zpPm3L8jE7gd\\u002f\\u002frKP+Nx36t7Mtq\\u002fmdNKoJqI3T+TkSwksxvUv12GZebbbOG\\u002fODlZEQEjzr+sXfS6PRPCv0+vFge8a9w\\u002f1eLwLIvpyT\\u002f0Nr9sgUTiP8xNrp4g7OO\\u002fYy4l5lAa0L9Z\\u002fma1fU7ev1\\u002fcuhKHqOW\\u002fOtrwWUzB2b9GwPUTovrmP2iBO9SFxKi\\u002fHoTiIbL60D9p67IcWA\\u002ffv1cUVLaOMdS\\u002fmbc2Y6DD4r+sqXz6H4zVv41u\\u002f3GGxeW\\u002fSLRAOb\\u002fQsT8hvGBAORPTP3e2Osfh7tQ\\u002f5WicLP\\u002f3wD+zTeKqC2bUP6VjhrH\\u002f8d0\\u002fbatK6WmK0D+IXCl9ovzev48xkMuqid8\\u002fDXVX+37o1L9J51\\u002f23wjGvwc4yZ9J6eK\\u002fg5kXsT3Q4r8SRoGmm4HXP+EG3opswq6\\u002fBs6DQ25V4r9Q4yqcyFnLv8lvn0ftYOa\\u002fHPWRuOgWzj\\u002fuQWbcBHrmP2ESkFqfGuK\\u002fTW2Qsbi6zb\\u002fsjmbbizzbPykmXH0MZtQ\\u002fxSZSUYiV2z\\u002f7dFlaVWbkP1FM2ZcWQdi\\u002fWcG62zaxsD9qn9gTEDG6P+iKi27og8Q\\u002fxxxnfDWBrz9SRDc8Gm3Svz5bPkhSIdg\\u002fcL8aBhyI1j+LylragIfXPw==\"},\"z\":{\"dtype\":\"f8\",\"bdata\":\"oyVALcxH3D8wz8RAd2TSP0hux2gLkOo\\u002fWIigotWU2j\\u002fIa9IrOC3IP0ceraQBwds\\u002fJb5c\\u002fjalvj8cCaNDG1rEP\\u002fE608k\\u002fXNY\\u002f5Fhr9tht2z8eDvFd+sbmP9t15RhiqtU\\u002fK7SSwmTx2z\\u002fMLHHPIkPUPzyt6PkYwNc\\u002fBsD8SVzfzz\\u002f25vTvyjrIP4btRB6YNtI\\u002fTPYyykHK1T\\u002fOIe52BhTlP\\u002fwwnZXt6eY\\u002fGQRduzlP2D8jKvQhzgrRP6JFxH\\u002fkGMw\\u002fDwnhcLsh1D8z52JScZbhP0y2TfRMUtQ\\u002f5o9CTetV1j8Skmavug7WP847cdYvZ+E\\u002fCKIi8hBSxz8M0LG9fy7RP8ExRiEVydA\\u002fISytJpwC1T9UuP5kSpbBP1u9aO4Fmd8\\u002ffnk77rFF2j9M9KnnCx3IP0TS0e6p5NI\\u002fHpPYep2K1T+OYj1r5oDTP63e8JcxK+8\\u002frtp8VzlrxD9aboKTYZbhP97yeqYSXuI\\u002faEg\\u002fHT48zT89X1ZCQn3dPyKN\\u002fXaP29E\\u002fVr1BvDU60z8z1Sez7ZLQP3L8hBNGA8Y\\u002f8MA1QFat0z93nDzdJqPgPyxbeV0gmdE\\u002fLv0UpdgjzD\\u002fAoPI1ssrEP\\u002fJgPS6cDNI\\u002fhtUUzQg05T+DllAKSPXKP5nK6TTrQ8Y\\u002fKXbJRvlp4D\\u002fJqXo8CtDNP\\u002f69NXywDOY\\u002f8N7CKj1a2D8O7DBFfArUP2iVQj4+\\u002fdI\\u002ffDMHcCHz0z++7I8K6nnHP2aEMgM0cMg\\u002fICi0T\\u002fEX5D\\u002fi1AV7zOK7P\\u002f45uv2Y6tg\\u002fm7dRsxoO0z+rj7zdMGTjP75CFAQ4E+A\\u002fvBLi0hJT0z8mDFUOtubdP6Z1uIDh4tM\\u002fPkTHSIKn2D9WCG82UgXSP+hBFqFsBNA\\u002fDEQyJMwE1j\\u002fsEtGjdmTTP1PCGveDQtk\\u002fpIMxLeqGxD9MiYJRE1TEP2YKBruvO9E\\u002fNwH5d5YH4D\\u002fuOLLiZlfaP1MHfz1YE+A\\u002fCaSpv2k73T9fLHo+ZDfUP\\u002fbBxgiV3cc\\u002fXsMc1lVb1j+HIJstTQ\\u002fTPxECnNpuP8o\\u002f3adFTcyF1j++3JL4B9vJP2gb2C1qrco\\u002fyUer66WpuT+zAV6qf+jTP9R0amEZ4OI\\u002fHM0a\\u002fRRDxz9fJAPAv3HNP55pJsdFgNc\\u002fzv\\u002fZV6724T8Tr\\u002faRGNPWP4VvHAs4AOA\\u002fwe0p+m\\u002fTyj8s3hqEBdDVP8JlZoTkhuU\\u002fICtzjigm0z\\u002fwyOBFcVPaPxDZ2J9cwtM\\u002fQMwuLSSQzj+VZfCDGy\\u002fWP+DH2rVuN+I\\u002f8s5rvftZ3D+O4\\u002fknk0fBP\\u002f0fVHOST8M\\u002fXp0JrS3h1T\\u002f2TRUtz+zUPxq\\u002f51OggNo\\u002fLNdS8kIv0D9oldxAXljYP2bsFrio5ts\\u002fjf7zS8Sq1D+MBlfIGaLZP\\u002fyKnjadAe0\\u002fvezTtXAB4D\\u002fLeWMAgt62P6GAci7kx90\\u002f+HYzM5J14z9qodHsRETIPwFeATuLb88\\u002fgFc4DPgN4D+\\u002fu2FFr4zDPznEBQIYstw\\u002flw9D1Qf24j+qe6DUkTTjPzUKK4BouuA\\u002fCvnnAFHZxT8fcjqPszbMP5KKCeDlLMM\\u002f89jPyU9yzz\\u002f7gmh+hAvTP+zA\\u002ffTH3dg\\u002foNTrkfAH0z9qy6WvU6XcP0vtg4zCgME\\u002fJC5wPQt43D+WoPBTAiLaP2Qz4N3rXtA\\u002f6JkPUJ3x6T+fP42skF7PPxJj3m22jtk\\u002fTuAEmi3btT+9A8cOUrDiP8NK2FT57tU\\u002fLXKIVtBXyj83g3H11UHQP8NPnvLd0NQ\\u002fSDzf+H4u3D+mibQL16zNP3hZ+j5wNNY\\u002fmrAhchRi3z+\\u002fOZy6\\u002fa3aPy5DiYtko+M\\u002ffAdoXAumzz\\u002fcxU0wku3NP+YZpq3Wq8U\\u002fPQLl1bON0z+W7S2u8gbRP2UtVhm6kuY\\u002fnCNPil9nxD9hM0\\u002fyZUzeP0aSj7Jke90\\u002fdIW4E6iAyj\\u002fvXCGQ5K7bP6o6GDdCvNc\\u002fFfGMgn2I2T8gwJEN66bXP\\u002fD3n1pEZNk\\u002f\\u002fraHrNeB1j+vJapiG+DOPwrLgtqsQ8w\\u002f9YdDKfju4T\\u002f7bIA0bAzfP8zr9OvdhNk\\u002fAQFYKIez1j+HnJgOYgrjP6mSvi5jPeA\\u002fy+dR\\u002fj3IzT95+syd7uPaP33jtS8ZmMo\\u002fmjb6kX07wz\\u002f+bjLcdrfgPxZIA6EcYek\\u002f6l48Bj8O1D+blOj8eJ\\u002fHP\\u002f6kl0dd3dg\\u002fFihZ20ltxT\\u002fKB3chScbHP1q2QxvXBNk\\u002fRLhQf16OvD+eYwHm7YHVP5CE4ou0LMs\\u002fY\\u002fQ2XzTs2D9U1eVPgGnjP7JMqMat2dI\\u002fylrqSLpr0z+jZIxla8TPP6qG1BEnmdc\\u002f0xTyzFVDzD9B9a7RWHrjP76p3p3G3tc\\u002fGvQaACtPxj8VcMUKRaHGPz8vHRAVwbw\\u002f+iDGyVoY0T9mjNBVyzjHPz3TAEY0yts\\u002fd7AEENYy4T8k7tEhKDLDP\\u002fcfw2zBl8E\\u002fTfk0b\\u002fio1j+pVem8dXznP1o5ZW8lEMU\\u002f8rc0k9vrxD+lKStQ+oHGPwe+fAOJ08c\\u002fNGldlrPe2z9c7LIKr3zQP5kCVtIFt9w\\u002fmvmQ5O7x2D\\u002fS0hO9ZbDNP5tCh4jM0MU\\u002fKcGMRVuZzz9ZD8hJuk\\u002fhPyl0uhq6Dek\\u002fjd6HnyFY3T\\u002fk0dJjWEzYP+Q5AylUxeM\\u002fuADkIeQ+xT\\u002fac0HLixLuP7GrOKIzHLs\\u002fPuSB\\u002f7S+zz9uXzZpjkPiPw3rfVinveQ\\u002f8Xu1HQCL3j\\u002ffAGFcntnRPyab12tdZMk\\u002ffyp\\u002fOqxe3j8NmpHGNBLLP2lKlmi59cE\\u002ftWTLi9qb4D+5320Fc3vFPw==\"},\"type\":\"scatter3d\"},{\"hovertemplate\":\"y=class 1\\u003cbr\\u003ex1=%{x}\\u003cbr\\u003ex2=%{y}\\u003cbr\\u003ekernel=%{z}\\u003cextra\\u003e\\u003c\\u002fextra\\u003e\",\"legendgroup\":\"class 1\",\"marker\":{\"color\":\"#EF553B\",\"symbol\":\"circle\"},\"mode\":\"markers\",\"name\":\"class 1\",\"scene\":\"scene\",\"showlegend\":true,\"x\":{\"dtype\":\"f8\",\"bdata\":\"4F3JYAS7878uJf4BJ17nP3u50uWJI\\u002fa\\u002fo6jDeKSH5z\\u002fqdj4CEzX2P\\u002f1yDka7VNa\\u002fgFTroqAc\\u002fr\\u002fwk5hT2n\\u002fwv\\u002fl\\u002fPnd\\u002fDvI\\u002fIBTsed6I5z\\u002fWwYXFVnX9Px5TyCuQKvQ\\u002fkK3lC1rS7z8O6rzfJVX9P\\u002fhDX9oi69s\\u002fb4m2zhTXAECM\\u002ffF\\u002fWlnTPxSM7X3ZVPu\\u002fcZKoSE8X8r9FQ+xiJ+LiPz2Fz\\u002fVlU\\u002f0\\u002f1tgTtGtX\\u002fb9wLUfqvJjDv64B+3NTxv6\\u002fAKLZNe+Czr9ZNWrySSr8P09Wl606aPE\\u002fSPITgCcu\\u002fz8NgvxMJ37Jvw39iiOWx9y\\u002fhwq7M+cY+L86lPP10rSqvz4CHO7seeu\\u002faOYp8RY38T8oGdqIwXT5P8j0rsX49fQ\\u002ff7gk++2V178kMIcM18v+v0GVbB53YNw\\u002fNGa0ad5jrT926HrZyoD+v3Uawd0f6sa\\u002fnFdRkDjb\\u002fj8In7LpeTblP2b648zbLOG\\u002f3GduFrp+5b+uyd2O\\u002fhrmv7wAWOtR7vg\\u002fbUQaObSi5D+4lizW6Wr\\u002fP+eW9ZKRbvo\\u002fMe9OP79S+r+qd2UDxeDwv2wHTPPFjem\\u002f6vpPfKpl9T+YByqzShz\\u002fP4ZFvzwXD\\u002fk\\u002faOBlm3A39T9psCGkyGz7v1ZY\\u002fEmKgvu\\u002ffRi4yjXs5r+6A\\u002ffGJLD8PwUNgvp+RPk\\u002fyLf3ZhbZ\\u002fb8aahKLQHb6v4aUPTyr0P4\\u002fl0iDDZAN8j+uKODa\\u002ffT5v5ChNpMCPL4\\u002fRT7c0haY\\u002fD9t1KdXS3H5P3ltNEWDA+m\\u002ftXsDruT\\u002f97\\u002fn8l\\u002fz37\\u002f1v2BJp9VKtuy\\u002fJKn0cNTx3z\\u002fdexRErSD+P3R2Jm2Tlu2\\u002feIIdMfyp+z\\u002fmZF1DHu\\u002f+PyqlqwOTUeY\\u002ffraG\\u002fUJE5j9ju0w9i5jyP\\u002fzwdKfwEOo\\u002fmPkBJmBH8D8YQvjmuQ3yv5pqixKtWuG\\u002fYT0\\u002feRmo9D\\u002fIoqZIRRXvv00sDf1\\u002fk\\u002fy\\u002fWWSMrPSo4r+AwEGWbAb6v3686b9O9\\u002fo\\u002fcNllc3Wf0T9lC8KpDKvzv+zgK4BuVvK\\u002fPjlcI6sM5r\\u002fBsu16BX+0v3voJ3OXofe\\u002f3jndRLBV17\\u002fVv6Bgwc74P1R7Kad53P6\\u002f0ddcH387+79Y0FQqBHj\\u002fvzgwjuIqvf4\\u002flSuONhY75j+r0G6yG7r6P6uvOXOsDua\\u002f9wPyXo2i9D9tAj3xv+T5v65RDv0ox\\u002fA\\u002fU\\u002ftpGj0n4T9DJoVG0Vn6v7tH4QCuefI\\u002f6Ep36ZxG1T\\u002f1M0RZJTn8v845sCe2we4\\u002fGkeXHxQo0L+uU\\u002fJorL75vwQ6wVlc+P2\\u002fAo5DbpPR9z+DY86SW\\u002fD\\u002fP5AlTvKa3sQ\\u002f4c82FilJ\\u002fb9k+e\\u002f0VNK3v+zIIiRv\\u002fuO\\u002fTa9cvzBJxj+YLbambOLwvxcWBRZqCPy\\u002ff9vhvG\\u002fQ8z\\u002fWqSXvmGT8v6IMlLhFPPa\\u002fcYbxLzum+j+yy8GSAcXwv6mU0sk\\u002fKrI\\u002f5bYRN0AU\\u002fb92vPKYHsD1P4ZzM6BClcQ\\u002fqP6yLfgR\\u002fT+7ITrr4ysBQAkwbIYcLd4\\u002fOdUqRWDu5L9GTafJIK7mv\\u002fsbe8suCfs\\u002fLKmkst5C07\\u002fL4N3FLlP8v9z522hhFfK\\u002f9Q92eqRnAMDwE5sqxp35P\\u002fayHhkc4uU\\u002fAxYZcsQE\\u002fT+IE496muDxvz9Yb\\u002fMg1\\u002fi\\u002f6QVaYNJ6\\u002fL+aFIcFe0n9v8W1xXesCug\\u002f\\u002fL8Ihh6D\\u002fr+AzWCVk3L6v1DNe8Uo2fY\\u002fIbZR5+Yi9L9xIdqM4iMOv6HsHnuFt\\u002fy\\u002f\\u002frMKDdj887\\u002fJA4Lsgin8P5dXy77LXfA\\u002feNNTSY9R97\\u002fVow17ciz\\u002fP1PbnWmAcvk\\u002fZliV52+g8D8fK2re2RP8P93qSqG02PI\\u002fjTmnzCbR+z\\u002fVFYf5vlvnP1v35WLClfy\\u002fQvZfiJbe3L8uO3eFqle3P9dlkMlVFOY\\u002f\\u002fUBXP7v+nD9taGC4n16rv17sDtObMv4\\u002fpWYIAR64wL\\u002f6oD4iKffAP6VVMh\\u002fRk\\u002fa\\u002fHvxRNPn3vL98jq00LxrUP8TGucP1Efu\\u002fEIgFeMU\\u002f\\u002fr9FqqkHrE\\u002f4vyk4ioOqG+c\\u002fC4RD4ddj77\\u002fXOsooHzH1vwbXHglP18G\\u002fcUu4RWKn\\u002fL+JDIQdQGDbv0tDMkycIvS\\u002fas\\u002fpGLJeyL8d3aoNa0X5P4x1Ksgr0PG\\u002f\\u002fq4Gn2cc+L9bDfFZvyvvP9uWZiggvdg\\u002fyagmvfwr6D9ISOsmIv3tP3V5Q8GD8vE\\u002fqhz\\u002fAZMZuD+Z9hJYV9v4v97Nq93povg\\u002fk102fe3g9L91tgGPM2X\\u002fv4kA\\u002fOCNuvc\\u002fAKAB4M8W+z8zZi8F5Q7QP2J75T3lCuu\\u002fnsEGrR\\u002fy\\u002fr8VeZhd8s38P7VK\\u002frHJcfU\\u002ffQNevyPMnD\\u002fE8mEMboz7P1hN8BjBHfa\\u002fxEg9zvyP\\u002fT8PR\\u002fKL8WXjvzbWx0uJm\\u002f6\\u002fzNX87vWI\\u002f78pFuwWndf7v+pXjV1uQPI\\u002f7BnBkixF4b8GH6gDKQvzv7jPlBJDMec\\u002f+IIzRK+M9z9O+3Bc0vjzPyWkHe47TME\\u002flfGVCpzN9D8NZg3s3KLxv7g0ivsCMO8\\u002fDKSbkrNv\\u002fT\\u002feJzb0C6D0vyIJMFq7geM\\u002f1+oL2km6+z\\u002fnm0IQpVnyP\\u002fQ5CTuBVPy\\u002fwB0lQ\\u002fM+\\u002fz\\u002frPwC3rOLcv1ltZ5M6aPe\\u002f\"},\"y\":{\"dtype\":\"f8\",\"bdata\":\"eOZ6It5Z9z9iyCp2FDn9v2W3bsfljPM\\u002fsO1u5XU2+b\\u002f16vDakd\\u002f0vz7jAoWr6v8\\u002fc1A\\u002f43eW3T+vo2XQQ3v4P9l\\u002fZ9NHEfm\\u002fYEpdWmN2+z+kBAcSDkSpv4A9T1d7Z\\u002fk\\u002fZRI3jaL++T\\u002f+pIjaqmrPvxfAzLxK5Pu\\u002fq5fmSHSV379H9245HLr+P9Zd1P8JVeQ\\u002fAnp0jDaM+L9aa7emYzn9P5OKEpER9ea\\u002f\\u002fqDAxY7Q6T9UskpWElj9P1armo3oubs\\u002fPq9Yf2eU\\u002fL\\u002fppcs5M\\u002ffkP81n90jPqPe\\u002fd\\u002f4N\\u002fmSwsb\\u002fFhvLY9wgAQOyqJNldxvy\\u002fHa+eOoBu5z+yfwyBa138v3F0ulGXoPu\\u002fpKGYYCAn+r9FBkUtej3wv4W1o26UGPQ\\u002f1FZNIn17AMC4qducK+\\u002fDPxovlpRe2P8\\u002fvL+fX9I0\\u002fT9EFTuXHarVvz23okgENgBADzCvZNlZsj+XQD3HKY7+v3npD2ZTpf2\\u002fIx83UKzo\\u002fj+uAyp+68r9vyjBUcD77\\u002fY\\u002fr5xBLc8D\\u002fb\\u002fO6HBgzknpv15zix89s+W\\u002fAJWeJ8x18r9wZMDbaPf3P4RfLid0BPq\\u002fqSPoBeAm8T8\\u002fgBaa+NLNv4u2G3nsYvK\\u002f9XoX20T38r9z4vrZ7p7nP1kRolEe5uW\\u002f58Tdvq5R\\u002f7\\u002f3BcaQL4LHP2MYuZsdl+y\\u002flkS4vH2o479HKlDSMTDov2JNPTqpiO6\\u002f5WRqKlWX+L8ZIIHr\\u002fL3kv7B2o\\u002fKtqPs\\u002f1T2khRkTyT+NdXzR+5Hsv6ksvCQuMf4\\u002frTKa3U8l9T+vfVju8Hb0P4WObNO9Yvk\\u002f01JioMea+z8cIS25cl7ePwDy93k7bPq\\u002fKSzVr4oH3L\\u002f9u3vnccWwv1SboYIXL\\u002fy\\u002fECTJa6AX+z8CdJUo2OH2v5+5AGdpUvs\\u002fFxmN8eFA+7\\u002f+gdzonEz4v06fX0qcnPu\\u002f1et8dJCH+T\\u002fUKA5CUh37v4LgzdL19OI\\u002fHV3BYVfW\\u002fD8PuVk+0VLvv2+jtQMDcu0\\u002fHb\\u002f7tcGg\\u002fD+6GsiScjL4P\\u002fDh5ALW6\\u002fs\\u002fdV4+VTyq+78sChdaikL\\u002fv82e\\u002fFtUVfU\\u002fHHDjSkCj\\u002fj+Xa8l2Dq7yvzmoocol\\u002fdC\\u002faGh7xpi+8L8c8VKUXPLiP+SI7BDx+es\\u002fPXPzThnM\\u002fz\\u002f7rvW2k1PtP2g\\u002fy2aze\\u002fi\\u002fvyXQ9D\\u002fE8j8j+tHhiPzzPy\\u002fK7y2ZqPW\\u002favclqT9d\\u002fb8k\\u002f1VDahvvv4zy7WvbLvk\\u002fDJq90OOw\\u002f79JLkIJSgXtP9+ODmearfq\\u002f17x6Zr9d\\u002fj9JPPqeLl\\u002ftP\\u002fGQeg+9Eto\\u002fXG4p15xe9j8tZECfC0zkP6R+5n1ycP2\\u002fXew\\u002fJKfe6T8SOHfwSRv\\u002fP0Q2MFuBXPu\\u002fVYqBBATC\\u002fT9TrXU\\u002fgu\\u002f8Py1y9\\u002f2vPus\\u002fxvg68irN+L+ORpqwrsvfv6bpIx73mfC\\u002fdr4yvn0C6L8PodIlWZf5vy6NnWXBZf8\\u002fkjATwKUm2z9rDxTsPWPzv8H37R\\u002ffWv0\\u002f8rFDQ8kh7L8PY7VHY8DkPwqH6jJFeP4\\u002fvofoqj2b+z8jJqzaVFn9P7Es0oxYiey\\u002fHhtGL3tW\\u002fT+ogP0SBUe7v\\u002f+zRmCup\\u002fa\\u002f7+Ud9Il0wj+6AdIu8Ijyv4YHJ1LZtvy\\u002fGjuweJNo2T8nd0jRWN74v8Bcj4\\u002fKbPO\\u002f5jaku4to5r84TVWGMHLlP2a5azYn7Ps\\u002f7BFEqGLO47+1UU7KhU3kv5B3RDOHbfO\\u002fcbhw9mjE9z9fqjA\\u002fkwgAwE+BUPpyl+G\\u002fPA3Ne8B0+T9uIlzEqz7mPxonauHCoPs\\u002f89zLKuFy8b\\u002fLsuV7wRTOP18FFq4Ot+k\\u002fZLvU4saM+z+1hICv1e7sP+bDmAR46fE\\u002fosf90H4j7j+ZJZCOG735v7BH+E3Fk+8\\u002frghAtTee+z+LfnKcUQz+Pz0ZkacQSPs\\u002fvbtQInm0\\u002f7\\u002f1JcetJIv9PylcpYyD1uQ\\u002fVVSXQK35\\u002fL9q6HvL4KX7v6rzGoYhoe8\\u002fC9UhlChgAMAKFrqK7Jn\\u002fv7T1\\u002fXVN2ey\\u002fOFgQz3cgvT+nA66wM5LzP+1s8STq9vw\\u002fauQ9IaQ4+D9c3NQVskzxv2qCIBifBQDA+rd7QdEF4D8jKaP6NqH9PzuTi+xpRvk\\u002fyoz9jCH6\\u002fj\\u002fkXZynVYvwP13OXLB\\u002fEva\\u002f70h2Q27o6z\\u002fvBfqVLO35P6EcfVmAlv+\\u002fgsZ0oC1d+j\\u002fHSW4nt939PzwmH\\u002fN9rva\\u002fChRAqodSAEAyuPjE0UPrvypkHNUvEvQ\\u002ftwGA9MYv979GA6VD0fnFv7wxVsITzPa\\u002f3F9SYZgj8D+ks\\u002fSazAn9v5EUsp8RC\\u002fu\\u002fSYLZoC254r+mMeLXZlvPv613MWodEvY\\u002f55rp9vKw+z+sswMaqSrkP2MvuKNWUfc\\u002fBXXlOppq8L9NUAE9Nmb7P0Ejs3qm\\u002fL4\\u002fFVYWJnZ22r\\u002fNshPf4ufuv0g4QLkxIfi\\u002fbnZ7Wgzv+T8vNkePAbT2P+KJSBugTwBAEUaRzNEQ8b\\u002fLaMkuq+T1v\\u002fCETq6\\u002f7v8\\u002fGGDbL54O9T\\u002f0IzZgUOf4PyDpuzTaCPs\\u002fEw+vMZlb4b\\u002fDCJICiLP0v0ltdHwktv2\\u002fECjVrEss6r86nWSWtlT4P4OhVx+We+i\\u002fqHcVU7+HwT8KRrxKOqf9vyOfWuFZs\\u002fQ\\u002f\"},\"z\":{\"dtype\":\"f8\",\"bdata\":\"FDLFQWOd\\u002fT8uaPcsdUgEQIpRhPtbePs\\u002fypDyaYPX\\u002fT9d+NgBHxX9PyenyDFFPQtAKOKadZwVB0BrMKcXTzr9P0zmMW2XXP8\\u002fsCCLWUP\\u002fEkAJBmuyRWkKQBaycMZxcRhAt29FK+b5FEDRhOcFD8UHQEUckPTuvwNAtdT9BC0WDUAOh5H6uXARQABI8rEG5AFAsJF2UuF3FUCWsCJufwwTQGNtZwsfeQRAs3VR+mlGBEB2ne43idkIQLUdZIkNBgxAn8Cc8MViDUAIoI\\u002fIq7kSQPfmSGTwLvw\\u002f+5G8\\u002fa9XDUCoCbmDl0MNQM49yWYr+xBAyP0T+uo5+z8z4ejPgOcJQOU9xow1zhRArus3eNyQAEDtUtlPgCX\\u002fP1ng66G9wRNAOy2uYUSPFECG\\u002fTooC28LQIOyCgZxKRRA+z6mNWyFC0BhkHuE7ZMRQLaL8skwNA5AkO5uII3mDkCJg5c7VZAGQAT2\\u002fITU3BJAOyy\\u002f5mQVB0CiJ\\u002fZWOOwUQNRO8Qoe3hpANC\\u002f6AZtHBEAet1LVim0HQE5V2WOnjABAgFZ+Dnu+F0AvuYYZB2z8P8kxQrBNUhJAbc26jRh8EUASacsiQQ4LQA+9iplFlP8\\u002f38zjJU53+T+k+bCNtL0BQBlaC4qeZxJATiKSh9L8FkCo1w\\u002feiJ8MQOgJtQ6PGf4\\u002fn\\u002f88y5EDFEAwXm8YJDoSQNhyM9eVQQZAbARmSg5r\\u002fj9OtupdG2oQQJRcLb7PpglAl24StY6oDEBDbHB+A3\\u002f+PwPIVjgDkwVAXsTjgBEdAEBTW7nb8Ov7P2zxTzl4Yf4\\u002fwtZsBv5YEEC9VtRbNqgSQF5qCRK4bxRAGEhKYmNkA0AHIqPptuwMQDqjR4vQ4gJAWGykGEgeEkBYcNMZMr77P6UxBiPA4RNAFRxQXsWgAUCfEOEuTywVQLHPNWoq1RBAbhAsnDwXGUBr9mrLjtgVQEw9K7Gl3ANABCqR+a5MBEArXxlMx8gUQJVq4NG\\u002f8xRAISjsucYoDkCkACccwwb\\u002fP2YQFmLW3gJAPrmbFJWfEkC\\u002fjSHp8dYPQISqLxia1v8\\u002ffEo\\u002fasLPCECpe59zQU\\u002f\\u002fP5NHNmIdNhFAEFyY\\u002fOcXF0DJQzGgUm8IQLfbpSMhihhAqK1azDpAF0DtPOc+\\u002fKQUQDMWnfKa+A5AjIOJLPE0EkDEyEF1UEMBQC6aCRpSM\\u002fg\\u002f8LS\\u002fmsVfBUCG62BDhAgVQFig6LclgxZATaTD2l4AC0B4NRAkk6wCQLOKoG6bzwBA4+x96yN+CUDif54LK0b\\u002fP4tBu+rASgdARzf9zigCGUC1EwW535wWQGAleplp5QhA9FUGBEgxBEBT9PYaMdwMQGsoIcByiBFAd+zAGIOBDkC\\u002fGdxyVM4DQB7NONFKbAJAAJ8wh1giAEDHUR0yJxwRQNojKAamzBFAeJBxKA+zAEA\\u002f2KyOH1UVQBUNpBTl9Q9ApmY8ZEqyBUDz6KKPYLT6P0cRJJvifg1AzqOHnzfQA0CqvEZasq0ZQBBocTHA\\u002fBJA1Fa\\u002fGM01AkCMJrZAHIkEQEqjDi4iJgFAyBI8Vf40B0BPMqJT+6sKQJAVHbHHhxNAMrZU9OBwD0BqEi92iWcAQCZvaCdgsANASiccGgqrEECCM6E2g5oVQHj4AnqUExdAJMnEieWeE0C1WDUKWJUEQPa1UKxErxNAORcXWOvMFEBGVM4KBbwQQC9R+n95efw\\u002foJ9XpUq8\\u002fj89RS5LSREQQJDoq+9zChJABq2wha\\u002fVAEANdty\\u002fLjgTQA8ezNxVLRdAXQmsIWKcE0Drk2PvmTwRQEcsVaRG0BFAuMzHcQlWF0BUFZDMPe8VQAJbmSrerA9AaBP1ujYwFkAYvQXRbiT\\u002fP07D2\\u002fOEOANAIXHhcCI8A0CNSfh816YNQAT4QPdXPRJA6Esssl\\u002f4DkCzKf6ZQ4IKQFrHeGdW3BRA5edI+O1DDEBenXQiMjIGQJzqT+igLPk\\u002fcbeSXuC8EUAuZDnXpwgLQAbu1WRQzRRAQTu8kQz6CkBIclavQST\\u002fP9IlbtphbBRA6qAdKZhN\\u002fD8aO7Y+7msRQP6qtD7+PBFADlLsw1h9BEAvRoVZz48GQC7e6ciwugBA1zO\\u002fF\\u002fZTC0AgXtR0wMkUQGZsZ6SuthJA4TmLAbp5+z\\u002f++o3QppwUQHqY0Sh5RQpAmDdDlwsfEkBkf\\u002fPOjXIYQGmYcVrN1\\u002fo\\u002fO0NmU3t0EUAlhf5rQdoRQCrrf3oagRdA3NmGCZHGFkClMTIl0d0QQAuXYLSG7gBA3w5bdOxdFkDD4Nn9GTYHQPDah55I\\u002fxNAFCCLffPbFECA6cHkROEGQBs5MDYfMRZAQsEYDLlbCEBP2bAvgskRQFBY43smKQBA6SS\\u002fnAWRBEDpCBUXWhgCQPgWkmBfigtAf4EZtmV7E0DKB+Fv55AWQObdQalSr\\u002f0\\u002fauDbNXtZAEDz0u3Q3tv7P7bycJrboxhAu25GteC++z+XwpATE4\\u002f7P5kq6UmmFRFAQOqk0uiIFEAoq0EuTcD+P+jG2ttrzhVAckAGpcRyBUC+P6GGowMUQLwasAvpgAVAzDQFUcgJAkC6O85ky3wVQMNVmiD7TBRAgnktZE5mEEAx+LFqZeYRQFlRg73fvf4\\u002f\"},\"type\":\"scatter3d\"}],                        {\"template\":{\"data\":{\"histogram2dcontour\":[{\"type\":\"histogram2dcontour\",\"colorbar\":{\"outlinewidth\":0,\"ticks\":\"\"},\"colorscale\":[[0.0,\"#0d0887\"],[0.1111111111111111,\"#46039f\"],[0.2222222222222222,\"#7201a8\"],[0.3333333333333333,\"#9c179e\"],[0.4444444444444444,\"#bd3786\"],[0.5555555555555556,\"#d8576b\"],[0.6666666666666666,\"#ed7953\"],[0.7777777777777778,\"#fb9f3a\"],[0.8888888888888888,\"#fdca26\"],[1.0,\"#f0f921\"]]}],\"choropleth\":[{\"type\":\"choropleth\",\"colorbar\":{\"outlinewidth\":0,\"ticks\":\"\"}}],\"histogram2d\":[{\"type\":\"histogram2d\",\"colorbar\":{\"outlinewidth\":0,\"ticks\":\"\"},\"colorscale\":[[0.0,\"#0d0887\"],[0.1111111111111111,\"#46039f\"],[0.2222222222222222,\"#7201a8\"],[0.3333333333333333,\"#9c179e\"],[0.4444444444444444,\"#bd3786\"],[0.5555555555555556,\"#d8576b\"],[0.6666666666666666,\"#ed7953\"],[0.7777777777777778,\"#fb9f3a\"],[0.8888888888888888,\"#fdca26\"],[1.0,\"#f0f921\"]]}],\"heatmap\":[{\"type\":\"heatmap\",\"colorbar\":{\"outlinewidth\":0,\"ticks\":\"\"},\"colorscale\":[[0.0,\"#0d0887\"],[0.1111111111111111,\"#46039f\"],[0.2222222222222222,\"#7201a8\"],[0.3333333333333333,\"#9c179e\"],[0.4444444444444444,\"#bd3786\"],[0.5555555555555556,\"#d8576b\"],[0.6666666666666666,\"#ed7953\"],[0.7777777777777778,\"#fb9f3a\"],[0.8888888888888888,\"#fdca26\"],[1.0,\"#f0f921\"]]}],\"contourcarpet\":[{\"type\":\"contourcarpet\",\"colorbar\":{\"outlinewidth\":0,\"ticks\":\"\"}}],\"contour\":[{\"type\":\"contour\",\"colorbar\":{\"outlinewidth\":0,\"ticks\":\"\"},\"colorscale\":[[0.0,\"#0d0887\"],[0.1111111111111111,\"#46039f\"],[0.2222222222222222,\"#7201a8\"],[0.3333333333333333,\"#9c179e\"],[0.4444444444444444,\"#bd3786\"],[0.5555555555555556,\"#d8576b\"],[0.6666666666666666,\"#ed7953\"],[0.7777777777777778,\"#fb9f3a\"],[0.8888888888888888,\"#fdca26\"],[1.0,\"#f0f921\"]]}],\"surface\":[{\"type\":\"surface\",\"colorbar\":{\"outlinewidth\":0,\"ticks\":\"\"},\"colorscale\":[[0.0,\"#0d0887\"],[0.1111111111111111,\"#46039f\"],[0.2222222222222222,\"#7201a8\"],[0.3333333333333333,\"#9c179e\"],[0.4444444444444444,\"#bd3786\"],[0.5555555555555556,\"#d8576b\"],[0.6666666666666666,\"#ed7953\"],[0.7777777777777778,\"#fb9f3a\"],[0.8888888888888888,\"#fdca26\"],[1.0,\"#f0f921\"]]}],\"mesh3d\":[{\"type\":\"mesh3d\",\"colorbar\":{\"outlinewidth\":0,\"ticks\":\"\"}}],\"scatter\":[{\"fillpattern\":{\"fillmode\":\"overlay\",\"size\":10,\"solidity\":0.2},\"type\":\"scatter\"}],\"parcoords\":[{\"type\":\"parcoords\",\"line\":{\"colorbar\":{\"outlinewidth\":0,\"ticks\":\"\"}}}],\"scatterpolargl\":[{\"type\":\"scatterpolargl\",\"marker\":{\"colorbar\":{\"outlinewidth\":0,\"ticks\":\"\"}}}],\"bar\":[{\"error_x\":{\"color\":\"#2a3f5f\"},\"error_y\":{\"color\":\"#2a3f5f\"},\"marker\":{\"line\":{\"color\":\"#E5ECF6\",\"width\":0.5},\"pattern\":{\"fillmode\":\"overlay\",\"size\":10,\"solidity\":0.2}},\"type\":\"bar\"}],\"scattergeo\":[{\"type\":\"scattergeo\",\"marker\":{\"colorbar\":{\"outlinewidth\":0,\"ticks\":\"\"}}}],\"scatterpolar\":[{\"type\":\"scatterpolar\",\"marker\":{\"colorbar\":{\"outlinewidth\":0,\"ticks\":\"\"}}}],\"histogram\":[{\"marker\":{\"pattern\":{\"fillmode\":\"overlay\",\"size\":10,\"solidity\":0.2}},\"type\":\"histogram\"}],\"scattergl\":[{\"type\":\"scattergl\",\"marker\":{\"colorbar\":{\"outlinewidth\":0,\"ticks\":\"\"}}}],\"scatter3d\":[{\"type\":\"scatter3d\",\"line\":{\"colorbar\":{\"outlinewidth\":0,\"ticks\":\"\"}},\"marker\":{\"colorbar\":{\"outlinewidth\":0,\"ticks\":\"\"}}}],\"scattermap\":[{\"type\":\"scattermap\",\"marker\":{\"colorbar\":{\"outlinewidth\":0,\"ticks\":\"\"}}}],\"scattermapbox\":[{\"type\":\"scattermapbox\",\"marker\":{\"colorbar\":{\"outlinewidth\":0,\"ticks\":\"\"}}}],\"scatterternary\":[{\"type\":\"scatterternary\",\"marker\":{\"colorbar\":{\"outlinewidth\":0,\"ticks\":\"\"}}}],\"scattercarpet\":[{\"type\":\"scattercarpet\",\"marker\":{\"colorbar\":{\"outlinewidth\":0,\"ticks\":\"\"}}}],\"carpet\":[{\"aaxis\":{\"endlinecolor\":\"#2a3f5f\",\"gridcolor\":\"white\",\"linecolor\":\"white\",\"minorgridcolor\":\"white\",\"startlinecolor\":\"#2a3f5f\"},\"baxis\":{\"endlinecolor\":\"#2a3f5f\",\"gridcolor\":\"white\",\"linecolor\":\"white\",\"minorgridcolor\":\"white\",\"startlinecolor\":\"#2a3f5f\"},\"type\":\"carpet\"}],\"table\":[{\"cells\":{\"fill\":{\"color\":\"#EBF0F8\"},\"line\":{\"color\":\"white\"}},\"header\":{\"fill\":{\"color\":\"#C8D4E3\"},\"line\":{\"color\":\"white\"}},\"type\":\"table\"}],\"barpolar\":[{\"marker\":{\"line\":{\"color\":\"#E5ECF6\",\"width\":0.5},\"pattern\":{\"fillmode\":\"overlay\",\"size\":10,\"solidity\":0.2}},\"type\":\"barpolar\"}],\"pie\":[{\"automargin\":true,\"type\":\"pie\"}]},\"layout\":{\"autotypenumbers\":\"strict\",\"colorway\":[\"#636efa\",\"#EF553B\",\"#00cc96\",\"#ab63fa\",\"#FFA15A\",\"#19d3f3\",\"#FF6692\",\"#B6E880\",\"#FF97FF\",\"#FECB52\"],\"font\":{\"color\":\"#2a3f5f\"},\"hovermode\":\"closest\",\"hoverlabel\":{\"align\":\"left\"},\"paper_bgcolor\":\"white\",\"plot_bgcolor\":\"#E5ECF6\",\"polar\":{\"bgcolor\":\"#E5ECF6\",\"angularaxis\":{\"gridcolor\":\"white\",\"linecolor\":\"white\",\"ticks\":\"\"},\"radialaxis\":{\"gridcolor\":\"white\",\"linecolor\":\"white\",\"ticks\":\"\"}},\"ternary\":{\"bgcolor\":\"#E5ECF6\",\"aaxis\":{\"gridcolor\":\"white\",\"linecolor\":\"white\",\"ticks\":\"\"},\"baxis\":{\"gridcolor\":\"white\",\"linecolor\":\"white\",\"ticks\":\"\"},\"caxis\":{\"gridcolor\":\"white\",\"linecolor\":\"white\",\"ticks\":\"\"}},\"coloraxis\":{\"colorbar\":{\"outlinewidth\":0,\"ticks\":\"\"}},\"colorscale\":{\"sequential\":[[0.0,\"#0d0887\"],[0.1111111111111111,\"#46039f\"],[0.2222222222222222,\"#7201a8\"],[0.3333333333333333,\"#9c179e\"],[0.4444444444444444,\"#bd3786\"],[0.5555555555555556,\"#d8576b\"],[0.6666666666666666,\"#ed7953\"],[0.7777777777777778,\"#fb9f3a\"],[0.8888888888888888,\"#fdca26\"],[1.0,\"#f0f921\"]],\"sequentialminus\":[[0.0,\"#0d0887\"],[0.1111111111111111,\"#46039f\"],[0.2222222222222222,\"#7201a8\"],[0.3333333333333333,\"#9c179e\"],[0.4444444444444444,\"#bd3786\"],[0.5555555555555556,\"#d8576b\"],[0.6666666666666666,\"#ed7953\"],[0.7777777777777778,\"#fb9f3a\"],[0.8888888888888888,\"#fdca26\"],[1.0,\"#f0f921\"]],\"diverging\":[[0,\"#8e0152\"],[0.1,\"#c51b7d\"],[0.2,\"#de77ae\"],[0.3,\"#f1b6da\"],[0.4,\"#fde0ef\"],[0.5,\"#f7f7f7\"],[0.6,\"#e6f5d0\"],[0.7,\"#b8e186\"],[0.8,\"#7fbc41\"],[0.9,\"#4d9221\"],[1,\"#276419\"]]},\"xaxis\":{\"gridcolor\":\"white\",\"linecolor\":\"white\",\"ticks\":\"\",\"title\":{\"standoff\":15},\"zerolinecolor\":\"white\",\"automargin\":true,\"zerolinewidth\":2},\"yaxis\":{\"gridcolor\":\"white\",\"linecolor\":\"white\",\"ticks\":\"\",\"title\":{\"standoff\":15},\"zerolinecolor\":\"white\",\"automargin\":true,\"zerolinewidth\":2},\"scene\":{\"xaxis\":{\"backgroundcolor\":\"#E5ECF6\",\"gridcolor\":\"white\",\"linecolor\":\"white\",\"showbackground\":true,\"ticks\":\"\",\"zerolinecolor\":\"white\",\"gridwidth\":2},\"yaxis\":{\"backgroundcolor\":\"#E5ECF6\",\"gridcolor\":\"white\",\"linecolor\":\"white\",\"showbackground\":true,\"ticks\":\"\",\"zerolinecolor\":\"white\",\"gridwidth\":2},\"zaxis\":{\"backgroundcolor\":\"#E5ECF6\",\"gridcolor\":\"white\",\"linecolor\":\"white\",\"showbackground\":true,\"ticks\":\"\",\"zerolinecolor\":\"white\",\"gridwidth\":2}},\"shapedefaults\":{\"line\":{\"color\":\"#2a3f5f\"}},\"annotationdefaults\":{\"arrowcolor\":\"#2a3f5f\",\"arrowhead\":0,\"arrowwidth\":1},\"geo\":{\"bgcolor\":\"white\",\"landcolor\":\"#E5ECF6\",\"subunitcolor\":\"white\",\"showland\":true,\"showlakes\":true,\"lakecolor\":\"white\"},\"title\":{\"x\":0.05},\"mapbox\":{\"style\":\"light\"}}},\"scene\":{\"domain\":{\"x\":[0.0,1.0],\"y\":[0.0,1.0]},\"xaxis\":{\"title\":{\"text\":\"x1\"}},\"yaxis\":{\"title\":{\"text\":\"x2\"}},\"zaxis\":{\"title\":{\"text\":\"kernel\"}}},\"legend\":{\"title\":{\"text\":\"y\"},\"tracegroupgap\":0},\"margin\":{\"t\":60},\"height\":600,\"width\":1000},                        {\"responsive\": true}                    )                };            </script>        </div>"
      ],
      "text/plain": [
       "Figure({\n",
       "    'data': [{'hovertemplate': 'y=class 2<br>x1=%{x}<br>x2=%{y}<br>kernel=%{z}<extra></extra>',\n",
       "              'legendgroup': 'class 2',\n",
       "              'marker': {'color': '#636efa', 'symbol': 'circle'},\n",
       "              'mode': 'markers',\n",
       "              'name': 'class 2',\n",
       "              'scene': 'scene',\n",
       "              'showlegend': True,\n",
       "              'type': 'scatter3d',\n",
       "              'x': {'bdata': ('S35taO8+gT+oUKpWvr7jv47kdBbe4N' ... 'gCSnS/zbusLGeC3j/xO32tcEPcvw=='),\n",
       "                    'dtype': 'f8'},\n",
       "              'y': {'bdata': ('Qei7pL8i5T8wlVv7KgHRP1ET4ZnrAu' ... 'hSIdg/cL8aBhyI1j+LylragIfXPw=='),\n",
       "                    'dtype': 'f8'},\n",
       "              'z': {'bdata': ('oyVALcxH3D8wz8RAd2TSP0hux2gLkO' ... 'i59cE/tWTLi9qb4D+5320Fc3vFPw=='),\n",
       "                    'dtype': 'f8'}},\n",
       "             {'hovertemplate': 'y=class 1<br>x1=%{x}<br>x2=%{y}<br>kernel=%{z}<extra></extra>',\n",
       "              'legendgroup': 'class 1',\n",
       "              'marker': {'color': '#EF553B', 'symbol': 'circle'},\n",
       "              'mode': 'markers',\n",
       "              'name': 'class 1',\n",
       "              'scene': 'scene',\n",
       "              'showlegend': True,\n",
       "              'type': 'scatter3d',\n",
       "              'x': {'bdata': ('4F3JYAS7878uJf4BJ17nP3u50uWJI/' ... '0lQ/M+/z/rPwC3rOLcv1ltZ5M6aPe/'),\n",
       "                    'dtype': 'f8'},\n",
       "              'y': {'bdata': ('eOZ6It5Z9z9iyCp2FDn9v2W3bsfljP' ... 'cVU7+HwT8KRrxKOqf9vyOfWuFZs/Q/'),\n",
       "                    'dtype': 'f8'},\n",
       "              'z': {'bdata': ('FDLFQWOd/T8uaPcsdUgEQIpRhPtbeP' ... 'ktZE5mEEAx+LFqZeYRQFlRg73fvf4/'),\n",
       "                    'dtype': 'f8'}}],\n",
       "    'layout': {'height': 600,\n",
       "               'legend': {'title': {'text': 'y'}, 'tracegroupgap': 0},\n",
       "               'margin': {'t': 60},\n",
       "               'scene': {'domain': {'x': [0.0, 1.0], 'y': [0.0, 1.0]},\n",
       "                         'xaxis': {'title': {'text': 'x1'}},\n",
       "                         'yaxis': {'title': {'text': 'x2'}},\n",
       "                         'zaxis': {'title': {'text': 'kernel'}}},\n",
       "               'template': '...',\n",
       "               'width': 1000}\n",
       "})"
      ]
     },
     "execution_count": 32,
     "metadata": {},
     "output_type": "execute_result"
    }
   ],
   "source": [
    "import plotly_express as px\n",
    "\n",
    "# define the kernel function\n",
    "kernel = x1*x2 + x1**2 + x2**2\n",
    "\n",
    "kernel_df = pd.DataFrame(X).rename(columns={0:\"x1\", 1:\"x2\"})\n",
    "kernel_df = kernel_df.assign(kernel=kernel)\n",
    "kernel_df = kernel_df.assign(y=y)\n",
    "\n",
    "# plot the data set together with the kernel value in a 3-dimensional space\n",
    "color_discrete_map = {kernel_df.y.unique()[0]: \"black\", kernel_df.y.unique()[1]: \"grey\"}  \n",
    "px.scatter_3d(kernel_df, x=\"x1\", y=\"x2\", z=\"kernel\", color=\"y\", width=1000, height=600)\n"
   ]
  },
  {
   "cell_type": "code",
   "execution_count": 31,
   "id": "c2942611",
   "metadata": {},
   "outputs": [
    {
     "name": "stdout",
     "output_type": "stream",
     "text": [
      "5.10.4\n"
     ]
    }
   ],
   "source": [
    "import nbformat\n",
    "print(nbformat.__version__)\n"
   ]
  },
  {
   "cell_type": "code",
   "execution_count": 35,
   "id": "9d143728",
   "metadata": {},
   "outputs": [
    {
     "name": "stderr",
     "output_type": "stream",
     "text": [
      "C:\\Users\\2389\\AppData\\Local\\Temp\\ipykernel_30700\\3802531169.py:50: UserWarning:\n",
      "\n",
      "FigureCanvasAgg is non-interactive, and thus cannot be shown\n",
      "\n"
     ]
    },
    {
     "data": {
      "image/png": "[encoded data removed]",
      "text/plain": [
       "<Figure size 1850x600 with 1 Axes>"
      ]
     },
     "metadata": {},
     "output_type": "display_data"
    }
   ],
   "source": [
    "from sklearn.preprocessing import PolynomialFeatures\n",
    "from sklearn.linear_model import LinearRegression\n",
    "from sklearn.pipeline import Pipeline\n",
    "\n",
    "import matplotlib.pyplot as plt\n",
    "import seaborn as sns\n",
    "import pandas as pd\n",
    "\n",
    "plt.rcParams['font.size'] = '16'\n",
    "sns.set_style(\"darkgrid\", {\"axes.facecolor\": \".9\"})\n",
    "\n",
    "# load data set: Boston Housing\n",
    "boston_housing_df = pd.read_csv(\"./datasets/HousingData.csv\")\n",
    "boston_housing_df = boston_housing_df.dropna()\n",
    "boston_housing_df = boston_housing_df.sort_values(by=[\"LSTAT\"])\n",
    "\n",
    "# define x and target variable y\n",
    "X = boston_housing_df[[\"LSTAT\"]]\n",
    "y = boston_housing_df[\"MEDV\"]\n",
    "\n",
    "# fit model and create predictions\n",
    "degree = 5\n",
    "polynomial_features = PolynomialFeatures(degree=degree)\n",
    "linear_regression = LinearRegression()\n",
    "pipeline = Pipeline(\n",
    "    [\n",
    "        (\"polynomial_features\", polynomial_features),\n",
    "        (\"linear_regression\", linear_regression),\n",
    "    ]\n",
    ")\n",
    "pipeline.fit(X, y)\n",
    "\n",
    "y_pred = pipeline.predict(X)\n",
    "\n",
    "# train linear model\n",
    "regr = LinearRegression()\n",
    "regr.fit(X,y)\n",
    "\n",
    "# figure settings\n",
    "fig, (ax1) = plt.subplots(1)\n",
    "fig.set_size_inches(18.5, 6)\n",
    "\n",
    "ax1.set_title(\"Boston Housing: Median value of owner-occupied homes\")\n",
    "ax1.scatter(X, y, c=\"black\")\n",
    "ax1.plot(X, y_pred, c=\"red\", linewidth=4, label=f\"Polynomial Model (degree={degree})\")\n",
    "ax1.set_ylabel(f\"MEDV\")\n",
    "ax1.set_xlabel(f\"LSTAT\")\n",
    "ax1.legend()\n",
    "\n",
    "fig.show()"
   ]
  },
  {
   "cell_type": "code",
   "execution_count": 38,
   "id": "8616a9b3",
   "metadata": {},
   "outputs": [
    {
     "data": {
      "image/png": "[encoded data removed]",
      "text/plain": [
       "<Figure size 1000x800 with 4 Axes>"
      ]
     },
     "metadata": {},
     "output_type": "display_data"
    }
   ],
   "source": [
    "from matplotlib import pyplot as plt\n",
    "import numpy as np\n",
    "import seaborn as sns\n",
    "import math\n",
    "\n",
    "import pandas as pd\n",
    "\n",
    "# Load the Iris dataset\n",
    "iris_data = pd.read_csv(r'./datasets/Iris.csv')\n",
    "iris_data.dropna(how=\"all\", inplace=True) # drops the empty line at file-end\n",
    "\n",
    "sns.set_style(\"whitegrid\")\n",
    "colors = [\"black\", \"#f3d23aff\", \"grey\"]\n",
    "plt.figure(figsize=(10, 8))\n",
    "\n",
    "with sns.axes_style(\"darkgrid\"):\n",
    "    for cnt, column in enumerate(iris_data.columns[1:5]):\n",
    "        plt.subplot(2, 2, cnt+1)\n",
    "        for species_cnt, species in enumerate(iris_data.Species.unique()):\n",
    "            plt.hist(iris_data[iris_data.Species == species][column], label=species, color=colors[species_cnt])\n",
    "\n",
    "        plt.xlabel(column)\n",
    "    plt.legend(loc='upper right', fancybox=True, fontsize=8)\n",
    "\n",
    "    plt.tight_layout()\n",
    "    plt.show()"
   ]
  },
  {
   "cell_type": "code",
   "execution_count": 51,
   "id": "8ee16c45",
   "metadata": {},
   "outputs": [
    {
     "name": "stdout",
     "output_type": "stream",
     "text": [
      "Requirement already satisfied: plotly in c:\\python313\\lib\\site-packages (6.3.0)\n",
      "Requirement already satisfied: narwhals>=1.15.1 in c:\\python313\\lib\\site-packages (from plotly) (2.2.0)\n",
      "Requirement already satisfied: packaging in c:\\python313\\lib\\site-packages (from plotly) (24.1)\n"
     ]
    }
   ],
   "source": [
    "!pip install plotly\n",
    "\n",
    "import plotly.io as pio\n",
    "# Elige uno según tu entorno:\n",
    "# pio.renderers.default = \"notebook_connected\"   # Jupyter clásico\n",
    "# pio.renderers.default = \"vscode\"               # VS Code\n",
    "pio.renderers.default = \"browser\"                # Siempre abre en el navegador\n",
    "\n",
    "color_discrete_map = {iris_data.Species.unique()[0]: \"black\", iris_data.Species.unique()[1]: \"#f3d23a\", iris_data.Species.unique()[2]:\"grey\"}\n",
    "\n",
    "px.scatter_3d(iris_data, x=\"PetalLengthCm\", y=\"PetalWidthCm\", z=\"SepalLengthCm\", size=\"SepalWidthCm\", color=\"Species\", color_discrete_map = color_discrete_map, width=1000, height=800)"
   ]
  },
  {
   "cell_type": "code",
   "execution_count": 52,
   "id": "7ea202d8",
   "metadata": {},
   "outputs": [],
   "source": [
    "import numpy as np\n",
    "import matplotlib.pyplot as plt\n",
    "from sklearn.decomposition import PCA\n",
    "import matplotlib\n",
    "import plotly.graph_objects as go\n",
    "\n",
    "# define X\n",
    "X = iris_data[[\"PetalLengthCm\", \"PetalWidthCm\", \"SepalLengthCm\", \"SepalWidthCm\"]]\n",
    "\n",
    "# plot 2d plot\n",
    "color_discrete_map = {iris_data.Species.unique()[0]: \"black\", iris_data.Species.unique()[1]: \"#f3d23a\", iris_data.Species.unique()[2]:\"grey\"}\n",
    "fig = px.scatter(iris_data, x=\"PetalLengthCm\", y=\"PetalWidthCm\", color=\"Species\", color_discrete_map = color_discrete_map)\n",
    "\n",
    "fig.update_layout(\n",
    "    font=dict(\n",
    "        family=\"Arial\",\n",
    "        size=24,  # Set the font size here\n",
    "        color=\"Black\"\n",
    "    ),\n",
    "    showlegend=True,\n",
    "    width=1200,\n",
    "    height=800,\n",
    ")"
   ]
  },
  {
   "cell_type": "code",
   "execution_count": 53,
   "id": "5d10481c",
   "metadata": {},
   "outputs": [],
   "source": [
    "import numpy as np\n",
    "import matplotlib.pyplot as plt\n",
    "from sklearn.decomposition import PCA\n",
    "import matplotlib\n",
    "import plotly.graph_objects as go\n",
    "\n",
    "# define X\n",
    "X = iris_data[[\"PetalLengthCm\", \"PetalWidthCm\", \"SepalLengthCm\", \"SepalWidthCm\"]]\n",
    "\n",
    "# fit PCA and transform X\n",
    "pca = PCA(n_components=2).fit(X)\n",
    "X_transform = pca.transform(X)\n",
    "iris_data_trans = pd.DataFrame(X_transform).assign(Species = iris_data.Species).rename(columns={0:\"PC1\", 1:\"PC2\"})\n",
    "\n",
    "# plot 2d plot\n",
    "color_discrete_map = {iris_data.Species.unique()[0]: \"black\", iris_data.Species.unique()[1]: \"#f3d23a\", iris_data.Species.unique()[2]:\"grey\"}\n",
    "fig = px.scatter(iris_data_trans, x=\"PC1\", y=\"PC2\", color=\"Species\", color_discrete_map = color_discrete_map)\n",
    "\n",
    "fig.update_layout(\n",
    "    font=dict(\n",
    "        family=\"Arial\",\n",
    "        size=24,  # Set the font size here\n",
    "        color=\"Black\"\n",
    "    ),\n",
    "    showlegend=True,\n",
    "    width=1200,\n",
    "    height=800,\n",
    ")"
   ]
  },
  {
   "cell_type": "code",
   "execution_count": 54,
   "id": "cd26099e",
   "metadata": {},
   "outputs": [
    {
     "name": "stdout",
     "output_type": "stream",
     "text": [
      "Varianza explicada: [0.92461621 0.05301557]\n",
      "Varianza total explicada: 0.9776317750248054\n"
     ]
    }
   ],
   "source": [
    "print(\"Varianza explicada:\", pca.explained_variance_ratio_)\n",
    "print(\"Varianza total explicada:\", pca.explained_variance_ratio_.sum())\n"
   ]
  },
  {
   "cell_type": "code",
   "execution_count": 55,
   "id": "1ddccfc9",
   "metadata": {},
   "outputs": [
    {
     "name": "stdout",
     "output_type": "stream",
     "text": [
      "                    PC1       PC2\n",
      "PetalLengthCm  0.856572 -0.175767\n",
      "PetalWidthCm   0.358844 -0.074706\n",
      "SepalLengthCm  0.361590  0.656540\n",
      "SepalWidthCm  -0.082269  0.729712\n"
     ]
    }
   ],
   "source": [
    "loadings = pd.DataFrame(\n",
    "    pca.components_.T,\n",
    "    columns=[\"PC1\", \"PC2\"],\n",
    "    index=X.columns\n",
    ")\n",
    "print(loadings)\n"
   ]
  },
  {
   "cell_type": "code",
   "execution_count": 56,
   "id": "9d1eded2",
   "metadata": {},
   "outputs": [
    {
     "data": {
      "image/png": "[encoded data removed]",
      "text/plain": [
       "<Figure size 640x480 with 1 Axes>"
      ]
     },
     "metadata": {},
     "output_type": "display_data"
    }
   ],
   "source": [
    "pca_full = PCA().fit(X)\n",
    "plt.plot(np.cumsum(pca_full.explained_variance_ratio_), marker=\"o\")\n",
    "plt.xlabel(\"Número de componentes\")\n",
    "plt.ylabel(\"Varianza explicada acumulada\")\n",
    "plt.title(\"Scree plot PCA\")\n",
    "plt.grid(True)\n",
    "plt.show()\n"
   ]
  },
  {
   "cell_type": "code",
   "execution_count": 60,
   "id": "cb1ba679",
   "metadata": {},
   "outputs": [
    {
     "data": {
      "image/png": "[encoded data removed]",
      "text/plain": [
       "<Figure size 1000x800 with 1 Axes>"
      ]
     },
     "metadata": {},
     "output_type": "display_data"
    }
   ],
   "source": [
    "import numpy as np\n",
    "import pandas as pd\n",
    "import matplotlib.pyplot as plt\n",
    "from sklearn.preprocessing import StandardScaler\n",
    "from sklearn.decomposition import PCA\n",
    "\n",
    "# --- Datos: usa tus columnas numéricas del iris ---\n",
    "X = iris_data[[\"PetalLengthCm\", \"PetalWidthCm\", \"SepalLengthCm\", \"SepalWidthCm\"]].copy()\n",
    "y = iris_data[\"Species\"].astype(str).values\n",
    "\n",
    "# 1) Estandarizar\n",
    "Z = StandardScaler().fit_transform(X)\n",
    "\n",
    "# 2) PCA (2 componentes)\n",
    "pca = PCA(n_components=2).fit(Z)\n",
    "scores = pca.transform(Z)                        # coordenadas de las muestras (PC space)\n",
    "loadings = pca.components_.T * np.sqrt(pca.explained_variance_)  # vectores de variables\n",
    "\n",
    "# 3) Escalado de flechas para que quepan en la figura\n",
    "#    (ajustamos flechas a ~60% del rango de los scores)\n",
    "scale = 0.6 * np.max(np.abs(scores))\n",
    "max_loading = np.max(np.sqrt((loadings**2).sum(axis=1)))\n",
    "loadings_scaled = loadings / max_loading * scale\n",
    "\n",
    "# 4) Plot\n",
    "plt.figure(figsize=(10,8))\n",
    "\n",
    "# puntos por especie\n",
    "for sp in np.unique(y):\n",
    "    mask = (y == sp)\n",
    "    plt.scatter(scores[mask, 0], scores[mask, 1], s=60, edgecolor=\"k\", alpha=0.8, label=sp)\n",
    "\n",
    "# flechas (variables)\n",
    "for i, var in enumerate(X.columns):\n",
    "    x0, y0 = 0, 0\n",
    "    x1, y1 = loadings_scaled[i, 0], loadings_scaled[i, 1]\n",
    "    plt.arrow(x0, y0, x1, y1, color=\"tab:gray\", width=0.0, head_width=0.08*scale/5, length_includes_head=True)\n",
    "    plt.text(x1*1.08, y1*1.08, var, fontsize=11, ha=\"center\", va=\"center\", color=\"tab:gray\")\n",
    "\n",
    "# ejes y leyenda\n",
    "expl = pca.explained_variance_ratio_ * 100\n",
    "plt.xlabel(f\"PC1 ({expl[0]:.1f}%)\")\n",
    "plt.ylabel(f\"PC2 ({expl[1]:.1f}%)\")\n",
    "plt.axhline(0, color=\"#aaa\", lw=1)\n",
    "plt.axvline(0, color=\"#aaa\", lw=1)\n",
    "#plt.legend(title=\"Species\")\n",
    "plt.title(\"Biplot PCA (scores + loadings)\")\n",
    "plt.tight_layout()\n",
    "plt.show()\n"
   ]
  }
 ],
 "metadata": {
  "kernelspec": {
   "display_name": "Python 3",
   "language": "python",
   "name": "python3"
  },
  "language_info": {
   "codemirror_mode": {
    "name": "ipython",
    "version": 3
   },
   "file_extension": ".py",
   "mimetype": "text/x-python",
   "name": "python",
   "nbconvert_exporter": "python",
   "pygments_lexer": "ipython3",
   "version": "3.13.5"
  }
 },
 "nbformat": 4,
 "nbformat_minor": 5
}
