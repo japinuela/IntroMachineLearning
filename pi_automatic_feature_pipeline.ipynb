{
 "cells": [
  {
   "cell_type": "code",
   "execution_count": 1,
   "id": "0d25ac48",
   "metadata": {},
   "outputs": [
    {
     "data": {
      "text/plain": [
       "((284, 80), (285, 80))"
      ]
     },
     "execution_count": 1,
     "metadata": {},
     "output_type": "execute_result"
    }
   ],
   "source": [
    "# ==== Celda 1: imports, datos y ruido ====\n",
    "import numpy as np\n",
    "import matplotlib.pyplot as plt\n",
    "\n",
    "from sklearn.datasets import load_breast_cancer\n",
    "from sklearn.model_selection import train_test_split\n",
    "\n",
    "# Datos base\n",
    "cancer = load_breast_cancer()\n",
    "X = cancer.data\n",
    "y = cancer.target\n",
    "\n",
    "# Añadimos ruido sintético (50 columnas) para emular el capítulo\n",
    "rng = np.random.RandomState(42)\n",
    "noise = rng.normal(size=(len(X), 50))\n",
    "\n",
    "X_w_noise = np.hstack([X, noise])\n",
    "\n",
    "# Nombres de columnas (30 reales + 50 ruido)\n",
    "feature_names = list(cancer.feature_names) + [f\"noise_{i}\" for i in range(noise.shape[1])]\n",
    "\n",
    "# Split (primero siempre)\n",
    "X_train, X_test, y_train, y_test = train_test_split(\n",
    "    X_w_noise, y, test_size=0.5, random_state=0, stratify=y\n",
    ")\n",
    "\n",
    "X_train.shape, X_test.shape\n"
   ]
  },
  {
   "cell_type": "code",
   "execution_count": 2,
   "id": "6462410c",
   "metadata": {},
   "outputs": [],
   "source": [
    "# ==== Celda 2: helpers ====\n",
    "import numpy as np\n",
    "\n",
    "def plot_mask(mask, title=\"Máscara de selección\"):\n",
    "    plt.matshow(mask.reshape(1, -1), cmap=\"gray_r\")\n",
    "    plt.title(title)\n",
    "    plt.xlabel(\"Índice de característica\")\n",
    "    plt.yticks([])\n",
    "    plt.show()\n",
    "\n",
    "def selected_names(mask, names):\n",
    "    return [n for m, n in zip(mask, names) if m]\n"
   ]
  },
  {
   "cell_type": "code",
   "execution_count": 3,
   "id": "b6fea2f0",
   "metadata": {},
   "outputs": [
    {
     "name": "stdout",
     "output_type": "stream",
     "text": [
      "== Univariante (SelectPercentile) ==\n",
      "Mejores params: {'clf__C': 10, 'select__percentile': 20}\n",
      "CV best AUC:   0.991\n",
      "Test AUC:      0.988\n"
     ]
    },
    {
     "data": {
      "image/png": "[encoded data removed]",
      "text/plain": [
       "<Figure size 1600x200 with 1 Axes>"
      ]
     },
     "metadata": {},
     "output_type": "display_data"
    },
    {
     "name": "stdout",
     "output_type": "stream",
     "text": [
      "Features seleccionadas (univariante):\n",
      "[np.str_('mean radius'), np.str_('mean perimeter'), np.str_('mean area'), np.str_('mean compactness'), np.str_('mean concavity'), np.str_('mean concave points'), np.str_('radius error'), np.str_('perimeter error'), np.str_('area error'), np.str_('concave points error'), np.str_('worst radius'), np.str_('worst perimeter'), np.str_('worst area'), np.str_('worst compactness'), np.str_('worst concavity'), np.str_('worst concave points')]\n"
     ]
    }
   ],
   "source": [
    "# ==== Celda 3A: univariante (SelectPercentile) + LogisticRegression ====\n",
    "from sklearn.feature_selection import SelectPercentile, f_classif\n",
    "from sklearn.pipeline import Pipeline\n",
    "from sklearn.linear_model import LogisticRegression\n",
    "from sklearn.model_selection import GridSearchCV\n",
    "\n",
    "pipe_uni = Pipeline(steps=[\n",
    "    (\"select\", SelectPercentile(score_func=f_classif, percentile=50)),\n",
    "    (\"clf\", LogisticRegression(max_iter=2000, solver=\"liblinear\"))\n",
    "])\n",
    "\n",
    "param_grid_uni = {\n",
    "    \"select__percentile\": [5, 10, 20, 30, 50, 80, 100],\n",
    "    \"clf__C\": [0.01, 0.1, 1, 10]\n",
    "}\n",
    "\n",
    "gs_uni = GridSearchCV(\n",
    "    pipe_uni,\n",
    "    param_grid_uni,\n",
    "    scoring={\"auc\": \"roc_auc\", \"acc\": \"accuracy\"},\n",
    "    refit=\"auc\",\n",
    "    cv=5,\n",
    "    n_jobs=-1\n",
    ")\n",
    "\n",
    "gs_uni.fit(X_train, y_train)\n",
    "\n",
    "print(\"== Univariante (SelectPercentile) ==\")\n",
    "print(\"Mejores params:\", gs_uni.best_params_)\n",
    "print(\"CV best AUC:   {:.3f}\".format(gs_uni.best_score_))\n",
    "print(\"Test AUC:      {:.3f}\".format(gs_uni.score(X_test, y_test)))\n",
    "\n",
    "# Extra: máscara y nombres seleccionados\n",
    "best_uni_selector = gs_uni.best_estimator_.named_steps[\"select\"]\n",
    "mask_uni = best_uni_selector.get_support()\n",
    "plot_mask(mask_uni, \"Máscara - Univariante (mejor modelo)\")\n",
    "print(\"Features seleccionadas (univariante):\")\n",
    "print(selected_names(mask_uni, feature_names))\n"
   ]
  },
  {
   "cell_type": "code",
   "execution_count": 4,
   "id": "4913e4e1",
   "metadata": {},
   "outputs": [
    {
     "name": "stdout",
     "output_type": "stream",
     "text": [
      "== Basado en modelo (SelectFromModel + RF) ==\n",
      "Mejores params: {'clf__C': 10, 'select__threshold': 'mean'}\n",
      "CV best AUC:   0.991\n",
      "Test AUC:      0.988\n"
     ]
    },
    {
     "data": {
      "image/png": "[encoded data removed]",
      "text/plain": [
       "<Figure size 1600x200 with 1 Axes>"
      ]
     },
     "metadata": {},
     "output_type": "display_data"
    },
    {
     "name": "stdout",
     "output_type": "stream",
     "text": [
      "Features seleccionadas (SelectFromModel):\n",
      "[np.str_('mean radius'), np.str_('mean perimeter'), np.str_('mean area'), np.str_('mean compactness'), np.str_('mean concavity'), np.str_('mean concave points'), np.str_('radius error'), np.str_('perimeter error'), np.str_('area error'), np.str_('worst radius'), np.str_('worst perimeter'), np.str_('worst area'), np.str_('worst compactness'), np.str_('worst concavity'), np.str_('worst concave points'), np.str_('worst symmetry')]\n"
     ]
    }
   ],
   "source": [
    "# ==== Celda 4A: SelectFromModel (RandomForest) + LogisticRegression ====\n",
    "from sklearn.feature_selection import SelectFromModel\n",
    "from sklearn.ensemble import RandomForestClassifier\n",
    "\n",
    "pipe_sfm = Pipeline(steps=[\n",
    "    (\"select\", SelectFromModel(\n",
    "        estimator=RandomForestClassifier(n_estimators=300, random_state=42, n_jobs=-1),\n",
    "        threshold=\"median\"\n",
    "    )),\n",
    "    (\"clf\", LogisticRegression(max_iter=2000, solver=\"liblinear\"))\n",
    "])\n",
    "\n",
    "# 'threshold' acepta \"mean\", \"median\" o expresiones tipo \"1.5*mean\"\n",
    "param_grid_sfm = {\n",
    "    \"select__threshold\": [\"median\", \"mean\", \"0.5*mean\", \"1.5*median\"],\n",
    "    \"clf__C\": [0.01, 0.1, 1, 10]\n",
    "}\n",
    "\n",
    "gs_sfm = GridSearchCV(\n",
    "    pipe_sfm,\n",
    "    param_grid_sfm,\n",
    "    scoring={\"auc\": \"roc_auc\", \"acc\": \"accuracy\"},\n",
    "    refit=\"auc\",\n",
    "    cv=5,\n",
    "    n_jobs=-1\n",
    ")\n",
    "\n",
    "gs_sfm.fit(X_train, y_train)\n",
    "\n",
    "print(\"== Basado en modelo (SelectFromModel + RF) ==\")\n",
    "print(\"Mejores params:\", gs_sfm.best_params_)\n",
    "print(\"CV best AUC:   {:.3f}\".format(gs_sfm.best_score_))\n",
    "print(\"Test AUC:      {:.3f}\".format(gs_sfm.score(X_test, y_test)))\n",
    "\n",
    "best_sfm_selector = gs_sfm.best_estimator_.named_steps[\"select\"]\n",
    "mask_sfm = best_sfm_selector.get_support()\n",
    "plot_mask(mask_sfm, \"Máscara - SelectFromModel (mejor RF)\")\n",
    "print(\"Features seleccionadas (SelectFromModel):\")\n",
    "print(selected_names(mask_sfm, feature_names))\n"
   ]
  },
  {
   "cell_type": "code",
   "execution_count": 5,
   "id": "ef026c22",
   "metadata": {},
   "outputs": [
    {
     "name": "stdout",
     "output_type": "stream",
     "text": [
      "== RFE (con LR) ==\n",
      "Mejores params: {'clf__C': 0.1, 'select__n_features_to_select': 60}\n",
      "CV best AUC:   0.965\n",
      "Test AUC:      0.953\n"
     ]
    },
    {
     "data": {
      "image/png": "[encoded data removed]",
      "text/plain": [
       "<Figure size 1600x200 with 1 Axes>"
      ]
     },
     "metadata": {},
     "output_type": "display_data"
    },
    {
     "name": "stdout",
     "output_type": "stream",
     "text": [
      "Features seleccionadas (RFE):\n",
      "[np.str_('mean radius'), np.str_('mean texture'), np.str_('mean smoothness'), np.str_('mean concavity'), np.str_('mean concave points'), np.str_('mean symmetry'), np.str_('radius error'), np.str_('texture error'), np.str_('perimeter error'), np.str_('area error'), np.str_('worst radius'), np.str_('worst texture'), np.str_('worst perimeter'), np.str_('worst smoothness'), np.str_('worst compactness'), np.str_('worst concavity'), np.str_('worst concave points'), np.str_('worst symmetry'), np.str_('worst fractal dimension'), 'noise_0', 'noise_2', 'noise_3', 'noise_4', 'noise_5', 'noise_6', 'noise_9', 'noise_10', 'noise_11', 'noise_12', 'noise_13', 'noise_14', 'noise_15', 'noise_16', 'noise_17', 'noise_19', 'noise_20', 'noise_21', 'noise_22', 'noise_24', 'noise_25', 'noise_26', 'noise_27', 'noise_28', 'noise_30', 'noise_31', 'noise_32', 'noise_33', 'noise_36', 'noise_37', 'noise_38', 'noise_39', 'noise_40', 'noise_42', 'noise_43', 'noise_44', 'noise_45', 'noise_46', 'noise_47', 'noise_48', 'noise_49']\n"
     ]
    }
   ],
   "source": [
    "# ==== Celda 5A: RFE + LogisticRegression ====\n",
    "from sklearn.feature_selection import RFE\n",
    "\n",
    "# Usamos un estimador lineal estable y rápido para RFE\n",
    "base_lr = LogisticRegression(max_iter=2000, solver=\"liblinear\")\n",
    "\n",
    "pipe_rfe = Pipeline(steps=[\n",
    "    (\"select\", RFE(estimator=base_lr, n_features_to_select=30, step=0.1)),\n",
    "    (\"clf\", LogisticRegression(max_iter=2000, solver=\"liblinear\"))\n",
    "])\n",
    "\n",
    "param_grid_rfe = {\n",
    "    \"select__n_features_to_select\": [10, 20, 30, 40, 60],\n",
    "    \"clf__C\": [0.01, 0.1, 1, 10]\n",
    "}\n",
    "\n",
    "gs_rfe = GridSearchCV(\n",
    "    pipe_rfe,\n",
    "    param_grid_rfe,\n",
    "    scoring={\"auc\": \"roc_auc\", \"acc\": \"accuracy\"},\n",
    "    refit=\"auc\",\n",
    "    cv=5,\n",
    "    n_jobs=-1\n",
    ")\n",
    "\n",
    "gs_rfe.fit(X_train, y_train)\n",
    "\n",
    "print(\"== RFE (con LR) ==\")\n",
    "print(\"Mejores params:\", gs_rfe.best_params_)\n",
    "print(\"CV best AUC:   {:.3f}\".format(gs_rfe.best_score_))\n",
    "print(\"Test AUC:      {:.3f}\".format(gs_rfe.score(X_test, y_test)))\n",
    "\n",
    "best_rfe_selector = gs_rfe.best_estimator_.named_steps[\"select\"]\n",
    "mask_rfe = best_rfe_selector.get_support()\n",
    "plot_mask(mask_rfe, \"Máscara - RFE (mejor modelo)\")\n",
    "print(\"Features seleccionadas (RFE):\")\n",
    "print(selected_names(mask_rfe, feature_names))\n"
   ]
  },
  {
   "cell_type": "code",
   "execution_count": 6,
   "id": "008b4a1c",
   "metadata": {},
   "outputs": [
    {
     "name": "stdout",
     "output_type": "stream",
     "text": [
      "== Baseline (todas las features) ==\n",
      "Test AUC (LR sin selección): 0.979\n",
      "\n",
      "== Resumen (AUC en test) ==\n",
      "Univariante  : 0.988\n",
      "SFM (RF)     : 0.988\n",
      "RFE (LR)     : 0.953\n",
      "Baseline (LR): 0.979\n"
     ]
    }
   ],
   "source": [
    "# ==== Celda 6: baseline y resumen ====\n",
    "from sklearn.metrics import roc_auc_score\n",
    "\n",
    "baseline_lr = LogisticRegression(max_iter=2000, solver=\"liblinear\").fit(X_train, y_train)\n",
    "y_proba_base = baseline_lr.predict_proba(X_test)[:, 1]\n",
    "baseline_auc = roc_auc_score(y_test, y_proba_base)\n",
    "\n",
    "print(\"== Baseline (todas las features) ==\")\n",
    "print(\"Test AUC (LR sin selección): {:.3f}\".format(baseline_auc))\n",
    "\n",
    "print(\"\\n== Resumen (AUC en test) ==\")\n",
    "print(\"Univariante  : {:.3f}\".format(gs_uni.score(X_test, y_test)))\n",
    "print(\"SFM (RF)     : {:.3f}\".format(gs_sfm.score(X_test, y_test)))\n",
    "print(\"RFE (LR)     : {:.3f}\".format(gs_rfe.score(X_test, y_test)))\n",
    "print(\"Baseline (LR): {:.3f}\".format(baseline_auc))\n"
   ]
  }
 ],
 "metadata": {
  "kernelspec": {
   "display_name": "Python 3",
   "language": "python",
   "name": "python3"
  },
  "language_info": {
   "codemirror_mode": {
    "name": "ipython",
    "version": 3
   },
   "file_extension": ".py",
   "mimetype": "text/x-python",
   "name": "python",
   "nbconvert_exporter": "python",
   "pygments_lexer": "ipython3",
   "version": "3.13.5"
  }
 },
 "nbformat": 4,
 "nbformat_minor": 5
}
