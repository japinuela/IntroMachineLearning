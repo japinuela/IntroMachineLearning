{
 "cells": [
  {
   "cell_type": "code",
   "execution_count": 1,
   "id": "50de5b06",
   "metadata": {},
   "outputs": [
    {
     "data": {
      "text/plain": [
       "((284, 80), (285, 80))"
      ]
     },
     "execution_count": 1,
     "metadata": {},
     "output_type": "execute_result"
    }
   ],
   "source": [
    "# === Celda 1: imports y datos base ===\n",
    "import numpy as np\n",
    "import matplotlib.pyplot as plt\n",
    "\n",
    "from sklearn.datasets import load_breast_cancer\n",
    "from sklearn.model_selection import train_test_split\n",
    "\n",
    "# Cargamos el dataset de cáncer (clasificación binaria)\n",
    "cancer = load_breast_cancer()\n",
    "\n",
    "# Fijamos aleatoriedad y generamos 50 características de ruido\n",
    "rng = np.random.RandomState(42)\n",
    "noise = rng.normal(size=(len(cancer.data), 50))\n",
    "\n",
    "# Apilamos: primeras 30 son reales, siguientes 50 son ruido (80 en total)\n",
    "X_w_noise = np.hstack([cancer.data, noise])\n",
    "y = cancer.target\n",
    "\n",
    "# Split 50/50 como en el ejemplo del libro\n",
    "X_train, X_test, y_train, y_test = train_test_split(\n",
    "    X_w_noise, y, random_state=0, test_size=0.5\n",
    ")\n",
    "\n",
    "X_train.shape, X_test.shape\n"
   ]
  },
  {
   "cell_type": "code",
   "execution_count": 7,
   "id": "565d7aba",
   "metadata": {},
   "outputs": [
    {
     "name": "stdout",
     "output_type": "stream",
     "text": [
      "X_train: (284, 80)  -> X_train_selected: (284, 40)\n"
     ]
    },
    {
     "data": {
      "image/png": "[encoded data removed]",
      "text/plain": [
       "<Figure size 1600x200 with 1 Axes>"
      ]
     },
     "metadata": {},
     "output_type": "display_data"
    },
    {
     "name": "stdout",
     "output_type": "stream",
     "text": [
      "Score con todas las features: 0.951\n",
      "Score solo con seleccionadas: 0.933\n"
     ]
    }
   ],
   "source": [
    "# === Celda 2: Univariate feature selection ===\n",
    "from sklearn.feature_selection import SelectPercentile, f_classif\n",
    "from sklearn.linear_model import LogisticRegression\n",
    "\n",
    "# Seleccionamos el 50% de las características con mejor relación con y\n",
    "select = SelectPercentile(score_func=f_classif, percentile=50)\n",
    "select.fit(X_train, y_train)\n",
    "\n",
    "# Transformamos train y test\n",
    "X_train_selected = select.transform(X_train)\n",
    "X_test_selected  = select.transform(X_test)\n",
    "\n",
    "print(\"X_train:\", X_train.shape, \" -> X_train_selected:\", X_train_selected.shape)\n",
    "\n",
    "# Visualizar máscara de selección (negro=True=seleccionada)\n",
    "mask = select.get_support()\n",
    "plt.matshow(mask.reshape(1, -1), cmap='gray_r')\n",
    "plt.xlabel(\"Índice de característica\")\n",
    "plt.yticks([])\n",
    "plt.show()\n",
    "\n",
    "# Entrenamos y comparamos regresión logística con y sin selección\n",
    "lr = LogisticRegression(max_iter=3000)  # max_iter alto para evitar warnings\n",
    "lr.fit(X_train, y_train)\n",
    "print(\"Score con todas las features: {:.3f}\".format(lr.score(X_test, y_test)))\n",
    "\n",
    "lr.fit(X_train_selected, y_train)\n",
    "print(\"Score solo con seleccionadas: {:.3f}\".format(lr.score(X_test_selected, y_test)))\n"
   ]
  },
  {
   "cell_type": "code",
   "execution_count": 9,
   "id": "5a85cfb2",
   "metadata": {},
   "outputs": [
    {
     "name": "stdout",
     "output_type": "stream",
     "text": [
      "X_train: (284, 80)  -> X_train_sfm: (284, 40)\n"
     ]
    },
    {
     "data": {
      "image/png": "[encoded data removed]",
      "text/plain": [
       "<Figure size 1600x200 with 1 Axes>"
      ]
     },
     "metadata": {},
     "output_type": "display_data"
    },
    {
     "name": "stdout",
     "output_type": "stream",
     "text": [
      "Test score (LR sobre SelectFromModel): 0.947\n"
     ]
    }
   ],
   "source": [
    "# === Celda 3: Model-based selection (feature_importances_) ===\n",
    "from sklearn.feature_selection import SelectFromModel\n",
    "from sklearn.ensemble import RandomForestClassifier\n",
    "\n",
    "# Umbral = \"median\" para quedarnos con ~la mitad según importancias\n",
    "sfm = SelectFromModel(\n",
    "    RandomForestClassifier(n_estimators=100, random_state=42),\n",
    "    threshold=\"median\"\n",
    ")\n",
    "\n",
    "sfm.fit(X_train, y_train)\n",
    "X_train_sfm = sfm.transform(X_train)\n",
    "X_test_sfm  = sfm.transform(X_test)\n",
    "\n",
    "print(\"X_train:\", X_train.shape, \" -> X_train_sfm:\", X_train_sfm.shape)\n",
    "\n",
    "# Máscara visual\n",
    "mask = sfm.get_support()\n",
    "plt.matshow(mask.reshape(1, -1), cmap='gray_r')\n",
    "plt.xlabel(\"Índice de característica\")\n",
    "plt.yticks([])\n",
    "plt.show()\n",
    "\n",
    "# Evaluación con LogisticRegression sobre las features seleccionadas\n",
    "lr = LogisticRegression(max_iter=3000)\n",
    "lr.fit(X_train_sfm, y_train)\n",
    "print(\"Test score (LR sobre SelectFromModel): {:.3f}\".format(lr.score(X_test_sfm, y_test)))\n"
   ]
  },
  {
   "cell_type": "code",
   "execution_count": null,
   "id": "a74bd2ac",
   "metadata": {},
   "outputs": [],
   "source": [
    "# === Celda 4: RFE con RandomForest ===\n",
    "from sklearn.feature_selection import RFE\n",
    "\n",
    "# Mantener 40 características (como en el capítulo)\n",
    "rfe = RFE(\n",
    "    estimator=RandomForestClassifier(n_estimators=100, random_state=42),\n",
    "    n_features_to_select=40\n",
    ")\n",
    "rfe.fit(X_train, y_train)\n",
    "\n",
    "# Visual de la máscara\n",
    "mask = rfe.get_support()\n",
    "plt.matshow(mask.reshape(1, -1), cmap='gray_r')\n",
    "plt.xlabel(\"Índice de característica\")\n",
    "plt.yticks([])\n",
    "plt.show()\n",
    "\n",
    "# Transformaciones\n",
    "X_train_rfe = rfe.transform(X_train)\n",
    "X_test_rfe  = rfe.transform(X_test)\n",
    "\n",
    "# 1) LogisticRegression sobre las features seleccionadas por RFE\n",
    "lr = LogisticRegression(max_iter=3000)\n",
    "lr.fit(X_train_rfe, y_train)\n",
    "print(\"Test score (LR sobre RFE): {:.3f}\".format(lr.score(X_test_rfe, y_test)))\n",
    "\n",
    "# 2) (Opcional) Score del modelo interno (RandomForest) que usa RFE\n",
    "print(\"Test score (modelo interno RFE): {:.3f}\".format(rfe.score(X_test, y_test)))\n"
   ]
  }
 ],
 "metadata": {
  "kernelspec": {
   "display_name": "Python 3",
   "language": "python",
   "name": "python3"
  },
  "language_info": {
   "codemirror_mode": {
    "name": "ipython",
    "version": 3
   },
   "file_extension": ".py",
   "mimetype": "text/x-python",
   "name": "python",
   "nbconvert_exporter": "python",
   "pygments_lexer": "ipython3",
   "version": "3.13.5"
  }
 },
 "nbformat": 4,
 "nbformat_minor": 5
}
